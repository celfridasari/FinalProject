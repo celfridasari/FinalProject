{
  "nbformat": 4,
  "nbformat_minor": 0,
  "metadata": {
    "colab": {
      "name": "SCIPY_Final_Project-Preprocessing-Kesimpulan.ipynb",
      "provenance": [],
      "collapsed_sections": [
        "ESQsGrq_kZGx",
        "JlhyvMME6ReM",
        "9PfaVgTv-Fb_",
        "GAdB5o6xsDk3",
        "tlundMWACoQg",
        "QdSNJJ9Dt16j",
        "PgVilWqnp5ya",
        "a8Sa0Ri6o8zr",
        "6yZ1B1jT0ExO",
        "4EYLtZDNLu9n",
        "MnbhFPIgMRB-",
        "vS1WqrPuDXBn",
        "JJAllTqrqTOP",
        "48OEmVKZDK-y",
        "zTg53GQcdPX0",
        "14yAbFbEuJUd",
        "GbG4zNiLtrx-",
        "7IjcigM2nzsV"
      ]
    },
    "kernelspec": {
      "name": "python3",
      "display_name": "Python 3"
    },
    "language_info": {
      "name": "python"
    }
  },
  "cells": [
    {
      "cell_type": "markdown",
      "metadata": {
        "id": "ESQsGrq_kZGx"
      },
      "source": [
        "# Import Module & dataset"
      ]
    },
    {
      "cell_type": "code",
      "metadata": {
        "id": "XU3KdM6sjx1J",
        "colab": {
          "base_uri": "https://localhost:8080/"
        },
        "outputId": "0d330a68-ad59-48dd-d9c1-d6e029c5768f"
      },
      "source": [
        "import pandas as pd\n",
        "import numpy as np\n",
        "from pandas import datetime\n",
        "from sklearn.cluster import AgglomerativeClustering\n",
        "\n",
        "from sklearn.metrics import silhouette_score\n",
        "\n",
        "import seaborn as sns\n",
        "import matplotlib.pyplot as plt\n",
        "\n",
        "import scipy.stats as stats\n",
        "from scipy.stats import spearmanr\n",
        "\n",
        "from sklearn.datasets import load_boston\n",
        "\n",
        "from sklearn.preprocessing import MinMaxScaler\n",
        "from sklearn.model_selection import train_test_split\n",
        "\n",
        "\n",
        "from sklearn.neighbors import KNeighborsClassifier\n",
        "from sklearn.tree import DecisionTreeClassifier\n",
        "from sklearn.linear_model import LogisticRegression, LinearRegression, Lasso, Ridge\n",
        "\n",
        "from sklearn.metrics import accuracy_score\n",
        "from sklearn.metrics import mean_squared_error\n",
        "from sklearn.preprocessing import StandardScaler\n",
        "from sklearn.preprocessing import RobustScaler\n",
        "from sklearn.preprocessing import OneHotEncoder\n",
        "from sklearn.compose import ColumnTransformer\n",
        "from sklearn.impute import SimpleImputer\n",
        "from sklearn.feature_selection import SelectPercentile\n",
        "from sklearn import metrics\n",
        "from sklearn.linear_model import LinearRegression\n",
        "from sklearn.model_selection import cross_val_score\n",
        "from sklearn.metrics import recall_score\n",
        "from sklearn.metrics import precision_score\n",
        "from sklearn.metrics import f1_score\n",
        "from sklearn.model_selection import cross_val_score, StratifiedKFold\n",
        "from sklearn.metrics import confusion_matrix,classification_report,f1_score,recall_score,precision_score\n",
        "from sklearn.metrics import plot_roc_curve,plot_precision_recall_curve\n",
        "import matplotlib.pyplot as plt\n",
        "from sklearn.model_selection import cross_val_score, GridSearchCV, train_test_split, StratifiedKFold\n",
        "\n",
        "\n",
        "\n",
        "from sklearn.model_selection import train_test_split\n",
        "from imblearn.over_sampling import RandomOverSampler, SMOTE\n",
        "from imblearn.under_sampling import RandomUnderSampler, NearMiss\n",
        "from sklearn.ensemble import VotingClassifier\n",
        "from sklearn.ensemble import RandomForestClassifier\n",
        "from sklearn.ensemble import AdaBoostClassifier\n",
        "from sklearn.datasets import make_classification\n",
        "from sklearn import tree\n",
        "import graphviz\n",
        "\n",
        "from numpy import loadtxt\n",
        "from xgboost import XGBClassifier\n",
        "from sklearn.model_selection import train_test_split\n",
        "from sklearn.metrics import accuracy_score\n",
        "from numpy import loadtxt\n",
        "from xgboost import XGBClassifier\n",
        "\n",
        "from sklearn.tree import export_graphviz\n",
        "from sklearn.externals.six import StringIO  \n",
        "from IPython.display import Image  \n",
        "import pydotplus\n",
        "from sklearn.tree import plot_tree\n",
        "from sklearn.ensemble import GradientBoostingClassifier\n",
        "from xgboost import XGBClassifier\n",
        "from sklearn.pipeline import Pipeline\n",
        "\n",
        "from statsmodels.tsa.arima_model import ARIMA\n",
        "from statsmodels.graphics.tsaplots import plot_acf, plot_pacf\n",
        "from statsmodels.tsa.stattools import adfuller\n",
        "\n",
        "from sklearn.model_selection import RandomizedSearchCV\n",
        "\n",
        "import warnings\n",
        "warnings.filterwarnings('ignore')"
      ],
      "execution_count": null,
      "outputs": [
        {
          "output_type": "stream",
          "text": [
            "/usr/local/lib/python3.7/dist-packages/ipykernel_launcher.py:3: FutureWarning: The pandas.datetime class is deprecated and will be removed from pandas in a future version. Import from datetime module instead.\n",
            "  This is separate from the ipykernel package so we can avoid doing imports until\n",
            "/usr/local/lib/python3.7/dist-packages/sklearn/externals/six.py:31: FutureWarning: The module is deprecated in version 0.21 and will be removed in version 0.23 since we've dropped support for Python 2.7. Please rely on the official version of six (https://pypi.org/project/six/).\n",
            "  \"(https://pypi.org/project/six/).\", FutureWarning)\n",
            "/usr/local/lib/python3.7/dist-packages/sklearn/utils/deprecation.py:144: FutureWarning: The sklearn.neighbors.base module is  deprecated in version 0.22 and will be removed in version 0.24. The corresponding classes / functions should instead be imported from sklearn.neighbors. Anything that cannot be imported from sklearn.neighbors is now part of the private API.\n",
            "  warnings.warn(message, FutureWarning)\n",
            "/usr/local/lib/python3.7/dist-packages/statsmodels/tools/_testing.py:19: FutureWarning: pandas.util.testing is deprecated. Use the functions in the public API at pandas.testing instead.\n",
            "  import pandas.util.testing as tm\n"
          ],
          "name": "stderr"
        }
      ]
    },
    {
      "cell_type": "code",
      "metadata": {
        "colab": {
          "resources": {
            "http://localhost:8080/nbextensions/google.colab/files.js": {
              "data": "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",
              "ok": true,
              "headers": [
                [
                  "content-type",
                  "application/javascript"
                ]
              ],
              "status": 200,
              "status_text": ""
            }
          },
          "base_uri": "https://localhost:8080/",
          "height": 72
        },
        "id": "oGNH8cE6kdbK",
        "outputId": "09022ce8-7ec1-4919-c563-1eca65b5b0e7"
      },
      "source": [
        "from google.colab import files\n",
        "upload = files.upload()"
      ],
      "execution_count": null,
      "outputs": [
        {
          "output_type": "display_data",
          "data": {
            "text/html": [
              "\n",
              "     <input type=\"file\" id=\"files-662e1fee-4558-4bde-98dd-d48f5bd9a89e\" name=\"files[]\" multiple disabled\n",
              "        style=\"border:none\" />\n",
              "     <output id=\"result-662e1fee-4558-4bde-98dd-d48f5bd9a89e\">\n",
              "      Upload widget is only available when the cell has been executed in the\n",
              "      current browser session. Please rerun this cell to enable.\n",
              "      </output>\n",
              "      <script src=\"/nbextensions/google.colab/files.js\"></script> "
            ],
            "text/plain": [
              "<IPython.core.display.HTML object>"
            ]
          },
          "metadata": {
            "tags": []
          }
        },
        {
          "output_type": "stream",
          "text": [
            "Saving bank-additional-full.csv to bank-additional-full.csv\n"
          ],
          "name": "stdout"
        }
      ]
    },
    {
      "cell_type": "code",
      "metadata": {
        "id": "HzTRXlW3k4CV",
        "colab": {
          "base_uri": "https://localhost:8080/",
          "height": 204
        },
        "outputId": "dbd2b80d-4401-49b4-f897-549a4731189a"
      },
      "source": [
        "df = pd.read_csv('bank-additional-full.csv',sep=';')\n",
        "df.head()"
      ],
      "execution_count": null,
      "outputs": [
        {
          "output_type": "execute_result",
          "data": {
            "text/html": [
              "<div>\n",
              "<style scoped>\n",
              "    .dataframe tbody tr th:only-of-type {\n",
              "        vertical-align: middle;\n",
              "    }\n",
              "\n",
              "    .dataframe tbody tr th {\n",
              "        vertical-align: top;\n",
              "    }\n",
              "\n",
              "    .dataframe thead th {\n",
              "        text-align: right;\n",
              "    }\n",
              "</style>\n",
              "<table border=\"1\" class=\"dataframe\">\n",
              "  <thead>\n",
              "    <tr style=\"text-align: right;\">\n",
              "      <th></th>\n",
              "      <th>age</th>\n",
              "      <th>job</th>\n",
              "      <th>marital</th>\n",
              "      <th>education</th>\n",
              "      <th>default</th>\n",
              "      <th>housing</th>\n",
              "      <th>loan</th>\n",
              "      <th>contact</th>\n",
              "      <th>month</th>\n",
              "      <th>day_of_week</th>\n",
              "      <th>duration</th>\n",
              "      <th>campaign</th>\n",
              "      <th>pdays</th>\n",
              "      <th>previous</th>\n",
              "      <th>poutcome</th>\n",
              "      <th>emp.var.rate</th>\n",
              "      <th>cons.price.idx</th>\n",
              "      <th>cons.conf.idx</th>\n",
              "      <th>euribor3m</th>\n",
              "      <th>nr.employed</th>\n",
              "      <th>y</th>\n",
              "    </tr>\n",
              "  </thead>\n",
              "  <tbody>\n",
              "    <tr>\n",
              "      <th>0</th>\n",
              "      <td>56</td>\n",
              "      <td>housemaid</td>\n",
              "      <td>married</td>\n",
              "      <td>basic.4y</td>\n",
              "      <td>no</td>\n",
              "      <td>no</td>\n",
              "      <td>no</td>\n",
              "      <td>telephone</td>\n",
              "      <td>may</td>\n",
              "      <td>mon</td>\n",
              "      <td>261</td>\n",
              "      <td>1</td>\n",
              "      <td>999</td>\n",
              "      <td>0</td>\n",
              "      <td>nonexistent</td>\n",
              "      <td>1.1</td>\n",
              "      <td>93.994</td>\n",
              "      <td>-36.4</td>\n",
              "      <td>4.857</td>\n",
              "      <td>5191.0</td>\n",
              "      <td>no</td>\n",
              "    </tr>\n",
              "    <tr>\n",
              "      <th>1</th>\n",
              "      <td>57</td>\n",
              "      <td>services</td>\n",
              "      <td>married</td>\n",
              "      <td>high.school</td>\n",
              "      <td>unknown</td>\n",
              "      <td>no</td>\n",
              "      <td>no</td>\n",
              "      <td>telephone</td>\n",
              "      <td>may</td>\n",
              "      <td>mon</td>\n",
              "      <td>149</td>\n",
              "      <td>1</td>\n",
              "      <td>999</td>\n",
              "      <td>0</td>\n",
              "      <td>nonexistent</td>\n",
              "      <td>1.1</td>\n",
              "      <td>93.994</td>\n",
              "      <td>-36.4</td>\n",
              "      <td>4.857</td>\n",
              "      <td>5191.0</td>\n",
              "      <td>no</td>\n",
              "    </tr>\n",
              "    <tr>\n",
              "      <th>2</th>\n",
              "      <td>37</td>\n",
              "      <td>services</td>\n",
              "      <td>married</td>\n",
              "      <td>high.school</td>\n",
              "      <td>no</td>\n",
              "      <td>yes</td>\n",
              "      <td>no</td>\n",
              "      <td>telephone</td>\n",
              "      <td>may</td>\n",
              "      <td>mon</td>\n",
              "      <td>226</td>\n",
              "      <td>1</td>\n",
              "      <td>999</td>\n",
              "      <td>0</td>\n",
              "      <td>nonexistent</td>\n",
              "      <td>1.1</td>\n",
              "      <td>93.994</td>\n",
              "      <td>-36.4</td>\n",
              "      <td>4.857</td>\n",
              "      <td>5191.0</td>\n",
              "      <td>no</td>\n",
              "    </tr>\n",
              "    <tr>\n",
              "      <th>3</th>\n",
              "      <td>40</td>\n",
              "      <td>admin.</td>\n",
              "      <td>married</td>\n",
              "      <td>basic.6y</td>\n",
              "      <td>no</td>\n",
              "      <td>no</td>\n",
              "      <td>no</td>\n",
              "      <td>telephone</td>\n",
              "      <td>may</td>\n",
              "      <td>mon</td>\n",
              "      <td>151</td>\n",
              "      <td>1</td>\n",
              "      <td>999</td>\n",
              "      <td>0</td>\n",
              "      <td>nonexistent</td>\n",
              "      <td>1.1</td>\n",
              "      <td>93.994</td>\n",
              "      <td>-36.4</td>\n",
              "      <td>4.857</td>\n",
              "      <td>5191.0</td>\n",
              "      <td>no</td>\n",
              "    </tr>\n",
              "    <tr>\n",
              "      <th>4</th>\n",
              "      <td>56</td>\n",
              "      <td>services</td>\n",
              "      <td>married</td>\n",
              "      <td>high.school</td>\n",
              "      <td>no</td>\n",
              "      <td>no</td>\n",
              "      <td>yes</td>\n",
              "      <td>telephone</td>\n",
              "      <td>may</td>\n",
              "      <td>mon</td>\n",
              "      <td>307</td>\n",
              "      <td>1</td>\n",
              "      <td>999</td>\n",
              "      <td>0</td>\n",
              "      <td>nonexistent</td>\n",
              "      <td>1.1</td>\n",
              "      <td>93.994</td>\n",
              "      <td>-36.4</td>\n",
              "      <td>4.857</td>\n",
              "      <td>5191.0</td>\n",
              "      <td>no</td>\n",
              "    </tr>\n",
              "  </tbody>\n",
              "</table>\n",
              "</div>"
            ],
            "text/plain": [
              "   age        job  marital  ... euribor3m nr.employed   y\n",
              "0   56  housemaid  married  ...     4.857      5191.0  no\n",
              "1   57   services  married  ...     4.857      5191.0  no\n",
              "2   37   services  married  ...     4.857      5191.0  no\n",
              "3   40     admin.  married  ...     4.857      5191.0  no\n",
              "4   56   services  married  ...     4.857      5191.0  no\n",
              "\n",
              "[5 rows x 21 columns]"
            ]
          },
          "metadata": {
            "tags": []
          },
          "execution_count": 4
        }
      ]
    },
    {
      "cell_type": "code",
      "metadata": {
        "id": "-qq7V8uUlKoS"
      },
      "source": [
        "#Mapping value target\n",
        "df['y'] = df['y'].map({'no':0, 'yes':1})"
      ],
      "execution_count": null,
      "outputs": []
    },
    {
      "cell_type": "code",
      "metadata": {
        "id": "4h2lm69tCN82"
      },
      "source": [
        "df_new=df.copy()"
      ],
      "execution_count": null,
      "outputs": []
    },
    {
      "cell_type": "markdown",
      "metadata": {
        "id": "JlhyvMME6ReM"
      },
      "source": [
        "# Create Dataset New"
      ]
    },
    {
      "cell_type": "markdown",
      "metadata": {
        "id": "xOoEo3NY7IBv"
      },
      "source": [
        "Berdasarkan insight dari EDA, maka dataset yang baru hanya akan terdiri dari feature-feature yang memiliki korelasi terhadap target."
      ]
    },
    {
      "cell_type": "code",
      "metadata": {
        "id": "OdS3uQue6Tyb"
      },
      "source": [
        "df_new=df[['age','campaign','pdays','previous','emp.var.rate','cons.price.idx','cons.conf.idx','euribor3m','nr.employed','y','job','education','contact','month','poutcome']]"
      ],
      "execution_count": null,
      "outputs": []
    },
    {
      "cell_type": "code",
      "metadata": {
        "colab": {
          "base_uri": "https://localhost:8080/"
        },
        "id": "eDYg-2ndsN2q",
        "outputId": "f08650a9-1967-4ae6-82bc-b203adb4235a"
      },
      "source": [
        "df_new['y'].value_counts()"
      ],
      "execution_count": null,
      "outputs": [
        {
          "output_type": "execute_result",
          "data": {
            "text/plain": [
              "0    36548\n",
              "1     4640\n",
              "Name: y, dtype: int64"
            ]
          },
          "metadata": {
            "tags": []
          },
          "execution_count": 8
        }
      ]
    },
    {
      "cell_type": "code",
      "metadata": {
        "id": "Tkk2FKfvsYfr",
        "colab": {
          "base_uri": "https://localhost:8080/",
          "height": 286
        },
        "outputId": "0b1cfddd-9551-4889-a816-87718810f3c4"
      },
      "source": [
        "plt.pie(df_new['y'].value_counts(),labels = ['No','Yes'],autopct='%.2f',explode=(0.1,0))\n",
        "plt.axis('equal')\n",
        "plt.title('Customer with Deposito',size = 20)"
      ],
      "execution_count": null,
      "outputs": [
        {
          "output_type": "execute_result",
          "data": {
            "text/plain": [
              "Text(0.5, 1.0, 'Customer with Deposito')"
            ]
          },
          "metadata": {
            "tags": []
          },
          "execution_count": 9
        },
        {
          "output_type": "display_data",
          "data": {
            "image/png": "[encoded data removed]",
            "text/plain": [
              "<Figure size 432x288 with 1 Axes>"
            ]
          },
          "metadata": {
            "tags": []
          }
        }
      ]
    },
    {
      "cell_type": "markdown",
      "metadata": {
        "id": "9PfaVgTv-Fb_"
      },
      "source": [
        "# Grouping Feature Value"
      ]
    },
    {
      "cell_type": "markdown",
      "metadata": {
        "id": "ct7A9bpK9zcU"
      },
      "source": [
        "## Create Age classification"
      ]
    },
    {
      "cell_type": "code",
      "metadata": {
        "colab": {
          "base_uri": "https://localhost:8080/",
          "height": 204
        },
        "id": "7KmgK9PG9lzI",
        "outputId": "c094a0e3-a2ec-41df-8358-dba2173235d2"
      },
      "source": [
        "conditions= [(df_new['age'] >6) & (df_new['age'] <=22),\n",
        "             (df_new['age'] >22) & (df_new['age'] <=38),\n",
        "             (df_new['age'] >38) & (df_new['age'] <=54),\n",
        "             (df_new['age'] >54) & (df_new['age'] <=73),\n",
        "             (df_new['age'] >73)]\n",
        "values = ['Gen Z','Millenials','Gen x','Boomers','Silent Gen']\n",
        "df_new['age']=np.select(conditions,values)\n",
        "df_new.head()\n",
        "# Grouping age dilakukan untuk mempermudahkan interpretasi feature age\n",
        "# Grouping age dibagi berdasarkan kelompok generasi "
      ],
      "execution_count": null,
      "outputs": [
        {
          "output_type": "execute_result",
          "data": {
            "text/html": [
              "<div>\n",
              "<style scoped>\n",
              "    .dataframe tbody tr th:only-of-type {\n",
              "        vertical-align: middle;\n",
              "    }\n",
              "\n",
              "    .dataframe tbody tr th {\n",
              "        vertical-align: top;\n",
              "    }\n",
              "\n",
              "    .dataframe thead th {\n",
              "        text-align: right;\n",
              "    }\n",
              "</style>\n",
              "<table border=\"1\" class=\"dataframe\">\n",
              "  <thead>\n",
              "    <tr style=\"text-align: right;\">\n",
              "      <th></th>\n",
              "      <th>age</th>\n",
              "      <th>campaign</th>\n",
              "      <th>pdays</th>\n",
              "      <th>previous</th>\n",
              "      <th>emp.var.rate</th>\n",
              "      <th>cons.price.idx</th>\n",
              "      <th>cons.conf.idx</th>\n",
              "      <th>euribor3m</th>\n",
              "      <th>nr.employed</th>\n",
              "      <th>y</th>\n",
              "      <th>job</th>\n",
              "      <th>education</th>\n",
              "      <th>contact</th>\n",
              "      <th>month</th>\n",
              "      <th>poutcome</th>\n",
              "    </tr>\n",
              "  </thead>\n",
              "  <tbody>\n",
              "    <tr>\n",
              "      <th>0</th>\n",
              "      <td>Boomers</td>\n",
              "      <td>1</td>\n",
              "      <td>999</td>\n",
              "      <td>0</td>\n",
              "      <td>1.1</td>\n",
              "      <td>93.994</td>\n",
              "      <td>-36.4</td>\n",
              "      <td>4.857</td>\n",
              "      <td>5191.0</td>\n",
              "      <td>0</td>\n",
              "      <td>housemaid</td>\n",
              "      <td>basic.4y</td>\n",
              "      <td>telephone</td>\n",
              "      <td>may</td>\n",
              "      <td>nonexistent</td>\n",
              "    </tr>\n",
              "    <tr>\n",
              "      <th>1</th>\n",
              "      <td>Boomers</td>\n",
              "      <td>1</td>\n",
              "      <td>999</td>\n",
              "      <td>0</td>\n",
              "      <td>1.1</td>\n",
              "      <td>93.994</td>\n",
              "      <td>-36.4</td>\n",
              "      <td>4.857</td>\n",
              "      <td>5191.0</td>\n",
              "      <td>0</td>\n",
              "      <td>services</td>\n",
              "      <td>high.school</td>\n",
              "      <td>telephone</td>\n",
              "      <td>may</td>\n",
              "      <td>nonexistent</td>\n",
              "    </tr>\n",
              "    <tr>\n",
              "      <th>2</th>\n",
              "      <td>Millenials</td>\n",
              "      <td>1</td>\n",
              "      <td>999</td>\n",
              "      <td>0</td>\n",
              "      <td>1.1</td>\n",
              "      <td>93.994</td>\n",
              "      <td>-36.4</td>\n",
              "      <td>4.857</td>\n",
              "      <td>5191.0</td>\n",
              "      <td>0</td>\n",
              "      <td>services</td>\n",
              "      <td>high.school</td>\n",
              "      <td>telephone</td>\n",
              "      <td>may</td>\n",
              "      <td>nonexistent</td>\n",
              "    </tr>\n",
              "    <tr>\n",
              "      <th>3</th>\n",
              "      <td>Gen x</td>\n",
              "      <td>1</td>\n",
              "      <td>999</td>\n",
              "      <td>0</td>\n",
              "      <td>1.1</td>\n",
              "      <td>93.994</td>\n",
              "      <td>-36.4</td>\n",
              "      <td>4.857</td>\n",
              "      <td>5191.0</td>\n",
              "      <td>0</td>\n",
              "      <td>admin.</td>\n",
              "      <td>basic.6y</td>\n",
              "      <td>telephone</td>\n",
              "      <td>may</td>\n",
              "      <td>nonexistent</td>\n",
              "    </tr>\n",
              "    <tr>\n",
              "      <th>4</th>\n",
              "      <td>Boomers</td>\n",
              "      <td>1</td>\n",
              "      <td>999</td>\n",
              "      <td>0</td>\n",
              "      <td>1.1</td>\n",
              "      <td>93.994</td>\n",
              "      <td>-36.4</td>\n",
              "      <td>4.857</td>\n",
              "      <td>5191.0</td>\n",
              "      <td>0</td>\n",
              "      <td>services</td>\n",
              "      <td>high.school</td>\n",
              "      <td>telephone</td>\n",
              "      <td>may</td>\n",
              "      <td>nonexistent</td>\n",
              "    </tr>\n",
              "  </tbody>\n",
              "</table>\n",
              "</div>"
            ],
            "text/plain": [
              "          age  campaign  pdays  ...    contact  month     poutcome\n",
              "0     Boomers         1    999  ...  telephone    may  nonexistent\n",
              "1     Boomers         1    999  ...  telephone    may  nonexistent\n",
              "2  Millenials         1    999  ...  telephone    may  nonexistent\n",
              "3       Gen x         1    999  ...  telephone    may  nonexistent\n",
              "4     Boomers         1    999  ...  telephone    may  nonexistent\n",
              "\n",
              "[5 rows x 15 columns]"
            ]
          },
          "metadata": {
            "tags": []
          },
          "execution_count": 10
        }
      ]
    },
    {
      "cell_type": "markdown",
      "metadata": {
        "id": "2CZJYvDw7pXF"
      },
      "source": [
        "## Create New feature for pdays"
      ]
    },
    {
      "cell_type": "code",
      "metadata": {
        "colab": {
          "base_uri": "https://localhost:8080/"
        },
        "id": "Zpcn2N8C8VTt",
        "outputId": "f55c8715-1e94-41e7-f468-01af639f23cb"
      },
      "source": [
        "df_new['pdays'].value_counts()"
      ],
      "execution_count": null,
      "outputs": [
        {
          "output_type": "execute_result",
          "data": {
            "text/plain": [
              "999    39673\n",
              "3        439\n",
              "6        412\n",
              "4        118\n",
              "9         64\n",
              "2         61\n",
              "7         60\n",
              "12        58\n",
              "10        52\n",
              "5         46\n",
              "13        36\n",
              "11        28\n",
              "1         26\n",
              "15        24\n",
              "14        20\n",
              "8         18\n",
              "0         15\n",
              "16        11\n",
              "17         8\n",
              "18         7\n",
              "19         3\n",
              "22         3\n",
              "21         2\n",
              "26         1\n",
              "20         1\n",
              "25         1\n",
              "27         1\n",
              "Name: pdays, dtype: int64"
            ]
          },
          "metadata": {
            "tags": []
          },
          "execution_count": 11
        }
      ]
    },
    {
      "cell_type": "markdown",
      "metadata": {
        "id": "nQWqe4W08bk5"
      },
      "source": [
        "Dikarenakan feature pdays memiliki nilai 999 (tidak pernah dikontak)* yang cukup banyak. Maka feature pdays ini akan diolah menjadi sebuah feature baru. Pada feature baru ini, akan dibuat kategori pdays berdasarkan nilai kuartil.\n",
        "\n",
        "*nilai 999 = tidak pernah di kontak ( dinyatakan pada informasi dataset)"
      ]
    },
    {
      "cell_type": "code",
      "metadata": {
        "id": "tOBzYCpC7sk3"
      },
      "source": [
        "#Filter data pdays\n",
        "df_pdays_no_999=df_new[df_new['pdays']!=999]['pdays']"
      ],
      "execution_count": null,
      "outputs": []
    },
    {
      "cell_type": "code",
      "metadata": {
        "colab": {
          "base_uri": "https://localhost:8080/"
        },
        "id": "ACujwBXe7-VG",
        "outputId": "e14322a4-bae1-4143-f9e9-0ba41d2cc44f"
      },
      "source": [
        "df_pdays_no_999.describe()"
      ],
      "execution_count": null,
      "outputs": [
        {
          "output_type": "execute_result",
          "data": {
            "text/plain": [
              "count    1515.000000\n",
              "mean        6.014521\n",
              "std         3.824906\n",
              "min         0.000000\n",
              "25%         3.000000\n",
              "50%         6.000000\n",
              "75%         7.000000\n",
              "max        27.000000\n",
              "Name: pdays, dtype: float64"
            ]
          },
          "metadata": {
            "tags": []
          },
          "execution_count": 13
        }
      ]
    },
    {
      "cell_type": "code",
      "metadata": {
        "colab": {
          "base_uri": "https://localhost:8080/"
        },
        "id": "GzmgVhV79InW",
        "outputId": "86b7cac4-00af-4ee0-8e7f-4bb1c3cbc7a0"
      },
      "source": [
        "df_pdays_no_999.value_counts()"
      ],
      "execution_count": null,
      "outputs": [
        {
          "output_type": "execute_result",
          "data": {
            "text/plain": [
              "3     439\n",
              "6     412\n",
              "4     118\n",
              "9      64\n",
              "2      61\n",
              "7      60\n",
              "12     58\n",
              "10     52\n",
              "5      46\n",
              "13     36\n",
              "11     28\n",
              "1      26\n",
              "15     24\n",
              "14     20\n",
              "8      18\n",
              "0      15\n",
              "16     11\n",
              "17      8\n",
              "18      7\n",
              "19      3\n",
              "22      3\n",
              "21      2\n",
              "26      1\n",
              "20      1\n",
              "25      1\n",
              "27      1\n",
              "Name: pdays, dtype: int64"
            ]
          },
          "metadata": {
            "tags": []
          },
          "execution_count": 14
        }
      ]
    },
    {
      "cell_type": "code",
      "metadata": {
        "colab": {
          "base_uri": "https://localhost:8080/",
          "height": 204
        },
        "id": "oS_dK0Yh8bdJ",
        "outputId": "42198d08-6803-474c-98cf-0f6209aa58f3"
      },
      "source": [
        "conditions= [(df_new['pdays'] >=0) & (df_new['pdays'] <=3),\n",
        "             (df_new['pdays'] >3) & (df_new['pdays'] <=6),\n",
        "             (df_new['pdays'] >6) & (df_new['pdays'] <999),\n",
        "             (df_new['pdays'] >=999)]\n",
        "values = ['0-3Days','4-6 Days','7-27 Days','No Contact']\n",
        "df_new['pdays_group']=np.select(conditions,values)\n",
        "df_new.head()"
      ],
      "execution_count": null,
      "outputs": [
        {
          "output_type": "execute_result",
          "data": {
            "text/html": [
              "<div>\n",
              "<style scoped>\n",
              "    .dataframe tbody tr th:only-of-type {\n",
              "        vertical-align: middle;\n",
              "    }\n",
              "\n",
              "    .dataframe tbody tr th {\n",
              "        vertical-align: top;\n",
              "    }\n",
              "\n",
              "    .dataframe thead th {\n",
              "        text-align: right;\n",
              "    }\n",
              "</style>\n",
              "<table border=\"1\" class=\"dataframe\">\n",
              "  <thead>\n",
              "    <tr style=\"text-align: right;\">\n",
              "      <th></th>\n",
              "      <th>age</th>\n",
              "      <th>campaign</th>\n",
              "      <th>pdays</th>\n",
              "      <th>previous</th>\n",
              "      <th>emp.var.rate</th>\n",
              "      <th>cons.price.idx</th>\n",
              "      <th>cons.conf.idx</th>\n",
              "      <th>euribor3m</th>\n",
              "      <th>nr.employed</th>\n",
              "      <th>y</th>\n",
              "      <th>job</th>\n",
              "      <th>education</th>\n",
              "      <th>contact</th>\n",
              "      <th>month</th>\n",
              "      <th>poutcome</th>\n",
              "      <th>pdays_group</th>\n",
              "    </tr>\n",
              "  </thead>\n",
              "  <tbody>\n",
              "    <tr>\n",
              "      <th>0</th>\n",
              "      <td>Boomers</td>\n",
              "      <td>1</td>\n",
              "      <td>999</td>\n",
              "      <td>0</td>\n",
              "      <td>1.1</td>\n",
              "      <td>93.994</td>\n",
              "      <td>-36.4</td>\n",
              "      <td>4.857</td>\n",
              "      <td>5191.0</td>\n",
              "      <td>0</td>\n",
              "      <td>housemaid</td>\n",
              "      <td>basic.4y</td>\n",
              "      <td>telephone</td>\n",
              "      <td>may</td>\n",
              "      <td>nonexistent</td>\n",
              "      <td>No Contact</td>\n",
              "    </tr>\n",
              "    <tr>\n",
              "      <th>1</th>\n",
              "      <td>Boomers</td>\n",
              "      <td>1</td>\n",
              "      <td>999</td>\n",
              "      <td>0</td>\n",
              "      <td>1.1</td>\n",
              "      <td>93.994</td>\n",
              "      <td>-36.4</td>\n",
              "      <td>4.857</td>\n",
              "      <td>5191.0</td>\n",
              "      <td>0</td>\n",
              "      <td>services</td>\n",
              "      <td>high.school</td>\n",
              "      <td>telephone</td>\n",
              "      <td>may</td>\n",
              "      <td>nonexistent</td>\n",
              "      <td>No Contact</td>\n",
              "    </tr>\n",
              "    <tr>\n",
              "      <th>2</th>\n",
              "      <td>Millenials</td>\n",
              "      <td>1</td>\n",
              "      <td>999</td>\n",
              "      <td>0</td>\n",
              "      <td>1.1</td>\n",
              "      <td>93.994</td>\n",
              "      <td>-36.4</td>\n",
              "      <td>4.857</td>\n",
              "      <td>5191.0</td>\n",
              "      <td>0</td>\n",
              "      <td>services</td>\n",
              "      <td>high.school</td>\n",
              "      <td>telephone</td>\n",
              "      <td>may</td>\n",
              "      <td>nonexistent</td>\n",
              "      <td>No Contact</td>\n",
              "    </tr>\n",
              "    <tr>\n",
              "      <th>3</th>\n",
              "      <td>Gen x</td>\n",
              "      <td>1</td>\n",
              "      <td>999</td>\n",
              "      <td>0</td>\n",
              "      <td>1.1</td>\n",
              "      <td>93.994</td>\n",
              "      <td>-36.4</td>\n",
              "      <td>4.857</td>\n",
              "      <td>5191.0</td>\n",
              "      <td>0</td>\n",
              "      <td>admin.</td>\n",
              "      <td>basic.6y</td>\n",
              "      <td>telephone</td>\n",
              "      <td>may</td>\n",
              "      <td>nonexistent</td>\n",
              "      <td>No Contact</td>\n",
              "    </tr>\n",
              "    <tr>\n",
              "      <th>4</th>\n",
              "      <td>Boomers</td>\n",
              "      <td>1</td>\n",
              "      <td>999</td>\n",
              "      <td>0</td>\n",
              "      <td>1.1</td>\n",
              "      <td>93.994</td>\n",
              "      <td>-36.4</td>\n",
              "      <td>4.857</td>\n",
              "      <td>5191.0</td>\n",
              "      <td>0</td>\n",
              "      <td>services</td>\n",
              "      <td>high.school</td>\n",
              "      <td>telephone</td>\n",
              "      <td>may</td>\n",
              "      <td>nonexistent</td>\n",
              "      <td>No Contact</td>\n",
              "    </tr>\n",
              "  </tbody>\n",
              "</table>\n",
              "</div>"
            ],
            "text/plain": [
              "          age  campaign  pdays  ...  month     poutcome  pdays_group\n",
              "0     Boomers         1    999  ...    may  nonexistent   No Contact\n",
              "1     Boomers         1    999  ...    may  nonexistent   No Contact\n",
              "2  Millenials         1    999  ...    may  nonexistent   No Contact\n",
              "3       Gen x         1    999  ...    may  nonexistent   No Contact\n",
              "4     Boomers         1    999  ...    may  nonexistent   No Contact\n",
              "\n",
              "[5 rows x 16 columns]"
            ]
          },
          "metadata": {
            "tags": []
          },
          "execution_count": 15
        }
      ]
    },
    {
      "cell_type": "code",
      "metadata": {
        "colab": {
          "base_uri": "https://localhost:8080/"
        },
        "id": "AdzCYFKN-SQh",
        "outputId": "693bcdce-8376-46c1-8460-9a67d2442452"
      },
      "source": [
        "df_new['pdays_group'].value_counts()"
      ],
      "execution_count": null,
      "outputs": [
        {
          "output_type": "execute_result",
          "data": {
            "text/plain": [
              "No Contact    39673\n",
              "4-6 Days        576\n",
              "0-3Days         541\n",
              "7-27 Days       398\n",
              "Name: pdays_group, dtype: int64"
            ]
          },
          "metadata": {
            "tags": []
          },
          "execution_count": 16
        }
      ]
    },
    {
      "cell_type": "markdown",
      "metadata": {
        "id": "GAdB5o6xsDk3"
      },
      "source": [
        "# Encoding"
      ]
    },
    {
      "cell_type": "code",
      "metadata": {
        "colab": {
          "base_uri": "https://localhost:8080/"
        },
        "id": "fyyIr_lf-0jN",
        "outputId": "72a36dce-618f-43b0-b631-1aaecc78d203"
      },
      "source": [
        "df_new.info()"
      ],
      "execution_count": null,
      "outputs": [
        {
          "output_type": "stream",
          "text": [
            "<class 'pandas.core.frame.DataFrame'>\n",
            "RangeIndex: 41188 entries, 0 to 41187\n",
            "Data columns (total 16 columns):\n",
            " #   Column          Non-Null Count  Dtype  \n",
            "---  ------          --------------  -----  \n",
            " 0   age             41188 non-null  object \n",
            " 1   campaign        41188 non-null  int64  \n",
            " 2   pdays           41188 non-null  int64  \n",
            " 3   previous        41188 non-null  int64  \n",
            " 4   emp.var.rate    41188 non-null  float64\n",
            " 5   cons.price.idx  41188 non-null  float64\n",
            " 6   cons.conf.idx   41188 non-null  float64\n",
            " 7   euribor3m       41188 non-null  float64\n",
            " 8   nr.employed     41188 non-null  float64\n",
            " 9   y               41188 non-null  int64  \n",
            " 10  job             41188 non-null  object \n",
            " 11  education       41188 non-null  object \n",
            " 12  contact         41188 non-null  object \n",
            " 13  month           41188 non-null  object \n",
            " 14  poutcome        41188 non-null  object \n",
            " 15  pdays_group     41188 non-null  object \n",
            "dtypes: float64(5), int64(4), object(7)\n",
            "memory usage: 5.0+ MB\n"
          ],
          "name": "stdout"
        }
      ]
    },
    {
      "cell_type": "code",
      "metadata": {
        "colab": {
          "base_uri": "https://localhost:8080/",
          "height": 241
        },
        "id": "8tFKbMZPsFZ8",
        "outputId": "1b4c17c7-7572-4242-8bc8-22cc3a203918"
      },
      "source": [
        "df_new_enc = df_new[['job','education','contact','month','poutcome','age','pdays_group']]\n",
        "df_new_enc_ohe = pd.get_dummies(df_new_enc,drop_first=True)\n",
        "df_new_enc_ohe.head()"
      ],
      "execution_count": null,
      "outputs": [
        {
          "output_type": "execute_result",
          "data": {
            "text/html": [
              "<div>\n",
              "<style scoped>\n",
              "    .dataframe tbody tr th:only-of-type {\n",
              "        vertical-align: middle;\n",
              "    }\n",
              "\n",
              "    .dataframe tbody tr th {\n",
              "        vertical-align: top;\n",
              "    }\n",
              "\n",
              "    .dataframe thead th {\n",
              "        text-align: right;\n",
              "    }\n",
              "</style>\n",
              "<table border=\"1\" class=\"dataframe\">\n",
              "  <thead>\n",
              "    <tr style=\"text-align: right;\">\n",
              "      <th></th>\n",
              "      <th>job_blue-collar</th>\n",
              "      <th>job_entrepreneur</th>\n",
              "      <th>job_housemaid</th>\n",
              "      <th>job_management</th>\n",
              "      <th>job_retired</th>\n",
              "      <th>job_self-employed</th>\n",
              "      <th>job_services</th>\n",
              "      <th>job_student</th>\n",
              "      <th>job_technician</th>\n",
              "      <th>job_unemployed</th>\n",
              "      <th>job_unknown</th>\n",
              "      <th>education_basic.6y</th>\n",
              "      <th>education_basic.9y</th>\n",
              "      <th>education_high.school</th>\n",
              "      <th>education_illiterate</th>\n",
              "      <th>education_professional.course</th>\n",
              "      <th>education_university.degree</th>\n",
              "      <th>education_unknown</th>\n",
              "      <th>contact_telephone</th>\n",
              "      <th>month_aug</th>\n",
              "      <th>month_dec</th>\n",
              "      <th>month_jul</th>\n",
              "      <th>month_jun</th>\n",
              "      <th>month_mar</th>\n",
              "      <th>month_may</th>\n",
              "      <th>month_nov</th>\n",
              "      <th>month_oct</th>\n",
              "      <th>month_sep</th>\n",
              "      <th>poutcome_nonexistent</th>\n",
              "      <th>poutcome_success</th>\n",
              "      <th>age_Gen Z</th>\n",
              "      <th>age_Gen x</th>\n",
              "      <th>age_Millenials</th>\n",
              "      <th>age_Silent Gen</th>\n",
              "      <th>pdays_group_4-6 Days</th>\n",
              "      <th>pdays_group_7-27 Days</th>\n",
              "      <th>pdays_group_No Contact</th>\n",
              "    </tr>\n",
              "  </thead>\n",
              "  <tbody>\n",
              "    <tr>\n",
              "      <th>0</th>\n",
              "      <td>0</td>\n",
              "      <td>0</td>\n",
              "      <td>1</td>\n",
              "      <td>0</td>\n",
              "      <td>0</td>\n",
              "      <td>0</td>\n",
              "      <td>0</td>\n",
              "      <td>0</td>\n",
              "      <td>0</td>\n",
              "      <td>0</td>\n",
              "      <td>0</td>\n",
              "      <td>0</td>\n",
              "      <td>0</td>\n",
              "      <td>0</td>\n",
              "      <td>0</td>\n",
              "      <td>0</td>\n",
              "      <td>0</td>\n",
              "      <td>0</td>\n",
              "      <td>1</td>\n",
              "      <td>0</td>\n",
              "      <td>0</td>\n",
              "      <td>0</td>\n",
              "      <td>0</td>\n",
              "      <td>0</td>\n",
              "      <td>1</td>\n",
              "      <td>0</td>\n",
              "      <td>0</td>\n",
              "      <td>0</td>\n",
              "      <td>1</td>\n",
              "      <td>0</td>\n",
              "      <td>0</td>\n",
              "      <td>0</td>\n",
              "      <td>0</td>\n",
              "      <td>0</td>\n",
              "      <td>0</td>\n",
              "      <td>0</td>\n",
              "      <td>1</td>\n",
              "    </tr>\n",
              "    <tr>\n",
              "      <th>1</th>\n",
              "      <td>0</td>\n",
              "      <td>0</td>\n",
              "      <td>0</td>\n",
              "      <td>0</td>\n",
              "      <td>0</td>\n",
              "      <td>0</td>\n",
              "      <td>1</td>\n",
              "      <td>0</td>\n",
              "      <td>0</td>\n",
              "      <td>0</td>\n",
              "      <td>0</td>\n",
              "      <td>0</td>\n",
              "      <td>0</td>\n",
              "      <td>1</td>\n",
              "      <td>0</td>\n",
              "      <td>0</td>\n",
              "      <td>0</td>\n",
              "      <td>0</td>\n",
              "      <td>1</td>\n",
              "      <td>0</td>\n",
              "      <td>0</td>\n",
              "      <td>0</td>\n",
              "      <td>0</td>\n",
              "      <td>0</td>\n",
              "      <td>1</td>\n",
              "      <td>0</td>\n",
              "      <td>0</td>\n",
              "      <td>0</td>\n",
              "      <td>1</td>\n",
              "      <td>0</td>\n",
              "      <td>0</td>\n",
              "      <td>0</td>\n",
              "      <td>0</td>\n",
              "      <td>0</td>\n",
              "      <td>0</td>\n",
              "      <td>0</td>\n",
              "      <td>1</td>\n",
              "    </tr>\n",
              "    <tr>\n",
              "      <th>2</th>\n",
              "      <td>0</td>\n",
              "      <td>0</td>\n",
              "      <td>0</td>\n",
              "      <td>0</td>\n",
              "      <td>0</td>\n",
              "      <td>0</td>\n",
              "      <td>1</td>\n",
              "      <td>0</td>\n",
              "      <td>0</td>\n",
              "      <td>0</td>\n",
              "      <td>0</td>\n",
              "      <td>0</td>\n",
              "      <td>0</td>\n",
              "      <td>1</td>\n",
              "      <td>0</td>\n",
              "      <td>0</td>\n",
              "      <td>0</td>\n",
              "      <td>0</td>\n",
              "      <td>1</td>\n",
              "      <td>0</td>\n",
              "      <td>0</td>\n",
              "      <td>0</td>\n",
              "      <td>0</td>\n",
              "      <td>0</td>\n",
              "      <td>1</td>\n",
              "      <td>0</td>\n",
              "      <td>0</td>\n",
              "      <td>0</td>\n",
              "      <td>1</td>\n",
              "      <td>0</td>\n",
              "      <td>0</td>\n",
              "      <td>0</td>\n",
              "      <td>1</td>\n",
              "      <td>0</td>\n",
              "      <td>0</td>\n",
              "      <td>0</td>\n",
              "      <td>1</td>\n",
              "    </tr>\n",
              "    <tr>\n",
              "      <th>3</th>\n",
              "      <td>0</td>\n",
              "      <td>0</td>\n",
              "      <td>0</td>\n",
              "      <td>0</td>\n",
              "      <td>0</td>\n",
              "      <td>0</td>\n",
              "      <td>0</td>\n",
              "      <td>0</td>\n",
              "      <td>0</td>\n",
              "      <td>0</td>\n",
              "      <td>0</td>\n",
              "      <td>1</td>\n",
              "      <td>0</td>\n",
              "      <td>0</td>\n",
              "      <td>0</td>\n",
              "      <td>0</td>\n",
              "      <td>0</td>\n",
              "      <td>0</td>\n",
              "      <td>1</td>\n",
              "      <td>0</td>\n",
              "      <td>0</td>\n",
              "      <td>0</td>\n",
              "      <td>0</td>\n",
              "      <td>0</td>\n",
              "      <td>1</td>\n",
              "      <td>0</td>\n",
              "      <td>0</td>\n",
              "      <td>0</td>\n",
              "      <td>1</td>\n",
              "      <td>0</td>\n",
              "      <td>0</td>\n",
              "      <td>1</td>\n",
              "      <td>0</td>\n",
              "      <td>0</td>\n",
              "      <td>0</td>\n",
              "      <td>0</td>\n",
              "      <td>1</td>\n",
              "    </tr>\n",
              "    <tr>\n",
              "      <th>4</th>\n",
              "      <td>0</td>\n",
              "      <td>0</td>\n",
              "      <td>0</td>\n",
              "      <td>0</td>\n",
              "      <td>0</td>\n",
              "      <td>0</td>\n",
              "      <td>1</td>\n",
              "      <td>0</td>\n",
              "      <td>0</td>\n",
              "      <td>0</td>\n",
              "      <td>0</td>\n",
              "      <td>0</td>\n",
              "      <td>0</td>\n",
              "      <td>1</td>\n",
              "      <td>0</td>\n",
              "      <td>0</td>\n",
              "      <td>0</td>\n",
              "      <td>0</td>\n",
              "      <td>1</td>\n",
              "      <td>0</td>\n",
              "      <td>0</td>\n",
              "      <td>0</td>\n",
              "      <td>0</td>\n",
              "      <td>0</td>\n",
              "      <td>1</td>\n",
              "      <td>0</td>\n",
              "      <td>0</td>\n",
              "      <td>0</td>\n",
              "      <td>1</td>\n",
              "      <td>0</td>\n",
              "      <td>0</td>\n",
              "      <td>0</td>\n",
              "      <td>0</td>\n",
              "      <td>0</td>\n",
              "      <td>0</td>\n",
              "      <td>0</td>\n",
              "      <td>1</td>\n",
              "    </tr>\n",
              "  </tbody>\n",
              "</table>\n",
              "</div>"
            ],
            "text/plain": [
              "   job_blue-collar  ...  pdays_group_No Contact\n",
              "0                0  ...                       1\n",
              "1                0  ...                       1\n",
              "2                0  ...                       1\n",
              "3                0  ...                       1\n",
              "4                0  ...                       1\n",
              "\n",
              "[5 rows x 37 columns]"
            ]
          },
          "metadata": {
            "tags": []
          },
          "execution_count": 18
        }
      ]
    },
    {
      "cell_type": "code",
      "metadata": {
        "colab": {
          "base_uri": "https://localhost:8080/",
          "height": 241
        },
        "id": "ivdbZGtatQMN",
        "outputId": "23b09d4a-738d-46c1-c255-64c72febb722"
      },
      "source": [
        "#Menggabungkan dataset numerical dan categorical yang sudah di encode\n",
        "df_new = pd.concat([df_new[['campaign','previous','emp.var.rate','cons.price.idx','cons.conf.idx','euribor3m','nr.employed','y']],df_new_enc_ohe],axis = 1)\n",
        "df_new.head()"
      ],
      "execution_count": null,
      "outputs": [
        {
          "output_type": "execute_result",
          "data": {
            "text/html": [
              "<div>\n",
              "<style scoped>\n",
              "    .dataframe tbody tr th:only-of-type {\n",
              "        vertical-align: middle;\n",
              "    }\n",
              "\n",
              "    .dataframe tbody tr th {\n",
              "        vertical-align: top;\n",
              "    }\n",
              "\n",
              "    .dataframe thead th {\n",
              "        text-align: right;\n",
              "    }\n",
              "</style>\n",
              "<table border=\"1\" class=\"dataframe\">\n",
              "  <thead>\n",
              "    <tr style=\"text-align: right;\">\n",
              "      <th></th>\n",
              "      <th>campaign</th>\n",
              "      <th>previous</th>\n",
              "      <th>emp.var.rate</th>\n",
              "      <th>cons.price.idx</th>\n",
              "      <th>cons.conf.idx</th>\n",
              "      <th>euribor3m</th>\n",
              "      <th>nr.employed</th>\n",
              "      <th>y</th>\n",
              "      <th>job_blue-collar</th>\n",
              "      <th>job_entrepreneur</th>\n",
              "      <th>job_housemaid</th>\n",
              "      <th>job_management</th>\n",
              "      <th>job_retired</th>\n",
              "      <th>job_self-employed</th>\n",
              "      <th>job_services</th>\n",
              "      <th>job_student</th>\n",
              "      <th>job_technician</th>\n",
              "      <th>job_unemployed</th>\n",
              "      <th>job_unknown</th>\n",
              "      <th>education_basic.6y</th>\n",
              "      <th>education_basic.9y</th>\n",
              "      <th>education_high.school</th>\n",
              "      <th>education_illiterate</th>\n",
              "      <th>education_professional.course</th>\n",
              "      <th>education_university.degree</th>\n",
              "      <th>education_unknown</th>\n",
              "      <th>contact_telephone</th>\n",
              "      <th>month_aug</th>\n",
              "      <th>month_dec</th>\n",
              "      <th>month_jul</th>\n",
              "      <th>month_jun</th>\n",
              "      <th>month_mar</th>\n",
              "      <th>month_may</th>\n",
              "      <th>month_nov</th>\n",
              "      <th>month_oct</th>\n",
              "      <th>month_sep</th>\n",
              "      <th>poutcome_nonexistent</th>\n",
              "      <th>poutcome_success</th>\n",
              "      <th>age_Gen Z</th>\n",
              "      <th>age_Gen x</th>\n",
              "      <th>age_Millenials</th>\n",
              "      <th>age_Silent Gen</th>\n",
              "      <th>pdays_group_4-6 Days</th>\n",
              "      <th>pdays_group_7-27 Days</th>\n",
              "      <th>pdays_group_No Contact</th>\n",
              "    </tr>\n",
              "  </thead>\n",
              "  <tbody>\n",
              "    <tr>\n",
              "      <th>0</th>\n",
              "      <td>1</td>\n",
              "      <td>0</td>\n",
              "      <td>1.1</td>\n",
              "      <td>93.994</td>\n",
              "      <td>-36.4</td>\n",
              "      <td>4.857</td>\n",
              "      <td>5191.0</td>\n",
              "      <td>0</td>\n",
              "      <td>0</td>\n",
              "      <td>0</td>\n",
              "      <td>1</td>\n",
              "      <td>0</td>\n",
              "      <td>0</td>\n",
              "      <td>0</td>\n",
              "      <td>0</td>\n",
              "      <td>0</td>\n",
              "      <td>0</td>\n",
              "      <td>0</td>\n",
              "      <td>0</td>\n",
              "      <td>0</td>\n",
              "      <td>0</td>\n",
              "      <td>0</td>\n",
              "      <td>0</td>\n",
              "      <td>0</td>\n",
              "      <td>0</td>\n",
              "      <td>0</td>\n",
              "      <td>1</td>\n",
              "      <td>0</td>\n",
              "      <td>0</td>\n",
              "      <td>0</td>\n",
              "      <td>0</td>\n",
              "      <td>0</td>\n",
              "      <td>1</td>\n",
              "      <td>0</td>\n",
              "      <td>0</td>\n",
              "      <td>0</td>\n",
              "      <td>1</td>\n",
              "      <td>0</td>\n",
              "      <td>0</td>\n",
              "      <td>0</td>\n",
              "      <td>0</td>\n",
              "      <td>0</td>\n",
              "      <td>0</td>\n",
              "      <td>0</td>\n",
              "      <td>1</td>\n",
              "    </tr>\n",
              "    <tr>\n",
              "      <th>1</th>\n",
              "      <td>1</td>\n",
              "      <td>0</td>\n",
              "      <td>1.1</td>\n",
              "      <td>93.994</td>\n",
              "      <td>-36.4</td>\n",
              "      <td>4.857</td>\n",
              "      <td>5191.0</td>\n",
              "      <td>0</td>\n",
              "      <td>0</td>\n",
              "      <td>0</td>\n",
              "      <td>0</td>\n",
              "      <td>0</td>\n",
              "      <td>0</td>\n",
              "      <td>0</td>\n",
              "      <td>1</td>\n",
              "      <td>0</td>\n",
              "      <td>0</td>\n",
              "      <td>0</td>\n",
              "      <td>0</td>\n",
              "      <td>0</td>\n",
              "      <td>0</td>\n",
              "      <td>1</td>\n",
              "      <td>0</td>\n",
              "      <td>0</td>\n",
              "      <td>0</td>\n",
              "      <td>0</td>\n",
              "      <td>1</td>\n",
              "      <td>0</td>\n",
              "      <td>0</td>\n",
              "      <td>0</td>\n",
              "      <td>0</td>\n",
              "      <td>0</td>\n",
              "      <td>1</td>\n",
              "      <td>0</td>\n",
              "      <td>0</td>\n",
              "      <td>0</td>\n",
              "      <td>1</td>\n",
              "      <td>0</td>\n",
              "      <td>0</td>\n",
              "      <td>0</td>\n",
              "      <td>0</td>\n",
              "      <td>0</td>\n",
              "      <td>0</td>\n",
              "      <td>0</td>\n",
              "      <td>1</td>\n",
              "    </tr>\n",
              "    <tr>\n",
              "      <th>2</th>\n",
              "      <td>1</td>\n",
              "      <td>0</td>\n",
              "      <td>1.1</td>\n",
              "      <td>93.994</td>\n",
              "      <td>-36.4</td>\n",
              "      <td>4.857</td>\n",
              "      <td>5191.0</td>\n",
              "      <td>0</td>\n",
              "      <td>0</td>\n",
              "      <td>0</td>\n",
              "      <td>0</td>\n",
              "      <td>0</td>\n",
              "      <td>0</td>\n",
              "      <td>0</td>\n",
              "      <td>1</td>\n",
              "      <td>0</td>\n",
              "      <td>0</td>\n",
              "      <td>0</td>\n",
              "      <td>0</td>\n",
              "      <td>0</td>\n",
              "      <td>0</td>\n",
              "      <td>1</td>\n",
              "      <td>0</td>\n",
              "      <td>0</td>\n",
              "      <td>0</td>\n",
              "      <td>0</td>\n",
              "      <td>1</td>\n",
              "      <td>0</td>\n",
              "      <td>0</td>\n",
              "      <td>0</td>\n",
              "      <td>0</td>\n",
              "      <td>0</td>\n",
              "      <td>1</td>\n",
              "      <td>0</td>\n",
              "      <td>0</td>\n",
              "      <td>0</td>\n",
              "      <td>1</td>\n",
              "      <td>0</td>\n",
              "      <td>0</td>\n",
              "      <td>0</td>\n",
              "      <td>1</td>\n",
              "      <td>0</td>\n",
              "      <td>0</td>\n",
              "      <td>0</td>\n",
              "      <td>1</td>\n",
              "    </tr>\n",
              "    <tr>\n",
              "      <th>3</th>\n",
              "      <td>1</td>\n",
              "      <td>0</td>\n",
              "      <td>1.1</td>\n",
              "      <td>93.994</td>\n",
              "      <td>-36.4</td>\n",
              "      <td>4.857</td>\n",
              "      <td>5191.0</td>\n",
              "      <td>0</td>\n",
              "      <td>0</td>\n",
              "      <td>0</td>\n",
              "      <td>0</td>\n",
              "      <td>0</td>\n",
              "      <td>0</td>\n",
              "      <td>0</td>\n",
              "      <td>0</td>\n",
              "      <td>0</td>\n",
              "      <td>0</td>\n",
              "      <td>0</td>\n",
              "      <td>0</td>\n",
              "      <td>1</td>\n",
              "      <td>0</td>\n",
              "      <td>0</td>\n",
              "      <td>0</td>\n",
              "      <td>0</td>\n",
              "      <td>0</td>\n",
              "      <td>0</td>\n",
              "      <td>1</td>\n",
              "      <td>0</td>\n",
              "      <td>0</td>\n",
              "      <td>0</td>\n",
              "      <td>0</td>\n",
              "      <td>0</td>\n",
              "      <td>1</td>\n",
              "      <td>0</td>\n",
              "      <td>0</td>\n",
              "      <td>0</td>\n",
              "      <td>1</td>\n",
              "      <td>0</td>\n",
              "      <td>0</td>\n",
              "      <td>1</td>\n",
              "      <td>0</td>\n",
              "      <td>0</td>\n",
              "      <td>0</td>\n",
              "      <td>0</td>\n",
              "      <td>1</td>\n",
              "    </tr>\n",
              "    <tr>\n",
              "      <th>4</th>\n",
              "      <td>1</td>\n",
              "      <td>0</td>\n",
              "      <td>1.1</td>\n",
              "      <td>93.994</td>\n",
              "      <td>-36.4</td>\n",
              "      <td>4.857</td>\n",
              "      <td>5191.0</td>\n",
              "      <td>0</td>\n",
              "      <td>0</td>\n",
              "      <td>0</td>\n",
              "      <td>0</td>\n",
              "      <td>0</td>\n",
              "      <td>0</td>\n",
              "      <td>0</td>\n",
              "      <td>1</td>\n",
              "      <td>0</td>\n",
              "      <td>0</td>\n",
              "      <td>0</td>\n",
              "      <td>0</td>\n",
              "      <td>0</td>\n",
              "      <td>0</td>\n",
              "      <td>1</td>\n",
              "      <td>0</td>\n",
              "      <td>0</td>\n",
              "      <td>0</td>\n",
              "      <td>0</td>\n",
              "      <td>1</td>\n",
              "      <td>0</td>\n",
              "      <td>0</td>\n",
              "      <td>0</td>\n",
              "      <td>0</td>\n",
              "      <td>0</td>\n",
              "      <td>1</td>\n",
              "      <td>0</td>\n",
              "      <td>0</td>\n",
              "      <td>0</td>\n",
              "      <td>1</td>\n",
              "      <td>0</td>\n",
              "      <td>0</td>\n",
              "      <td>0</td>\n",
              "      <td>0</td>\n",
              "      <td>0</td>\n",
              "      <td>0</td>\n",
              "      <td>0</td>\n",
              "      <td>1</td>\n",
              "    </tr>\n",
              "  </tbody>\n",
              "</table>\n",
              "</div>"
            ],
            "text/plain": [
              "   campaign  previous  ...  pdays_group_7-27 Days  pdays_group_No Contact\n",
              "0         1         0  ...                      0                       1\n",
              "1         1         0  ...                      0                       1\n",
              "2         1         0  ...                      0                       1\n",
              "3         1         0  ...                      0                       1\n",
              "4         1         0  ...                      0                       1\n",
              "\n",
              "[5 rows x 45 columns]"
            ]
          },
          "metadata": {
            "tags": []
          },
          "execution_count": 19
        }
      ]
    },
    {
      "cell_type": "code",
      "metadata": {
        "colab": {
          "base_uri": "https://localhost:8080/"
        },
        "id": "Ln-Rbcvu_P2Z",
        "outputId": "5657f0b5-98f3-48a3-8eb8-0058702480cc"
      },
      "source": [
        "df_new.shape"
      ],
      "execution_count": null,
      "outputs": [
        {
          "output_type": "execute_result",
          "data": {
            "text/plain": [
              "(41188, 45)"
            ]
          },
          "metadata": {
            "tags": []
          },
          "execution_count": 20
        }
      ]
    },
    {
      "cell_type": "markdown",
      "metadata": {
        "id": "tlundMWACoQg"
      },
      "source": [
        "# Handling Imbalance Data"
      ]
    },
    {
      "cell_type": "code",
      "metadata": {
        "id": "T94-Xj6mAY3n"
      },
      "source": [
        "#splitting dataset yes and no\n",
        "df_new_yes = df_new[df_new['y']==1]\n",
        "df_new_no = df_new[df_new['y']==0] "
      ],
      "execution_count": null,
      "outputs": []
    },
    {
      "cell_type": "code",
      "metadata": {
        "colab": {
          "base_uri": "https://localhost:8080/"
        },
        "id": "lDin4xzoBTaa",
        "outputId": "7524bdbe-8f6f-433e-88dd-2c93eba74011"
      },
      "source": [
        "print(df_new_yes.shape)\n",
        "print(df_new_no.shape)"
      ],
      "execution_count": null,
      "outputs": [
        {
          "output_type": "stream",
          "text": [
            "(4640, 45)\n",
            "(36548, 45)\n"
          ],
          "name": "stdout"
        }
      ]
    },
    {
      "cell_type": "code",
      "metadata": {
        "id": "pKaFWZAbuDlP"
      },
      "source": [
        "#Membuat dataset y= No dengan jumlah data sama dengan jumlah data pada dataset y=yes\n",
        "train_no, test_no = train_test_split(df_new_no, test_size=0.126956331399803) #test size didapat dari 4640/36548\n",
        "df_new_no_after_cut = test_no"
      ],
      "execution_count": null,
      "outputs": []
    },
    {
      "cell_type": "code",
      "metadata": {
        "colab": {
          "base_uri": "https://localhost:8080/"
        },
        "id": "4bGCiFtP3hiz",
        "outputId": "08977c25-fe25-489a-9fc8-e84c30c7347a"
      },
      "source": [
        "test_no.shape"
      ],
      "execution_count": null,
      "outputs": [
        {
          "output_type": "execute_result",
          "data": {
            "text/plain": [
              "(4640, 45)"
            ]
          },
          "metadata": {
            "tags": []
          },
          "execution_count": 24
        }
      ]
    },
    {
      "cell_type": "markdown",
      "metadata": {
        "id": "RsXjO1snoLej"
      },
      "source": [
        "Proses train test split ini berfungsi untuk memastikan data dengan y= no sama jumlahnya dengan y= yes. Tujuannya adalah menghilangkan imbalance data."
      ]
    },
    {
      "cell_type": "code",
      "metadata": {
        "id": "fay_7IokIggB"
      },
      "source": [
        "df_no_imb=df_new_yes.copy()"
      ],
      "execution_count": null,
      "outputs": []
    },
    {
      "cell_type": "code",
      "metadata": {
        "id": "EzbUZcVUJXCi"
      },
      "source": [
        "#Menggabungkan dataset y= yes dan y= no\n",
        "df_no_imb = df_no_imb.append(df_new_no_after_cut, ignore_index=True)"
      ],
      "execution_count": null,
      "outputs": []
    },
    {
      "cell_type": "code",
      "metadata": {
        "colab": {
          "base_uri": "https://localhost:8080/"
        },
        "id": "QbsmO5N6I8FU",
        "outputId": "a8262916-1682-4f50-ee6b-31c835d63811"
      },
      "source": [
        "df_no_imb.shape"
      ],
      "execution_count": null,
      "outputs": [
        {
          "output_type": "execute_result",
          "data": {
            "text/plain": [
              "(9280, 45)"
            ]
          },
          "metadata": {
            "tags": []
          },
          "execution_count": 27
        }
      ]
    },
    {
      "cell_type": "code",
      "metadata": {
        "id": "ZrE4qspGDkaS"
      },
      "source": [
        "#Create target and features untuk dataset yang sudah dilakukan handling imbalance data\n",
        "X = df_no_imb.drop(columns = ['y'])\n",
        "y = df_no_imb['y']"
      ],
      "execution_count": null,
      "outputs": []
    },
    {
      "cell_type": "code",
      "metadata": {
        "id": "dreXuruEEquR"
      },
      "source": [
        "X_train, X_test, y_train, y_test = train_test_split(X, y, test_size = 0.2, random_state=2020)"
      ],
      "execution_count": null,
      "outputs": []
    },
    {
      "cell_type": "code",
      "metadata": {
        "id": "Ir81-WUCVJRv",
        "colab": {
          "base_uri": "https://localhost:8080/"
        },
        "outputId": "3a5b83b1-9d7b-47b2-bb9b-1db9fd521631"
      },
      "source": [
        "df_no_imb['y'].value_counts()  #Bukti bahwa data sudah balanced"
      ],
      "execution_count": null,
      "outputs": [
        {
          "output_type": "execute_result",
          "data": {
            "text/plain": [
              "1    4640\n",
              "0    4640\n",
              "Name: y, dtype: int64"
            ]
          },
          "metadata": {
            "tags": []
          },
          "execution_count": 62
        }
      ]
    },
    {
      "cell_type": "markdown",
      "metadata": {
        "id": "QdSNJJ9Dt16j"
      },
      "source": [
        "# Checking Current Score after Imbalance Data Handling"
      ]
    },
    {
      "cell_type": "code",
      "metadata": {
        "id": "mllkwdfRuhvx"
      },
      "source": [
        "#Create Classifiers \n",
        "logreg_std = LogisticRegression(random_state=42)\n",
        "knn_std = KNeighborsClassifier()\n",
        "dt_std = DecisionTreeClassifier(random_state=42)\n",
        "rf_std= RandomForestClassifier(random_state=42)\n",
        "xg_std = XGBClassifier(random_state=42)"
      ],
      "execution_count": null,
      "outputs": []
    },
    {
      "cell_type": "code",
      "metadata": {
        "id": "niablaO2wi7W"
      },
      "source": [
        "def scoring_matrix(y_test_, y_test_predict_):\n",
        "    print( \"accuracy: \", accuracy_score(y_test_, y_test_predict_))\n",
        "    print( \"precision: \", precision_score(y_test_, y_test_predict_))\n",
        "    print( \"recall: \", recall_score(y_test_, y_test_predict_))\n",
        "    print( \"f1: \", f1_score(y_test_, y_test_predict_))\n",
        "    print(\" \")"
      ],
      "execution_count": null,
      "outputs": []
    },
    {
      "cell_type": "markdown",
      "metadata": {
        "id": "PgVilWqnp5ya"
      },
      "source": [
        "## Calculate Score after handling imbalance data"
      ]
    },
    {
      "cell_type": "code",
      "metadata": {
        "colab": {
          "base_uri": "https://localhost:8080/"
        },
        "id": "yyqQ2XYsuGdN",
        "outputId": "2850e91c-1917-47c5-b64d-5809b6a749e6"
      },
      "source": [
        "#Train Model\n",
        "logreg_std.fit(X_train,y_train)\n",
        "y_pred_log_std = logreg_std.predict(X_test)\n",
        "print('Logreg Classification Report')\n",
        "print(classification_report(y_test,y_pred_log_std))\n",
        "knn_std.fit(X_train,y_train)\n",
        "y_pred_knn_std = knn_std.predict(X_test)\n",
        "print('KNN Classification Report')\n",
        "print(classification_report(y_test,y_pred_knn_std))\n",
        "dt_std.fit(X_train,y_train)\n",
        "y_pred_dt_std = dt_std.predict(X_test)\n",
        "print('Decision Tree Classification Report')\n",
        "print(classification_report(y_test,y_pred_dt_std))\n",
        "rf_std.fit(X_train,y_train)\n",
        "y_pred_rf_std = rf_std.predict(X_test)\n",
        "print('Random Forest Classification Report')\n",
        "print(classification_report(y_test,y_pred_rf_std))\n",
        "xg_std.fit(X_train,y_train)\n",
        "y_pred_xg_std = xg_std.predict(X_test)\n",
        "print('XG Boost Classification Report')\n",
        "print(classification_report(y_test,y_pred_xg_std))"
      ],
      "execution_count": null,
      "outputs": [
        {
          "output_type": "stream",
          "text": [
            "Logreg Classification Report\n",
            "              precision    recall  f1-score   support\n",
            "\n",
            "           0       0.70      0.85      0.76       924\n",
            "           1       0.80      0.63      0.71       932\n",
            "\n",
            "    accuracy                           0.74      1856\n",
            "   macro avg       0.75      0.74      0.74      1856\n",
            "weighted avg       0.75      0.74      0.74      1856\n",
            "\n",
            "KNN Classification Report\n",
            "              precision    recall  f1-score   support\n",
            "\n",
            "           0       0.69      0.74      0.72       924\n",
            "           1       0.72      0.68      0.70       932\n",
            "\n",
            "    accuracy                           0.71      1856\n",
            "   macro avg       0.71      0.71      0.71      1856\n",
            "weighted avg       0.71      0.71      0.71      1856\n",
            "\n",
            "Decision Tree Classification Report\n",
            "              precision    recall  f1-score   support\n",
            "\n",
            "           0       0.67      0.72      0.69       924\n",
            "           1       0.70      0.64      0.67       932\n",
            "\n",
            "    accuracy                           0.68      1856\n",
            "   macro avg       0.68      0.68      0.68      1856\n",
            "weighted avg       0.68      0.68      0.68      1856\n",
            "\n",
            "Random Forest Classification Report\n",
            "              precision    recall  f1-score   support\n",
            "\n",
            "           0       0.71      0.77      0.74       924\n",
            "           1       0.75      0.69      0.72       932\n",
            "\n",
            "    accuracy                           0.73      1856\n",
            "   macro avg       0.73      0.73      0.73      1856\n",
            "weighted avg       0.73      0.73      0.73      1856\n",
            "\n",
            "XG Boost Classification Report\n",
            "              precision    recall  f1-score   support\n",
            "\n",
            "           0       0.70      0.86      0.77       924\n",
            "           1       0.82      0.63      0.71       932\n",
            "\n",
            "    accuracy                           0.75      1856\n",
            "   macro avg       0.76      0.75      0.74      1856\n",
            "weighted avg       0.76      0.75      0.74      1856\n",
            "\n"
          ],
          "name": "stdout"
        }
      ]
    },
    {
      "cell_type": "code",
      "metadata": {
        "id": "LBhQJceAvRzK"
      },
      "source": [
        "#List untuk memasukkan nilai matrix score dari balanced data untuk keperluan ploting\n",
        "xg_score_new = []\n",
        "xg_score_new.append(accuracy_score(y_test, y_pred_xg_std))\n",
        "xg_score_new.append(precision_score(y_test, y_pred_xg_std))\n",
        "xg_score_new.append(recall_score(y_test, y_pred_xg_std))\n",
        "xg_score_new.append(f1_score(y_test, y_pred_xg_std))\n",
        "log_score_new = []\n",
        "log_score_new.append(accuracy_score(y_test, y_pred_log_std))\n",
        "log_score_new.append(precision_score(y_test, y_pred_log_std))\n",
        "log_score_new.append(recall_score(y_test, y_pred_log_std))\n",
        "log_score_new.append(f1_score(y_test, y_pred_log_std))\n",
        "dt_score_new = []\n",
        "dt_score_new.append(accuracy_score(y_test, y_pred_dt_std))\n",
        "dt_score_new.append(precision_score(y_test, y_pred_dt_std))\n",
        "dt_score_new.append(recall_score(y_test, y_pred_dt_std))\n",
        "dt_score_new.append(f1_score(y_test, y_pred_dt_std))\n",
        "rf_score_new = []\n",
        "rf_score_new.append(accuracy_score(y_test, y_pred_rf_std))\n",
        "rf_score_new.append(precision_score(y_test, y_pred_rf_std))\n",
        "rf_score_new.append(recall_score(y_test, y_pred_rf_std))\n",
        "rf_score_new.append(f1_score(y_test, y_pred_rf_std))\n",
        "knn_score_new = []\n",
        "knn_score_new.append(accuracy_score(y_test, y_pred_knn_std))\n",
        "knn_score_new.append(precision_score(y_test, y_pred_knn_std))\n",
        "knn_score_new.append(recall_score(y_test, y_pred_knn_std))\n",
        "knn_score_new.append(f1_score(y_test, y_pred_knn_std))"
      ],
      "execution_count": null,
      "outputs": []
    },
    {
      "cell_type": "markdown",
      "metadata": {
        "id": "a8Sa0Ri6o8zr"
      },
      "source": [
        "## Calculate score before handling imbalance data"
      ]
    },
    {
      "cell_type": "code",
      "metadata": {
        "colab": {
          "base_uri": "https://localhost:8080/"
        },
        "id": "bn8WXo5uooJn",
        "outputId": "5edf650a-00c1-460a-aa89-770e23fe8d78"
      },
      "source": [
        "df_old = df_new.copy()\n",
        "df_old.shape"
      ],
      "execution_count": null,
      "outputs": [
        {
          "output_type": "execute_result",
          "data": {
            "text/plain": [
              "(41188, 45)"
            ]
          },
          "metadata": {
            "tags": []
          },
          "execution_count": 66
        }
      ]
    },
    {
      "cell_type": "markdown",
      "metadata": {
        "id": "FmfjIrQxowys"
      },
      "source": [
        "df_old akan digunakan untuk melihat seberapa besar selisih nilai score sebelum dan sesudah handling imbalance data dilakukan. "
      ]
    },
    {
      "cell_type": "code",
      "metadata": {
        "id": "EdmZXQNIpGGr"
      },
      "source": [
        "#Create target and features untuk dataset raw yang belum di handling imbalance data nya\n",
        "X_old = df_old.drop(columns = ['y'])\n",
        "y_old = df_old['y']"
      ],
      "execution_count": null,
      "outputs": []
    },
    {
      "cell_type": "code",
      "metadata": {
        "id": "vfu9kR3Ro8GT"
      },
      "source": [
        "X_train_old, X_test_old, y_train_old, y_test_old = train_test_split(X_old, y_old, test_size = 0.2, random_state=2020,stratify=y_old)"
      ],
      "execution_count": null,
      "outputs": []
    },
    {
      "cell_type": "code",
      "metadata": {
        "colab": {
          "base_uri": "https://localhost:8080/"
        },
        "id": "x3c-lGTi-C9c",
        "outputId": "5e924eeb-7881-4acf-935d-43a972061e3c"
      },
      "source": [
        "#predict datset raw dengan menggunakan model yang sudah di.fit ke datset tanpa imbalance data\n",
        "y_pred_log_std_old = logreg_std.predict(X_test_old)\n",
        "print('Logreg Classification Report df_old')\n",
        "print(classification_report(y_test_old,y_pred_log_std_old))\n",
        "y_pred_knn_std_old = knn_std.predict(X_test_old)\n",
        "print('KNN Classification Report df_old')\n",
        "print(classification_report(y_test_old,y_pred_knn_std_old))\n",
        "y_pred_dt_std_old = dt_std.predict(X_test_old)\n",
        "print('Decision Tree Classification Report df_old')\n",
        "print(classification_report(y_test_old,y_pred_dt_std_old))\n",
        "y_pred_rf_std_old = rf_std.predict(X_test_old)\n",
        "print('Random Forest Classification Report df_old')\n",
        "print(classification_report(y_test_old,y_pred_rf_std_old))\n",
        "y_pred_xg_std_old = xg_std.predict(X_test_old)\n",
        "print('XG Boost Classification Report df_old')\n",
        "print(classification_report(y_test_old,y_pred_xg_std_old))"
      ],
      "execution_count": null,
      "outputs": [
        {
          "output_type": "stream",
          "text": [
            "Logreg Classification Report df_old\n",
            "              precision    recall  f1-score   support\n",
            "\n",
            "           0       0.95      0.85      0.89      7310\n",
            "           1       0.34      0.62      0.44       928\n",
            "\n",
            "    accuracy                           0.82      8238\n",
            "   macro avg       0.64      0.73      0.67      8238\n",
            "weighted avg       0.88      0.82      0.84      8238\n",
            "\n",
            "KNN Classification Report df_old\n",
            "              precision    recall  f1-score   support\n",
            "\n",
            "           0       0.96      0.74      0.84      7310\n",
            "           1       0.27      0.74      0.39       928\n",
            "\n",
            "    accuracy                           0.74      8238\n",
            "   macro avg       0.61      0.74      0.61      8238\n",
            "weighted avg       0.88      0.74      0.79      8238\n",
            "\n",
            "Decision Tree Classification Report df_old\n",
            "              precision    recall  f1-score   support\n",
            "\n",
            "           0       0.97      0.73      0.84      7310\n",
            "           1       0.28      0.84      0.43       928\n",
            "\n",
            "    accuracy                           0.74      8238\n",
            "   macro avg       0.63      0.79      0.63      8238\n",
            "weighted avg       0.90      0.74      0.79      8238\n",
            "\n",
            "Random Forest Classification Report df_old\n",
            "              precision    recall  f1-score   support\n",
            "\n",
            "           0       0.98      0.76      0.85      7310\n",
            "           1       0.31      0.87      0.46       928\n",
            "\n",
            "    accuracy                           0.77      8238\n",
            "   macro avg       0.65      0.81      0.66      8238\n",
            "weighted avg       0.90      0.77      0.81      8238\n",
            "\n",
            "XG Boost Classification Report df_old\n",
            "              precision    recall  f1-score   support\n",
            "\n",
            "           0       0.95      0.87      0.91      7310\n",
            "           1       0.38      0.62      0.47       928\n",
            "\n",
            "    accuracy                           0.84      8238\n",
            "   macro avg       0.66      0.74      0.69      8238\n",
            "weighted avg       0.88      0.84      0.86      8238\n",
            "\n"
          ],
          "name": "stdout"
        }
      ]
    },
    {
      "cell_type": "code",
      "metadata": {
        "id": "nPNvFcKby5Ro"
      },
      "source": [
        "#List untuk memasukkan nilai matrix score dari imbalanced data untuk keperluan ploting\n",
        "xg_score_old = []\n",
        "xg_score_old.append(accuracy_score(y_test_old, y_pred_xg_std_old))\n",
        "xg_score_old.append(precision_score(y_test_old, y_pred_xg_std_old))\n",
        "xg_score_old.append(recall_score(y_test_old, y_pred_xg_std_old))\n",
        "xg_score_old.append(f1_score(y_test_old, y_pred_xg_std_old))\n",
        "log_score_old = []\n",
        "log_score_old.append(accuracy_score(y_test_old, y_pred_log_std_old))\n",
        "log_score_old.append(precision_score(y_test_old, y_pred_log_std_old))\n",
        "log_score_old.append(recall_score(y_test_old, y_pred_log_std_old))\n",
        "log_score_old.append(f1_score(y_test_old, y_pred_log_std_old))\n",
        "dt_score_old = []\n",
        "dt_score_old.append(accuracy_score(y_test_old, y_pred_dt_std_old))\n",
        "dt_score_old.append(precision_score(y_test_old, y_pred_dt_std_old))\n",
        "dt_score_old.append(recall_score(y_test_old, y_pred_dt_std_old))\n",
        "dt_score_old.append(f1_score(y_test_old, y_pred_dt_std_old))\n",
        "rf_score_old = []\n",
        "rf_score_old.append(accuracy_score(y_test_old, y_pred_rf_std_old))\n",
        "rf_score_old.append(precision_score(y_test_old, y_pred_rf_std_old))\n",
        "rf_score_old.append(recall_score(y_test_old, y_pred_rf_std_old))\n",
        "rf_score_old.append(f1_score(y_test_old, y_pred_rf_std_old))\n",
        "knn_score_old = []\n",
        "knn_score_old.append(accuracy_score(y_test_old, y_pred_knn_std_old))\n",
        "knn_score_old.append(precision_score(y_test_old, y_pred_knn_std_old))\n",
        "knn_score_old.append(recall_score(y_test_old, y_pred_knn_std_old))\n",
        "knn_score_old.append(f1_score(y_test_old, y_pred_knn_std_old))"
      ],
      "execution_count": null,
      "outputs": []
    },
    {
      "cell_type": "markdown",
      "metadata": {
        "id": "6yZ1B1jT0ExO"
      },
      "source": [
        "## Comparing Model Score before and after handling imbalance data"
      ]
    },
    {
      "cell_type": "code",
      "metadata": {
        "id": "LvlHzhQ8wf2r"
      },
      "source": [
        "labels = ['Accuracy','Precision','Recall','f1_score']"
      ],
      "execution_count": null,
      "outputs": []
    },
    {
      "cell_type": "code",
      "metadata": {
        "id": "5SvEVSL7xjLP"
      },
      "source": [
        "log_df = pd.DataFrame({'Scoring': labels, 'New':log_score_new,'Old':log_score_old})  \n",
        "knn_df = pd.DataFrame({'Scoring': labels, 'New':knn_score_new,'Old':knn_score_old})  \n",
        "dt_df = pd.DataFrame({'Scoring': labels, 'New':dt_score_new,'Old':dt_score_old})  \n",
        "rf_df = pd.DataFrame({'Scoring': labels, 'New':rf_score_new,'Old':rf_score_old})  \n",
        "xg_df = pd.DataFrame({'Scoring': labels, 'New':xg_score_new,'Old':xg_score_old})"
      ],
      "execution_count": null,
      "outputs": []
    },
    {
      "cell_type": "code",
      "metadata": {
        "colab": {
          "base_uri": "https://localhost:8080/",
          "height": 782
        },
        "id": "WH1tYiN6z_yi",
        "outputId": "f59d31aa-0627-4089-cd0a-931073eb69ff"
      },
      "source": [
        "#Grafik perbandingan nilai scoring methods dari imbalance dataset dengan balanced dataset per estimator\n",
        "plt.figure(figsize=(25, 20))\n",
        "plt.subplot(3,3,1)\n",
        "sns.lineplot(data=log_df,x='Scoring',y='New')\n",
        "sns.lineplot(data=log_df,x='Scoring',y='Old')\n",
        "plt.xlabel('Scoring Parameter')\n",
        "plt.ylabel('Score')\n",
        "plt.title('Logistic Regression')\n",
        "plt.legend(['No imbalance','With Imbalance'])\n",
        "plt.subplot(3,3,2)\n",
        "sns.lineplot(data=knn_df,x='Scoring',y='New')\n",
        "sns.lineplot(data=knn_df,x='Scoring',y='Old')\n",
        "plt.xlabel('Scoring Parameter')\n",
        "plt.ylabel('Score')\n",
        "plt.title('KNN')\n",
        "plt.legend(['No imbalance','With Imbalance'])\n",
        "plt.subplot(3,3,3)\n",
        "sns.lineplot(data=dt_df,x='Scoring',y='New')\n",
        "sns.lineplot(data=dt_df,x='Scoring',y='Old')\n",
        "plt.xlabel('Scoring Parameter')\n",
        "plt.ylabel('Score')\n",
        "plt.title('Decision Tree')\n",
        "plt.legend(['No imbalance','With Imbalance'])\n",
        "plt.subplot(3,3,4)\n",
        "sns.lineplot(data=rf_df,x='Scoring',y='New')\n",
        "sns.lineplot(data=rf_df,x='Scoring',y='Old')\n",
        "plt.xlabel('Scoring Parameter')\n",
        "plt.ylabel('Score')\n",
        "plt.title('Random Forest')\n",
        "plt.legend(['No imbalance','With Imbalance'])\n",
        "plt.subplot(3,3,5)\n",
        "sns.lineplot(data=xg_df,x='Scoring',y='New')\n",
        "sns.lineplot(data=xg_df,x='Scoring',y='Old')\n",
        "plt.xlabel('Scoring Parameter')\n",
        "plt.ylabel('Score')\n",
        "plt.title('XG Boost')\n",
        "plt.legend(['No imbalance','With Imbalance'])\n",
        "plt.show()"
      ],
      "execution_count": null,
      "outputs": [
        {
          "output_type": "display_data",
          "data": {
            "image/png": "[encoded data removed]",
            "text/plain": [
              "<Figure size 1800x1440 with 5 Axes>"
            ]
          },
          "metadata": {
            "tags": [],
            "needs_background": "light"
          }
        }
      ]
    },
    {
      "cell_type": "code",
      "metadata": {
        "id": "sxRRPxRD221A"
      },
      "source": [
        "old_df=pd.DataFrame({'Scoring': labels,'Log':log_score_old,'KNN':knn_score_old,'DT':dt_score_old,'RF':rf_score_old,'XG': xg_score_old})  \n",
        "new_df=pd.DataFrame({'Scoring': labels,'Log':log_score_new,'KNN':knn_score_new,'DT':dt_score_new,'RF':rf_score_new,'XG': xg_score_new})  "
      ],
      "execution_count": null,
      "outputs": []
    },
    {
      "cell_type": "code",
      "metadata": {
        "colab": {
          "base_uri": "https://localhost:8080/",
          "height": 173
        },
        "id": "xHLO8G-37eMF",
        "outputId": "a6121819-a6af-4e6e-81d9-9a3f117f610e"
      },
      "source": [
        "old_df"
      ],
      "execution_count": null,
      "outputs": [
        {
          "output_type": "execute_result",
          "data": {
            "text/html": [
              "<div>\n",
              "<style scoped>\n",
              "    .dataframe tbody tr th:only-of-type {\n",
              "        vertical-align: middle;\n",
              "    }\n",
              "\n",
              "    .dataframe tbody tr th {\n",
              "        vertical-align: top;\n",
              "    }\n",
              "\n",
              "    .dataframe thead th {\n",
              "        text-align: right;\n",
              "    }\n",
              "</style>\n",
              "<table border=\"1\" class=\"dataframe\">\n",
              "  <thead>\n",
              "    <tr style=\"text-align: right;\">\n",
              "      <th></th>\n",
              "      <th>Scoring</th>\n",
              "      <th>Log</th>\n",
              "      <th>KNN</th>\n",
              "      <th>DT</th>\n",
              "      <th>RF</th>\n",
              "      <th>XG</th>\n",
              "    </tr>\n",
              "  </thead>\n",
              "  <tbody>\n",
              "    <tr>\n",
              "      <th>0</th>\n",
              "      <td>Accuracy</td>\n",
              "      <td>0.820588</td>\n",
              "      <td>0.742656</td>\n",
              "      <td>0.743991</td>\n",
              "      <td>0.771304</td>\n",
              "      <td>0.841831</td>\n",
              "    </tr>\n",
              "    <tr>\n",
              "      <th>1</th>\n",
              "      <td>Precision</td>\n",
              "      <td>0.338615</td>\n",
              "      <td>0.267732</td>\n",
              "      <td>0.284568</td>\n",
              "      <td>0.314152</td>\n",
              "      <td>0.376888</td>\n",
              "    </tr>\n",
              "    <tr>\n",
              "      <th>2</th>\n",
              "      <td>Recall</td>\n",
              "      <td>0.621767</td>\n",
              "      <td>0.740302</td>\n",
              "      <td>0.840517</td>\n",
              "      <td>0.870690</td>\n",
              "      <td>0.618534</td>\n",
              "    </tr>\n",
              "    <tr>\n",
              "      <th>3</th>\n",
              "      <td>f1_score</td>\n",
              "      <td>0.438450</td>\n",
              "      <td>0.393246</td>\n",
              "      <td>0.425184</td>\n",
              "      <td>0.461714</td>\n",
              "      <td>0.468380</td>\n",
              "    </tr>\n",
              "  </tbody>\n",
              "</table>\n",
              "</div>"
            ],
            "text/plain": [
              "     Scoring       Log       KNN        DT        RF        XG\n",
              "0   Accuracy  0.820588  0.742656  0.743991  0.771304  0.841831\n",
              "1  Precision  0.338615  0.267732  0.284568  0.314152  0.376888\n",
              "2     Recall  0.621767  0.740302  0.840517  0.870690  0.618534\n",
              "3   f1_score  0.438450  0.393246  0.425184  0.461714  0.468380"
            ]
          },
          "metadata": {
            "tags": []
          },
          "execution_count": 44
        }
      ]
    },
    {
      "cell_type": "code",
      "metadata": {
        "colab": {
          "base_uri": "https://localhost:8080/",
          "height": 173
        },
        "id": "NWlsnnuKGwE8",
        "outputId": "74601cb0-ee14-4681-bc70-a0b6a6f54f0b"
      },
      "source": [
        "new_df"
      ],
      "execution_count": null,
      "outputs": [
        {
          "output_type": "execute_result",
          "data": {
            "text/html": [
              "<div>\n",
              "<style scoped>\n",
              "    .dataframe tbody tr th:only-of-type {\n",
              "        vertical-align: middle;\n",
              "    }\n",
              "\n",
              "    .dataframe tbody tr th {\n",
              "        vertical-align: top;\n",
              "    }\n",
              "\n",
              "    .dataframe thead th {\n",
              "        text-align: right;\n",
              "    }\n",
              "</style>\n",
              "<table border=\"1\" class=\"dataframe\">\n",
              "  <thead>\n",
              "    <tr style=\"text-align: right;\">\n",
              "      <th></th>\n",
              "      <th>Scoring</th>\n",
              "      <th>Log</th>\n",
              "      <th>KNN</th>\n",
              "      <th>DT</th>\n",
              "      <th>RF</th>\n",
              "      <th>XG</th>\n",
              "    </tr>\n",
              "  </thead>\n",
              "  <tbody>\n",
              "    <tr>\n",
              "      <th>0</th>\n",
              "      <td>Accuracy</td>\n",
              "      <td>0.738685</td>\n",
              "      <td>0.708513</td>\n",
              "      <td>0.681573</td>\n",
              "      <td>0.726832</td>\n",
              "      <td>0.746228</td>\n",
              "    </tr>\n",
              "    <tr>\n",
              "      <th>1</th>\n",
              "      <td>Precision</td>\n",
              "      <td>0.804911</td>\n",
              "      <td>0.724971</td>\n",
              "      <td>0.700353</td>\n",
              "      <td>0.747381</td>\n",
              "      <td>0.822378</td>\n",
              "    </tr>\n",
              "    <tr>\n",
              "      <th>2</th>\n",
              "      <td>Recall</td>\n",
              "      <td>0.633047</td>\n",
              "      <td>0.675966</td>\n",
              "      <td>0.639485</td>\n",
              "      <td>0.688841</td>\n",
              "      <td>0.630901</td>\n",
              "    </tr>\n",
              "    <tr>\n",
              "      <th>3</th>\n",
              "      <td>f1_score</td>\n",
              "      <td>0.708709</td>\n",
              "      <td>0.699611</td>\n",
              "      <td>0.668536</td>\n",
              "      <td>0.716918</td>\n",
              "      <td>0.714026</td>\n",
              "    </tr>\n",
              "  </tbody>\n",
              "</table>\n",
              "</div>"
            ],
            "text/plain": [
              "     Scoring       Log       KNN        DT        RF        XG\n",
              "0   Accuracy  0.738685  0.708513  0.681573  0.726832  0.746228\n",
              "1  Precision  0.804911  0.724971  0.700353  0.747381  0.822378\n",
              "2     Recall  0.633047  0.675966  0.639485  0.688841  0.630901\n",
              "3   f1_score  0.708709  0.699611  0.668536  0.716918  0.714026"
            ]
          },
          "metadata": {
            "tags": []
          },
          "execution_count": 45
        }
      ]
    },
    {
      "cell_type": "markdown",
      "metadata": {
        "id": "cmbVVwzY72-X"
      },
      "source": [
        "Disini kelompok kami memilih recall sebagai metode evaluasi model, dikarenakan pada case ini impact dari kasus false negative (salah mengklasifikasi orang yang akan deposit menjadi tidak deposit )lebih besar dari kasus false positive ( orang yang tidak deposit di klasifikasi menjadi orang yang akan deposit )"
      ]
    },
    {
      "cell_type": "markdown",
      "metadata": {
        "id": "4EYLtZDNLu9n"
      },
      "source": [
        "#Checking Underfiting / Overfitting"
      ]
    },
    {
      "cell_type": "code",
      "metadata": {
        "id": "JuNyhdIOLzhC"
      },
      "source": [
        "train_accuracy = []\n",
        "test_accuracy = []\n",
        "metode = [logreg_std,knn_std,dt_std,rf_std,xg_std]\n",
        "for i in metode:\n",
        "\n",
        "  y_predict_train = i.predict(X_train)\n",
        "  train_accuracy.append(recall_score(y_train,y_predict_train))\n",
        "\n",
        "  y_predict_test = i.predict(X_test)\n",
        "  test_accuracy.append(recall_score(y_test,y_predict_test))"
      ],
      "execution_count": null,
      "outputs": []
    },
    {
      "cell_type": "code",
      "metadata": {
        "colab": {
          "base_uri": "https://localhost:8080/"
        },
        "id": "bM8lBMgkL2Y5",
        "outputId": "ab6f9d11-5d89-477f-e348-cc1276ccb5b7"
      },
      "source": [
        "train_accuracy\n"
      ],
      "execution_count": null,
      "outputs": [
        {
          "output_type": "execute_result",
          "data": {
            "text/plain": [
              "[0.6227076591154261,\n",
              " 0.7583603020496225,\n",
              " 0.8942826321467098,\n",
              " 0.919093851132686,\n",
              " 0.6281014023732471]"
            ]
          },
          "metadata": {
            "tags": []
          },
          "execution_count": 47
        }
      ]
    },
    {
      "cell_type": "code",
      "metadata": {
        "colab": {
          "base_uri": "https://localhost:8080/"
        },
        "id": "p6ksKtqCL4Vz",
        "outputId": "02fed718-fd0c-44cc-f329-ac8063d8c1e3"
      },
      "source": [
        "test_accuracy"
      ],
      "execution_count": null,
      "outputs": [
        {
          "output_type": "execute_result",
          "data": {
            "text/plain": [
              "[0.6330472103004292,\n",
              " 0.6759656652360515,\n",
              " 0.6394849785407726,\n",
              " 0.6888412017167382,\n",
              " 0.630901287553648]"
            ]
          },
          "metadata": {
            "tags": []
          },
          "execution_count": 48
        }
      ]
    },
    {
      "cell_type": "code",
      "metadata": {
        "id": "PS_3kZFoafCg"
      },
      "source": [
        "acc = pd.DataFrame({'train_accuracy':train_accuracy,'test_accuracy':test_accuracy})"
      ],
      "execution_count": null,
      "outputs": []
    },
    {
      "cell_type": "code",
      "metadata": {
        "id": "0uBKwTnSbmeP"
      },
      "source": [
        "acc['Recall_Metode'] = ['logreg_std','knn_std','dt_std','rf_std','xg_std']"
      ],
      "execution_count": null,
      "outputs": []
    },
    {
      "cell_type": "code",
      "metadata": {
        "colab": {
          "base_uri": "https://localhost:8080/",
          "height": 204
        },
        "id": "PQZU8NFGbh3D",
        "outputId": "01f26e1f-eda8-4f04-cd0c-3e707bd43c8a"
      },
      "source": [
        "acc"
      ],
      "execution_count": null,
      "outputs": [
        {
          "output_type": "execute_result",
          "data": {
            "text/html": [
              "<div>\n",
              "<style scoped>\n",
              "    .dataframe tbody tr th:only-of-type {\n",
              "        vertical-align: middle;\n",
              "    }\n",
              "\n",
              "    .dataframe tbody tr th {\n",
              "        vertical-align: top;\n",
              "    }\n",
              "\n",
              "    .dataframe thead th {\n",
              "        text-align: right;\n",
              "    }\n",
              "</style>\n",
              "<table border=\"1\" class=\"dataframe\">\n",
              "  <thead>\n",
              "    <tr style=\"text-align: right;\">\n",
              "      <th></th>\n",
              "      <th>train_accuracy</th>\n",
              "      <th>test_accuracy</th>\n",
              "      <th>Recall_Metode</th>\n",
              "    </tr>\n",
              "  </thead>\n",
              "  <tbody>\n",
              "    <tr>\n",
              "      <th>0</th>\n",
              "      <td>0.622708</td>\n",
              "      <td>0.633047</td>\n",
              "      <td>logreg_std</td>\n",
              "    </tr>\n",
              "    <tr>\n",
              "      <th>1</th>\n",
              "      <td>0.758360</td>\n",
              "      <td>0.675966</td>\n",
              "      <td>knn_std</td>\n",
              "    </tr>\n",
              "    <tr>\n",
              "      <th>2</th>\n",
              "      <td>0.894283</td>\n",
              "      <td>0.639485</td>\n",
              "      <td>dt_std</td>\n",
              "    </tr>\n",
              "    <tr>\n",
              "      <th>3</th>\n",
              "      <td>0.919094</td>\n",
              "      <td>0.688841</td>\n",
              "      <td>rf_std</td>\n",
              "    </tr>\n",
              "    <tr>\n",
              "      <th>4</th>\n",
              "      <td>0.628101</td>\n",
              "      <td>0.630901</td>\n",
              "      <td>xg_std</td>\n",
              "    </tr>\n",
              "  </tbody>\n",
              "</table>\n",
              "</div>"
            ],
            "text/plain": [
              "   train_accuracy  test_accuracy Recall_Metode\n",
              "0        0.622708       0.633047    logreg_std\n",
              "1        0.758360       0.675966       knn_std\n",
              "2        0.894283       0.639485        dt_std\n",
              "3        0.919094       0.688841        rf_std\n",
              "4        0.628101       0.630901        xg_std"
            ]
          },
          "metadata": {
            "tags": []
          },
          "execution_count": 51
        }
      ]
    },
    {
      "cell_type": "code",
      "metadata": {
        "colab": {
          "base_uri": "https://localhost:8080/",
          "height": 416
        },
        "id": "wCIpxp7ZaiHI",
        "outputId": "f55978e2-601f-4786-b51d-8cb573492892"
      },
      "source": [
        "plt.figure(figsize=(25, 20))\n",
        "plt.subplot(3,3,1)\n",
        "sns.lineplot(data=acc,x='Recall_Metode',y='test_accuracy')\n",
        "sns.lineplot(data=acc,x='Recall_Metode',y='train_accuracy')\n",
        "plt.xlabel('Metode')\n",
        "plt.ylabel('Recall_Score')\n",
        "plt.legend(['Test Dataset','Training Dataset'])\n",
        "plt.title('Recall')"
      ],
      "execution_count": null,
      "outputs": [
        {
          "output_type": "execute_result",
          "data": {
            "text/plain": [
              "Text(0.5, 1.0, 'Recall')"
            ]
          },
          "metadata": {
            "tags": []
          },
          "execution_count": 52
        },
        {
          "output_type": "display_data",
          "data": {
            "image/png": "[encoded data removed]",
            "text/plain": [
              "<Figure size 1800x1440 with 1 Axes>"
            ]
          },
          "metadata": {
            "tags": [],
            "needs_background": "light"
          }
        }
      ]
    },
    {
      "cell_type": "markdown",
      "metadata": {
        "id": "3WkKcBYM7BEa"
      },
      "source": [
        "Berdasarkan nilai dari masing-masing model diketahui bahwa xg boost dan random forest memiliki nilai recall terbaik diantara model yang lainnya. Nilai recall random forest lebih tinggi dibanding-kan dengan XGBoost. Namun Random forest memiliki selisih yang cukup besar antara score predict train dataset dan test dataset atau dapat dikatakan overfitting. Sedangkan XGBoost tidak memiliki selisih yang signifikan. Oleh karena itu, selanjutnya kami akan menggunakan model XGBoost untuk proses deployment"
      ]
    },
    {
      "cell_type": "markdown",
      "metadata": {
        "id": "MnbhFPIgMRB-"
      },
      "source": [
        "#Tunning"
      ]
    },
    {
      "cell_type": "code",
      "metadata": {
        "id": "A2LAOd1w-8F5",
        "colab": {
          "base_uri": "https://localhost:8080/"
        },
        "outputId": "523987c6-8d4c-4005-8f59-36d93d1ef095"
      },
      "source": [
        "param = [{\"random_state\":[42],\n",
        "          \"learning_rate\"    : np.arange(0.1,0.5,0.1),\n",
        "          \"gamma\"            : np.arange(0,0.5,0.01),\n",
        "          \"colsample_bytree\" : np.arange(0.1,1,0.1),\n",
        "          'base_score':np.arange(0,0.6,0.01)}]\n",
        "random_search = RandomizedSearchCV(XGBClassifier(), param, verbose=0,n_jobs=-1,scoring='recall')\n",
        "random_search.fit(X_train,y_train)"
      ],
      "execution_count": null,
      "outputs": [
        {
          "output_type": "execute_result",
          "data": {
            "text/plain": [
              "RandomizedSearchCV(cv=None, error_score=nan,\n",
              "                   estimator=XGBClassifier(base_score=0.5, booster='gbtree',\n",
              "                                           colsample_bylevel=1,\n",
              "                                           colsample_bynode=1,\n",
              "                                           colsample_bytree=1, gamma=0,\n",
              "                                           learning_rate=0.1, max_delta_step=0,\n",
              "                                           max_depth=3, min_child_weight=1,\n",
              "                                           missing=None, n_estimators=100,\n",
              "                                           n_jobs=1, nthread=None,\n",
              "                                           objective='binary:logistic',\n",
              "                                           random_state=0, reg_alpha=0,\n",
              "                                           reg_lambda=1...\n",
              "       0.11, 0.12, 0.13, 0.14, 0.15, 0.16, 0.17, 0.18, 0.19, 0.2 , 0.21,\n",
              "       0.22, 0.23, 0.24, 0.25, 0.26, 0.27, 0.28, 0.29, 0.3 , 0.31, 0.32,\n",
              "       0.33, 0.34, 0.35, 0.36, 0.37, 0.38, 0.39, 0.4 , 0.41, 0.42, 0.43,\n",
              "       0.44, 0.45, 0.46, 0.47, 0.48, 0.49]),\n",
              "                                         'learning_rate': array([0.1, 0.2, 0.3, 0.4]),\n",
              "                                         'random_state': [42]}],\n",
              "                   pre_dispatch='2*n_jobs', random_state=None, refit=True,\n",
              "                   return_train_score=False, scoring='recall', verbose=0)"
            ]
          },
          "metadata": {
            "tags": []
          },
          "execution_count": 67
        }
      ]
    },
    {
      "cell_type": "code",
      "metadata": {
        "colab": {
          "base_uri": "https://localhost:8080/"
        },
        "id": "XbEYxCLUcJUE",
        "outputId": "b9a9e559-dc43-40ba-ddb1-96bc02cf8cf5"
      },
      "source": [
        "random_search.best_params_"
      ],
      "execution_count": null,
      "outputs": [
        {
          "output_type": "execute_result",
          "data": {
            "text/plain": [
              "{'base_score': 0.39,\n",
              " 'colsample_bytree': 0.4,\n",
              " 'gamma': 0.19,\n",
              " 'learning_rate': 0.30000000000000004,\n",
              " 'random_state': 42}"
            ]
          },
          "metadata": {
            "tags": []
          },
          "execution_count": 68
        }
      ]
    },
    {
      "cell_type": "code",
      "metadata": {
        "colab": {
          "base_uri": "https://localhost:8080/"
        },
        "id": "gFfnn7y3cPKN",
        "outputId": "dcfcea50-884b-4fe9-b166-8de3fe5251b9"
      },
      "source": [
        "random_search.best_score_"
      ],
      "execution_count": null,
      "outputs": [
        {
          "output_type": "execute_result",
          "data": {
            "text/plain": [
              "0.6372676975457512"
            ]
          },
          "metadata": {
            "tags": []
          },
          "execution_count": 69
        }
      ]
    },
    {
      "cell_type": "markdown",
      "metadata": {
        "id": "_e_H4FrQG_3B"
      },
      "source": [
        "Nilai recall sebelum tuning sebesar 0.63 dan setelah tuning 0.0.63726. Karena kebetulan tidak memiliki perbedaan yang signifikan, maka parameter yang digunakan adalah parameter standar."
      ]
    },
    {
      "cell_type": "markdown",
      "metadata": {
        "id": "vS1WqrPuDXBn"
      },
      "source": [
        "# Predict Proba dataset tanpa imbalance data"
      ]
    },
    {
      "cell_type": "markdown",
      "metadata": {
        "id": "rVys44rD1YKD"
      },
      "source": [
        "##Predict Probability"
      ]
    },
    {
      "cell_type": "code",
      "metadata": {
        "id": "gHUSExiEMloH"
      },
      "source": [
        "prob_xg = pd.DataFrame(data = xg_std.predict_proba(X_test))"
      ],
      "execution_count": null,
      "outputs": []
    },
    {
      "cell_type": "code",
      "metadata": {
        "id": "fxDPSmjzigbz",
        "colab": {
          "base_uri": "https://localhost:8080/",
          "height": 419
        },
        "outputId": "c0896ff9-0594-4941-c1e1-d9e6b7cb1ee1"
      },
      "source": [
        "prob_xg"
      ],
      "execution_count": null,
      "outputs": [
        {
          "output_type": "execute_result",
          "data": {
            "text/html": [
              "<div>\n",
              "<style scoped>\n",
              "    .dataframe tbody tr th:only-of-type {\n",
              "        vertical-align: middle;\n",
              "    }\n",
              "\n",
              "    .dataframe tbody tr th {\n",
              "        vertical-align: top;\n",
              "    }\n",
              "\n",
              "    .dataframe thead th {\n",
              "        text-align: right;\n",
              "    }\n",
              "</style>\n",
              "<table border=\"1\" class=\"dataframe\">\n",
              "  <thead>\n",
              "    <tr style=\"text-align: right;\">\n",
              "      <th></th>\n",
              "      <th>0</th>\n",
              "      <th>1</th>\n",
              "    </tr>\n",
              "  </thead>\n",
              "  <tbody>\n",
              "    <tr>\n",
              "      <th>0</th>\n",
              "      <td>0.794457</td>\n",
              "      <td>0.205543</td>\n",
              "    </tr>\n",
              "    <tr>\n",
              "      <th>1</th>\n",
              "      <td>0.778346</td>\n",
              "      <td>0.221654</td>\n",
              "    </tr>\n",
              "    <tr>\n",
              "      <th>2</th>\n",
              "      <td>0.776048</td>\n",
              "      <td>0.223952</td>\n",
              "    </tr>\n",
              "    <tr>\n",
              "      <th>3</th>\n",
              "      <td>0.808120</td>\n",
              "      <td>0.191880</td>\n",
              "    </tr>\n",
              "    <tr>\n",
              "      <th>4</th>\n",
              "      <td>0.184721</td>\n",
              "      <td>0.815279</td>\n",
              "    </tr>\n",
              "    <tr>\n",
              "      <th>...</th>\n",
              "      <td>...</td>\n",
              "      <td>...</td>\n",
              "    </tr>\n",
              "    <tr>\n",
              "      <th>1851</th>\n",
              "      <td>0.774699</td>\n",
              "      <td>0.225301</td>\n",
              "    </tr>\n",
              "    <tr>\n",
              "      <th>1852</th>\n",
              "      <td>0.596222</td>\n",
              "      <td>0.403778</td>\n",
              "    </tr>\n",
              "    <tr>\n",
              "      <th>1853</th>\n",
              "      <td>0.658994</td>\n",
              "      <td>0.341006</td>\n",
              "    </tr>\n",
              "    <tr>\n",
              "      <th>1854</th>\n",
              "      <td>0.024289</td>\n",
              "      <td>0.975711</td>\n",
              "    </tr>\n",
              "    <tr>\n",
              "      <th>1855</th>\n",
              "      <td>0.798479</td>\n",
              "      <td>0.201520</td>\n",
              "    </tr>\n",
              "  </tbody>\n",
              "</table>\n",
              "<p>1856 rows × 2 columns</p>\n",
              "</div>"
            ],
            "text/plain": [
              "             0         1\n",
              "0     0.794457  0.205543\n",
              "1     0.778346  0.221654\n",
              "2     0.776048  0.223952\n",
              "3     0.808120  0.191880\n",
              "4     0.184721  0.815279\n",
              "...        ...       ...\n",
              "1851  0.774699  0.225301\n",
              "1852  0.596222  0.403778\n",
              "1853  0.658994  0.341006\n",
              "1854  0.024289  0.975711\n",
              "1855  0.798479  0.201520\n",
              "\n",
              "[1856 rows x 2 columns]"
            ]
          },
          "metadata": {
            "tags": []
          },
          "execution_count": 81
        }
      ]
    },
    {
      "cell_type": "code",
      "metadata": {
        "id": "2jqi7QIRhOfM"
      },
      "source": [
        "prob_xg_new=prob_xg.rename(columns={0:'prob_0',1:'prob_1'})"
      ],
      "execution_count": null,
      "outputs": []
    },
    {
      "cell_type": "code",
      "metadata": {
        "id": "SqutIo6widH2",
        "colab": {
          "base_uri": "https://localhost:8080/",
          "height": 419
        },
        "outputId": "da0abb73-0496-4851-b7d7-54b830505658"
      },
      "source": [
        "prob_xg_new"
      ],
      "execution_count": null,
      "outputs": [
        {
          "output_type": "execute_result",
          "data": {
            "text/html": [
              "<div>\n",
              "<style scoped>\n",
              "    .dataframe tbody tr th:only-of-type {\n",
              "        vertical-align: middle;\n",
              "    }\n",
              "\n",
              "    .dataframe tbody tr th {\n",
              "        vertical-align: top;\n",
              "    }\n",
              "\n",
              "    .dataframe thead th {\n",
              "        text-align: right;\n",
              "    }\n",
              "</style>\n",
              "<table border=\"1\" class=\"dataframe\">\n",
              "  <thead>\n",
              "    <tr style=\"text-align: right;\">\n",
              "      <th></th>\n",
              "      <th>prob_0</th>\n",
              "      <th>prob_1</th>\n",
              "    </tr>\n",
              "  </thead>\n",
              "  <tbody>\n",
              "    <tr>\n",
              "      <th>0</th>\n",
              "      <td>0.794457</td>\n",
              "      <td>0.205543</td>\n",
              "    </tr>\n",
              "    <tr>\n",
              "      <th>1</th>\n",
              "      <td>0.778346</td>\n",
              "      <td>0.221654</td>\n",
              "    </tr>\n",
              "    <tr>\n",
              "      <th>2</th>\n",
              "      <td>0.776048</td>\n",
              "      <td>0.223952</td>\n",
              "    </tr>\n",
              "    <tr>\n",
              "      <th>3</th>\n",
              "      <td>0.808120</td>\n",
              "      <td>0.191880</td>\n",
              "    </tr>\n",
              "    <tr>\n",
              "      <th>4</th>\n",
              "      <td>0.184721</td>\n",
              "      <td>0.815279</td>\n",
              "    </tr>\n",
              "    <tr>\n",
              "      <th>...</th>\n",
              "      <td>...</td>\n",
              "      <td>...</td>\n",
              "    </tr>\n",
              "    <tr>\n",
              "      <th>1851</th>\n",
              "      <td>0.774699</td>\n",
              "      <td>0.225301</td>\n",
              "    </tr>\n",
              "    <tr>\n",
              "      <th>1852</th>\n",
              "      <td>0.596222</td>\n",
              "      <td>0.403778</td>\n",
              "    </tr>\n",
              "    <tr>\n",
              "      <th>1853</th>\n",
              "      <td>0.658994</td>\n",
              "      <td>0.341006</td>\n",
              "    </tr>\n",
              "    <tr>\n",
              "      <th>1854</th>\n",
              "      <td>0.024289</td>\n",
              "      <td>0.975711</td>\n",
              "    </tr>\n",
              "    <tr>\n",
              "      <th>1855</th>\n",
              "      <td>0.798479</td>\n",
              "      <td>0.201520</td>\n",
              "    </tr>\n",
              "  </tbody>\n",
              "</table>\n",
              "<p>1856 rows × 2 columns</p>\n",
              "</div>"
            ],
            "text/plain": [
              "        prob_0    prob_1\n",
              "0     0.794457  0.205543\n",
              "1     0.778346  0.221654\n",
              "2     0.776048  0.223952\n",
              "3     0.808120  0.191880\n",
              "4     0.184721  0.815279\n",
              "...        ...       ...\n",
              "1851  0.774699  0.225301\n",
              "1852  0.596222  0.403778\n",
              "1853  0.658994  0.341006\n",
              "1854  0.024289  0.975711\n",
              "1855  0.798479  0.201520\n",
              "\n",
              "[1856 rows x 2 columns]"
            ]
          },
          "metadata": {
            "tags": []
          },
          "execution_count": 83
        }
      ]
    },
    {
      "cell_type": "code",
      "metadata": {
        "id": "ZeGhEnS1j5m-",
        "colab": {
          "base_uri": "https://localhost:8080/",
          "height": 419
        },
        "outputId": "7eb9889b-e8e1-46dc-ca39-c6dcf3b46357"
      },
      "source": [
        "yc = pd.DataFrame({'y_test':y_test})\n",
        "yc=yc.reset_index()\n",
        "yc"
      ],
      "execution_count": null,
      "outputs": [
        {
          "output_type": "execute_result",
          "data": {
            "text/html": [
              "<div>\n",
              "<style scoped>\n",
              "    .dataframe tbody tr th:only-of-type {\n",
              "        vertical-align: middle;\n",
              "    }\n",
              "\n",
              "    .dataframe tbody tr th {\n",
              "        vertical-align: top;\n",
              "    }\n",
              "\n",
              "    .dataframe thead th {\n",
              "        text-align: right;\n",
              "    }\n",
              "</style>\n",
              "<table border=\"1\" class=\"dataframe\">\n",
              "  <thead>\n",
              "    <tr style=\"text-align: right;\">\n",
              "      <th></th>\n",
              "      <th>index</th>\n",
              "      <th>y_test</th>\n",
              "    </tr>\n",
              "  </thead>\n",
              "  <tbody>\n",
              "    <tr>\n",
              "      <th>0</th>\n",
              "      <td>10</td>\n",
              "      <td>1</td>\n",
              "    </tr>\n",
              "    <tr>\n",
              "      <th>1</th>\n",
              "      <td>6444</td>\n",
              "      <td>0</td>\n",
              "    </tr>\n",
              "    <tr>\n",
              "      <th>2</th>\n",
              "      <td>5409</td>\n",
              "      <td>0</td>\n",
              "    </tr>\n",
              "    <tr>\n",
              "      <th>3</th>\n",
              "      <td>1011</td>\n",
              "      <td>1</td>\n",
              "    </tr>\n",
              "    <tr>\n",
              "      <th>4</th>\n",
              "      <td>4992</td>\n",
              "      <td>0</td>\n",
              "    </tr>\n",
              "    <tr>\n",
              "      <th>...</th>\n",
              "      <td>...</td>\n",
              "      <td>...</td>\n",
              "    </tr>\n",
              "    <tr>\n",
              "      <th>1851</th>\n",
              "      <td>6596</td>\n",
              "      <td>0</td>\n",
              "    </tr>\n",
              "    <tr>\n",
              "      <th>1852</th>\n",
              "      <td>7400</td>\n",
              "      <td>0</td>\n",
              "    </tr>\n",
              "    <tr>\n",
              "      <th>1853</th>\n",
              "      <td>7605</td>\n",
              "      <td>0</td>\n",
              "    </tr>\n",
              "    <tr>\n",
              "      <th>1854</th>\n",
              "      <td>3628</td>\n",
              "      <td>1</td>\n",
              "    </tr>\n",
              "    <tr>\n",
              "      <th>1855</th>\n",
              "      <td>8442</td>\n",
              "      <td>0</td>\n",
              "    </tr>\n",
              "  </tbody>\n",
              "</table>\n",
              "<p>1856 rows × 2 columns</p>\n",
              "</div>"
            ],
            "text/plain": [
              "      index  y_test\n",
              "0        10       1\n",
              "1      6444       0\n",
              "2      5409       0\n",
              "3      1011       1\n",
              "4      4992       0\n",
              "...     ...     ...\n",
              "1851   6596       0\n",
              "1852   7400       0\n",
              "1853   7605       0\n",
              "1854   3628       1\n",
              "1855   8442       0\n",
              "\n",
              "[1856 rows x 2 columns]"
            ]
          },
          "metadata": {
            "tags": []
          },
          "execution_count": 84
        }
      ]
    },
    {
      "cell_type": "code",
      "metadata": {
        "id": "pcI0nlxAkvkI",
        "colab": {
          "base_uri": "https://localhost:8080/",
          "height": 419
        },
        "outputId": "407013bf-3e38-4ed9-e52b-6e889adbf660"
      },
      "source": [
        "yc=yc.drop(columns=(['index']))\n",
        "yc"
      ],
      "execution_count": null,
      "outputs": [
        {
          "output_type": "execute_result",
          "data": {
            "text/html": [
              "<div>\n",
              "<style scoped>\n",
              "    .dataframe tbody tr th:only-of-type {\n",
              "        vertical-align: middle;\n",
              "    }\n",
              "\n",
              "    .dataframe tbody tr th {\n",
              "        vertical-align: top;\n",
              "    }\n",
              "\n",
              "    .dataframe thead th {\n",
              "        text-align: right;\n",
              "    }\n",
              "</style>\n",
              "<table border=\"1\" class=\"dataframe\">\n",
              "  <thead>\n",
              "    <tr style=\"text-align: right;\">\n",
              "      <th></th>\n",
              "      <th>y_test</th>\n",
              "    </tr>\n",
              "  </thead>\n",
              "  <tbody>\n",
              "    <tr>\n",
              "      <th>0</th>\n",
              "      <td>1</td>\n",
              "    </tr>\n",
              "    <tr>\n",
              "      <th>1</th>\n",
              "      <td>0</td>\n",
              "    </tr>\n",
              "    <tr>\n",
              "      <th>2</th>\n",
              "      <td>0</td>\n",
              "    </tr>\n",
              "    <tr>\n",
              "      <th>3</th>\n",
              "      <td>1</td>\n",
              "    </tr>\n",
              "    <tr>\n",
              "      <th>4</th>\n",
              "      <td>0</td>\n",
              "    </tr>\n",
              "    <tr>\n",
              "      <th>...</th>\n",
              "      <td>...</td>\n",
              "    </tr>\n",
              "    <tr>\n",
              "      <th>1851</th>\n",
              "      <td>0</td>\n",
              "    </tr>\n",
              "    <tr>\n",
              "      <th>1852</th>\n",
              "      <td>0</td>\n",
              "    </tr>\n",
              "    <tr>\n",
              "      <th>1853</th>\n",
              "      <td>0</td>\n",
              "    </tr>\n",
              "    <tr>\n",
              "      <th>1854</th>\n",
              "      <td>1</td>\n",
              "    </tr>\n",
              "    <tr>\n",
              "      <th>1855</th>\n",
              "      <td>0</td>\n",
              "    </tr>\n",
              "  </tbody>\n",
              "</table>\n",
              "<p>1856 rows × 1 columns</p>\n",
              "</div>"
            ],
            "text/plain": [
              "      y_test\n",
              "0          1\n",
              "1          0\n",
              "2          0\n",
              "3          1\n",
              "4          0\n",
              "...      ...\n",
              "1851       0\n",
              "1852       0\n",
              "1853       0\n",
              "1854       1\n",
              "1855       0\n",
              "\n",
              "[1856 rows x 1 columns]"
            ]
          },
          "metadata": {
            "tags": []
          },
          "execution_count": 85
        }
      ]
    },
    {
      "cell_type": "code",
      "metadata": {
        "id": "89FPFb4Rizc6",
        "colab": {
          "base_uri": "https://localhost:8080/",
          "height": 419
        },
        "outputId": "c9a838f1-2f3b-4bf8-e315-b6293145ae47"
      },
      "source": [
        "prob_xg_new = pd.concat([prob_xg_new,yc['y_test']],axis=1)\n",
        "prob_xg_new"
      ],
      "execution_count": null,
      "outputs": [
        {
          "output_type": "execute_result",
          "data": {
            "text/html": [
              "<div>\n",
              "<style scoped>\n",
              "    .dataframe tbody tr th:only-of-type {\n",
              "        vertical-align: middle;\n",
              "    }\n",
              "\n",
              "    .dataframe tbody tr th {\n",
              "        vertical-align: top;\n",
              "    }\n",
              "\n",
              "    .dataframe thead th {\n",
              "        text-align: right;\n",
              "    }\n",
              "</style>\n",
              "<table border=\"1\" class=\"dataframe\">\n",
              "  <thead>\n",
              "    <tr style=\"text-align: right;\">\n",
              "      <th></th>\n",
              "      <th>prob_0</th>\n",
              "      <th>prob_1</th>\n",
              "      <th>y_test</th>\n",
              "    </tr>\n",
              "  </thead>\n",
              "  <tbody>\n",
              "    <tr>\n",
              "      <th>0</th>\n",
              "      <td>0.794457</td>\n",
              "      <td>0.205543</td>\n",
              "      <td>1</td>\n",
              "    </tr>\n",
              "    <tr>\n",
              "      <th>1</th>\n",
              "      <td>0.778346</td>\n",
              "      <td>0.221654</td>\n",
              "      <td>0</td>\n",
              "    </tr>\n",
              "    <tr>\n",
              "      <th>2</th>\n",
              "      <td>0.776048</td>\n",
              "      <td>0.223952</td>\n",
              "      <td>0</td>\n",
              "    </tr>\n",
              "    <tr>\n",
              "      <th>3</th>\n",
              "      <td>0.808120</td>\n",
              "      <td>0.191880</td>\n",
              "      <td>1</td>\n",
              "    </tr>\n",
              "    <tr>\n",
              "      <th>4</th>\n",
              "      <td>0.184721</td>\n",
              "      <td>0.815279</td>\n",
              "      <td>0</td>\n",
              "    </tr>\n",
              "    <tr>\n",
              "      <th>...</th>\n",
              "      <td>...</td>\n",
              "      <td>...</td>\n",
              "      <td>...</td>\n",
              "    </tr>\n",
              "    <tr>\n",
              "      <th>1851</th>\n",
              "      <td>0.774699</td>\n",
              "      <td>0.225301</td>\n",
              "      <td>0</td>\n",
              "    </tr>\n",
              "    <tr>\n",
              "      <th>1852</th>\n",
              "      <td>0.596222</td>\n",
              "      <td>0.403778</td>\n",
              "      <td>0</td>\n",
              "    </tr>\n",
              "    <tr>\n",
              "      <th>1853</th>\n",
              "      <td>0.658994</td>\n",
              "      <td>0.341006</td>\n",
              "      <td>0</td>\n",
              "    </tr>\n",
              "    <tr>\n",
              "      <th>1854</th>\n",
              "      <td>0.024289</td>\n",
              "      <td>0.975711</td>\n",
              "      <td>1</td>\n",
              "    </tr>\n",
              "    <tr>\n",
              "      <th>1855</th>\n",
              "      <td>0.798479</td>\n",
              "      <td>0.201520</td>\n",
              "      <td>0</td>\n",
              "    </tr>\n",
              "  </tbody>\n",
              "</table>\n",
              "<p>1856 rows × 3 columns</p>\n",
              "</div>"
            ],
            "text/plain": [
              "        prob_0    prob_1  y_test\n",
              "0     0.794457  0.205543       1\n",
              "1     0.778346  0.221654       0\n",
              "2     0.776048  0.223952       0\n",
              "3     0.808120  0.191880       1\n",
              "4     0.184721  0.815279       0\n",
              "...        ...       ...     ...\n",
              "1851  0.774699  0.225301       0\n",
              "1852  0.596222  0.403778       0\n",
              "1853  0.658994  0.341006       0\n",
              "1854  0.024289  0.975711       1\n",
              "1855  0.798479  0.201520       0\n",
              "\n",
              "[1856 rows x 3 columns]"
            ]
          },
          "metadata": {
            "tags": []
          },
          "execution_count": 86
        }
      ]
    },
    {
      "cell_type": "code",
      "metadata": {
        "id": "-XA8Ck94lMpS",
        "colab": {
          "base_uri": "https://localhost:8080/",
          "height": 419
        },
        "outputId": "cd78762c-b3b1-4e20-e993-c52e735b93f1"
      },
      "source": [
        "prob_xg_new['y_pred']=y_pred_xg_std\n",
        "prob_xg_new"
      ],
      "execution_count": null,
      "outputs": [
        {
          "output_type": "execute_result",
          "data": {
            "text/html": [
              "<div>\n",
              "<style scoped>\n",
              "    .dataframe tbody tr th:only-of-type {\n",
              "        vertical-align: middle;\n",
              "    }\n",
              "\n",
              "    .dataframe tbody tr th {\n",
              "        vertical-align: top;\n",
              "    }\n",
              "\n",
              "    .dataframe thead th {\n",
              "        text-align: right;\n",
              "    }\n",
              "</style>\n",
              "<table border=\"1\" class=\"dataframe\">\n",
              "  <thead>\n",
              "    <tr style=\"text-align: right;\">\n",
              "      <th></th>\n",
              "      <th>prob_0</th>\n",
              "      <th>prob_1</th>\n",
              "      <th>y_test</th>\n",
              "      <th>y_pred</th>\n",
              "    </tr>\n",
              "  </thead>\n",
              "  <tbody>\n",
              "    <tr>\n",
              "      <th>0</th>\n",
              "      <td>0.794457</td>\n",
              "      <td>0.205543</td>\n",
              "      <td>1</td>\n",
              "      <td>0</td>\n",
              "    </tr>\n",
              "    <tr>\n",
              "      <th>1</th>\n",
              "      <td>0.778346</td>\n",
              "      <td>0.221654</td>\n",
              "      <td>0</td>\n",
              "      <td>0</td>\n",
              "    </tr>\n",
              "    <tr>\n",
              "      <th>2</th>\n",
              "      <td>0.776048</td>\n",
              "      <td>0.223952</td>\n",
              "      <td>0</td>\n",
              "      <td>0</td>\n",
              "    </tr>\n",
              "    <tr>\n",
              "      <th>3</th>\n",
              "      <td>0.808120</td>\n",
              "      <td>0.191880</td>\n",
              "      <td>1</td>\n",
              "      <td>0</td>\n",
              "    </tr>\n",
              "    <tr>\n",
              "      <th>4</th>\n",
              "      <td>0.184721</td>\n",
              "      <td>0.815279</td>\n",
              "      <td>0</td>\n",
              "      <td>1</td>\n",
              "    </tr>\n",
              "    <tr>\n",
              "      <th>...</th>\n",
              "      <td>...</td>\n",
              "      <td>...</td>\n",
              "      <td>...</td>\n",
              "      <td>...</td>\n",
              "    </tr>\n",
              "    <tr>\n",
              "      <th>1851</th>\n",
              "      <td>0.774699</td>\n",
              "      <td>0.225301</td>\n",
              "      <td>0</td>\n",
              "      <td>0</td>\n",
              "    </tr>\n",
              "    <tr>\n",
              "      <th>1852</th>\n",
              "      <td>0.596222</td>\n",
              "      <td>0.403778</td>\n",
              "      <td>0</td>\n",
              "      <td>0</td>\n",
              "    </tr>\n",
              "    <tr>\n",
              "      <th>1853</th>\n",
              "      <td>0.658994</td>\n",
              "      <td>0.341006</td>\n",
              "      <td>0</td>\n",
              "      <td>0</td>\n",
              "    </tr>\n",
              "    <tr>\n",
              "      <th>1854</th>\n",
              "      <td>0.024289</td>\n",
              "      <td>0.975711</td>\n",
              "      <td>1</td>\n",
              "      <td>1</td>\n",
              "    </tr>\n",
              "    <tr>\n",
              "      <th>1855</th>\n",
              "      <td>0.798479</td>\n",
              "      <td>0.201520</td>\n",
              "      <td>0</td>\n",
              "      <td>0</td>\n",
              "    </tr>\n",
              "  </tbody>\n",
              "</table>\n",
              "<p>1856 rows × 4 columns</p>\n",
              "</div>"
            ],
            "text/plain": [
              "        prob_0    prob_1  y_test  y_pred\n",
              "0     0.794457  0.205543       1       0\n",
              "1     0.778346  0.221654       0       0\n",
              "2     0.776048  0.223952       0       0\n",
              "3     0.808120  0.191880       1       0\n",
              "4     0.184721  0.815279       0       1\n",
              "...        ...       ...     ...     ...\n",
              "1851  0.774699  0.225301       0       0\n",
              "1852  0.596222  0.403778       0       0\n",
              "1853  0.658994  0.341006       0       0\n",
              "1854  0.024289  0.975711       1       1\n",
              "1855  0.798479  0.201520       0       0\n",
              "\n",
              "[1856 rows x 4 columns]"
            ]
          },
          "metadata": {
            "tags": []
          },
          "execution_count": 87
        }
      ]
    },
    {
      "cell_type": "code",
      "metadata": {
        "id": "SRrKgfRWmBpa",
        "colab": {
          "base_uri": "https://localhost:8080/",
          "height": 419
        },
        "outputId": "f6e3dbdd-a8ca-44fb-c5f5-b0a4b331b219"
      },
      "source": [
        "#Filtering Data ke True Negative, False Negative, False Positive, True Positive\n",
        "prob_xg_new['filter']=(prob_xg_new['y_test']*2)+(prob_xg_new['y_pred']*4)\n",
        "prob_xg_new"
      ],
      "execution_count": null,
      "outputs": [
        {
          "output_type": "execute_result",
          "data": {
            "text/html": [
              "<div>\n",
              "<style scoped>\n",
              "    .dataframe tbody tr th:only-of-type {\n",
              "        vertical-align: middle;\n",
              "    }\n",
              "\n",
              "    .dataframe tbody tr th {\n",
              "        vertical-align: top;\n",
              "    }\n",
              "\n",
              "    .dataframe thead th {\n",
              "        text-align: right;\n",
              "    }\n",
              "</style>\n",
              "<table border=\"1\" class=\"dataframe\">\n",
              "  <thead>\n",
              "    <tr style=\"text-align: right;\">\n",
              "      <th></th>\n",
              "      <th>prob_0</th>\n",
              "      <th>prob_1</th>\n",
              "      <th>y_test</th>\n",
              "      <th>y_pred</th>\n",
              "      <th>filter</th>\n",
              "    </tr>\n",
              "  </thead>\n",
              "  <tbody>\n",
              "    <tr>\n",
              "      <th>0</th>\n",
              "      <td>0.794457</td>\n",
              "      <td>0.205543</td>\n",
              "      <td>1</td>\n",
              "      <td>0</td>\n",
              "      <td>2</td>\n",
              "    </tr>\n",
              "    <tr>\n",
              "      <th>1</th>\n",
              "      <td>0.778346</td>\n",
              "      <td>0.221654</td>\n",
              "      <td>0</td>\n",
              "      <td>0</td>\n",
              "      <td>0</td>\n",
              "    </tr>\n",
              "    <tr>\n",
              "      <th>2</th>\n",
              "      <td>0.776048</td>\n",
              "      <td>0.223952</td>\n",
              "      <td>0</td>\n",
              "      <td>0</td>\n",
              "      <td>0</td>\n",
              "    </tr>\n",
              "    <tr>\n",
              "      <th>3</th>\n",
              "      <td>0.808120</td>\n",
              "      <td>0.191880</td>\n",
              "      <td>1</td>\n",
              "      <td>0</td>\n",
              "      <td>2</td>\n",
              "    </tr>\n",
              "    <tr>\n",
              "      <th>4</th>\n",
              "      <td>0.184721</td>\n",
              "      <td>0.815279</td>\n",
              "      <td>0</td>\n",
              "      <td>1</td>\n",
              "      <td>4</td>\n",
              "    </tr>\n",
              "    <tr>\n",
              "      <th>...</th>\n",
              "      <td>...</td>\n",
              "      <td>...</td>\n",
              "      <td>...</td>\n",
              "      <td>...</td>\n",
              "      <td>...</td>\n",
              "    </tr>\n",
              "    <tr>\n",
              "      <th>1851</th>\n",
              "      <td>0.774699</td>\n",
              "      <td>0.225301</td>\n",
              "      <td>0</td>\n",
              "      <td>0</td>\n",
              "      <td>0</td>\n",
              "    </tr>\n",
              "    <tr>\n",
              "      <th>1852</th>\n",
              "      <td>0.596222</td>\n",
              "      <td>0.403778</td>\n",
              "      <td>0</td>\n",
              "      <td>0</td>\n",
              "      <td>0</td>\n",
              "    </tr>\n",
              "    <tr>\n",
              "      <th>1853</th>\n",
              "      <td>0.658994</td>\n",
              "      <td>0.341006</td>\n",
              "      <td>0</td>\n",
              "      <td>0</td>\n",
              "      <td>0</td>\n",
              "    </tr>\n",
              "    <tr>\n",
              "      <th>1854</th>\n",
              "      <td>0.024289</td>\n",
              "      <td>0.975711</td>\n",
              "      <td>1</td>\n",
              "      <td>1</td>\n",
              "      <td>6</td>\n",
              "    </tr>\n",
              "    <tr>\n",
              "      <th>1855</th>\n",
              "      <td>0.798479</td>\n",
              "      <td>0.201520</td>\n",
              "      <td>0</td>\n",
              "      <td>0</td>\n",
              "      <td>0</td>\n",
              "    </tr>\n",
              "  </tbody>\n",
              "</table>\n",
              "<p>1856 rows × 5 columns</p>\n",
              "</div>"
            ],
            "text/plain": [
              "        prob_0    prob_1  y_test  y_pred  filter\n",
              "0     0.794457  0.205543       1       0       2\n",
              "1     0.778346  0.221654       0       0       0\n",
              "2     0.776048  0.223952       0       0       0\n",
              "3     0.808120  0.191880       1       0       2\n",
              "4     0.184721  0.815279       0       1       4\n",
              "...        ...       ...     ...     ...     ...\n",
              "1851  0.774699  0.225301       0       0       0\n",
              "1852  0.596222  0.403778       0       0       0\n",
              "1853  0.658994  0.341006       0       0       0\n",
              "1854  0.024289  0.975711       1       1       6\n",
              "1855  0.798479  0.201520       0       0       0\n",
              "\n",
              "[1856 rows x 5 columns]"
            ]
          },
          "metadata": {
            "tags": []
          },
          "execution_count": 88
        }
      ]
    },
    {
      "cell_type": "markdown",
      "metadata": {
        "id": "BlCFGKo7Nf8C"
      },
      "source": [
        "0 -- y_test = 0 dan y_pred = 0 True Negative\n",
        "\n",
        "2 -- y_test = 1 dan y_pred = 0 False Negative\n",
        "\n",
        "4 -- y_test = 0 dan y_pred = 1 False Positive\n",
        "\n",
        "6 -- y_test = 1 dan y_pred = 1 True Positive"
      ]
    },
    {
      "cell_type": "code",
      "metadata": {
        "id": "RfBSCUXCmROo",
        "colab": {
          "base_uri": "https://localhost:8080/",
          "height": 255
        },
        "outputId": "b19b15d6-68d8-4b37-a01d-c64d78e434d8"
      },
      "source": [
        "prob_xg_new.groupby(by='filter').describe()"
      ],
      "execution_count": null,
      "outputs": [
        {
          "output_type": "execute_result",
          "data": {
            "text/html": [
              "<div>\n",
              "<style scoped>\n",
              "    .dataframe tbody tr th:only-of-type {\n",
              "        vertical-align: middle;\n",
              "    }\n",
              "\n",
              "    .dataframe tbody tr th {\n",
              "        vertical-align: top;\n",
              "    }\n",
              "\n",
              "    .dataframe thead tr th {\n",
              "        text-align: left;\n",
              "    }\n",
              "\n",
              "    .dataframe thead tr:last-of-type th {\n",
              "        text-align: right;\n",
              "    }\n",
              "</style>\n",
              "<table border=\"1\" class=\"dataframe\">\n",
              "  <thead>\n",
              "    <tr>\n",
              "      <th></th>\n",
              "      <th colspan=\"8\" halign=\"left\">prob_0</th>\n",
              "      <th colspan=\"8\" halign=\"left\">prob_1</th>\n",
              "      <th colspan=\"8\" halign=\"left\">y_test</th>\n",
              "      <th colspan=\"8\" halign=\"left\">y_pred</th>\n",
              "    </tr>\n",
              "    <tr>\n",
              "      <th></th>\n",
              "      <th>count</th>\n",
              "      <th>mean</th>\n",
              "      <th>std</th>\n",
              "      <th>min</th>\n",
              "      <th>25%</th>\n",
              "      <th>50%</th>\n",
              "      <th>75%</th>\n",
              "      <th>max</th>\n",
              "      <th>count</th>\n",
              "      <th>mean</th>\n",
              "      <th>std</th>\n",
              "      <th>min</th>\n",
              "      <th>25%</th>\n",
              "      <th>50%</th>\n",
              "      <th>75%</th>\n",
              "      <th>max</th>\n",
              "      <th>count</th>\n",
              "      <th>mean</th>\n",
              "      <th>std</th>\n",
              "      <th>min</th>\n",
              "      <th>25%</th>\n",
              "      <th>50%</th>\n",
              "      <th>75%</th>\n",
              "      <th>max</th>\n",
              "      <th>count</th>\n",
              "      <th>mean</th>\n",
              "      <th>std</th>\n",
              "      <th>min</th>\n",
              "      <th>25%</th>\n",
              "      <th>50%</th>\n",
              "      <th>75%</th>\n",
              "      <th>max</th>\n",
              "    </tr>\n",
              "    <tr>\n",
              "      <th>filter</th>\n",
              "      <th></th>\n",
              "      <th></th>\n",
              "      <th></th>\n",
              "      <th></th>\n",
              "      <th></th>\n",
              "      <th></th>\n",
              "      <th></th>\n",
              "      <th></th>\n",
              "      <th></th>\n",
              "      <th></th>\n",
              "      <th></th>\n",
              "      <th></th>\n",
              "      <th></th>\n",
              "      <th></th>\n",
              "      <th></th>\n",
              "      <th></th>\n",
              "      <th></th>\n",
              "      <th></th>\n",
              "      <th></th>\n",
              "      <th></th>\n",
              "      <th></th>\n",
              "      <th></th>\n",
              "      <th></th>\n",
              "      <th></th>\n",
              "      <th></th>\n",
              "      <th></th>\n",
              "      <th></th>\n",
              "      <th></th>\n",
              "      <th></th>\n",
              "      <th></th>\n",
              "      <th></th>\n",
              "      <th></th>\n",
              "    </tr>\n",
              "  </thead>\n",
              "  <tbody>\n",
              "    <tr>\n",
              "      <th>0</th>\n",
              "      <td>797.0</td>\n",
              "      <td>0.705724</td>\n",
              "      <td>0.079331</td>\n",
              "      <td>0.502927</td>\n",
              "      <td>0.645846</td>\n",
              "      <td>0.717397</td>\n",
              "      <td>0.774699</td>\n",
              "      <td>0.932900</td>\n",
              "      <td>797.0</td>\n",
              "      <td>0.294276</td>\n",
              "      <td>0.079331</td>\n",
              "      <td>0.067100</td>\n",
              "      <td>0.225301</td>\n",
              "      <td>0.282603</td>\n",
              "      <td>0.354154</td>\n",
              "      <td>0.497073</td>\n",
              "      <td>797.0</td>\n",
              "      <td>0.0</td>\n",
              "      <td>0.0</td>\n",
              "      <td>0.0</td>\n",
              "      <td>0.0</td>\n",
              "      <td>0.0</td>\n",
              "      <td>0.0</td>\n",
              "      <td>0.0</td>\n",
              "      <td>797.0</td>\n",
              "      <td>0.0</td>\n",
              "      <td>0.0</td>\n",
              "      <td>0.0</td>\n",
              "      <td>0.0</td>\n",
              "      <td>0.0</td>\n",
              "      <td>0.0</td>\n",
              "      <td>0.0</td>\n",
              "    </tr>\n",
              "    <tr>\n",
              "      <th>2</th>\n",
              "      <td>344.0</td>\n",
              "      <td>0.665098</td>\n",
              "      <td>0.081174</td>\n",
              "      <td>0.500172</td>\n",
              "      <td>0.616724</td>\n",
              "      <td>0.665658</td>\n",
              "      <td>0.729448</td>\n",
              "      <td>0.823296</td>\n",
              "      <td>344.0</td>\n",
              "      <td>0.334902</td>\n",
              "      <td>0.081174</td>\n",
              "      <td>0.176704</td>\n",
              "      <td>0.270552</td>\n",
              "      <td>0.334342</td>\n",
              "      <td>0.383276</td>\n",
              "      <td>0.499828</td>\n",
              "      <td>344.0</td>\n",
              "      <td>1.0</td>\n",
              "      <td>0.0</td>\n",
              "      <td>1.0</td>\n",
              "      <td>1.0</td>\n",
              "      <td>1.0</td>\n",
              "      <td>1.0</td>\n",
              "      <td>1.0</td>\n",
              "      <td>344.0</td>\n",
              "      <td>0.0</td>\n",
              "      <td>0.0</td>\n",
              "      <td>0.0</td>\n",
              "      <td>0.0</td>\n",
              "      <td>0.0</td>\n",
              "      <td>0.0</td>\n",
              "      <td>0.0</td>\n",
              "    </tr>\n",
              "    <tr>\n",
              "      <th>4</th>\n",
              "      <td>127.0</td>\n",
              "      <td>0.280281</td>\n",
              "      <td>0.126774</td>\n",
              "      <td>0.024104</td>\n",
              "      <td>0.185627</td>\n",
              "      <td>0.253053</td>\n",
              "      <td>0.409282</td>\n",
              "      <td>0.499674</td>\n",
              "      <td>127.0</td>\n",
              "      <td>0.719719</td>\n",
              "      <td>0.126774</td>\n",
              "      <td>0.500326</td>\n",
              "      <td>0.590718</td>\n",
              "      <td>0.746947</td>\n",
              "      <td>0.814373</td>\n",
              "      <td>0.975896</td>\n",
              "      <td>127.0</td>\n",
              "      <td>0.0</td>\n",
              "      <td>0.0</td>\n",
              "      <td>0.0</td>\n",
              "      <td>0.0</td>\n",
              "      <td>0.0</td>\n",
              "      <td>0.0</td>\n",
              "      <td>0.0</td>\n",
              "      <td>127.0</td>\n",
              "      <td>1.0</td>\n",
              "      <td>0.0</td>\n",
              "      <td>1.0</td>\n",
              "      <td>1.0</td>\n",
              "      <td>1.0</td>\n",
              "      <td>1.0</td>\n",
              "      <td>1.0</td>\n",
              "    </tr>\n",
              "    <tr>\n",
              "      <th>6</th>\n",
              "      <td>588.0</td>\n",
              "      <td>0.174559</td>\n",
              "      <td>0.115889</td>\n",
              "      <td>0.019598</td>\n",
              "      <td>0.064232</td>\n",
              "      <td>0.164314</td>\n",
              "      <td>0.242649</td>\n",
              "      <td>0.497285</td>\n",
              "      <td>588.0</td>\n",
              "      <td>0.825440</td>\n",
              "      <td>0.115889</td>\n",
              "      <td>0.502715</td>\n",
              "      <td>0.757351</td>\n",
              "      <td>0.835686</td>\n",
              "      <td>0.935768</td>\n",
              "      <td>0.980402</td>\n",
              "      <td>588.0</td>\n",
              "      <td>1.0</td>\n",
              "      <td>0.0</td>\n",
              "      <td>1.0</td>\n",
              "      <td>1.0</td>\n",
              "      <td>1.0</td>\n",
              "      <td>1.0</td>\n",
              "      <td>1.0</td>\n",
              "      <td>588.0</td>\n",
              "      <td>1.0</td>\n",
              "      <td>0.0</td>\n",
              "      <td>1.0</td>\n",
              "      <td>1.0</td>\n",
              "      <td>1.0</td>\n",
              "      <td>1.0</td>\n",
              "      <td>1.0</td>\n",
              "    </tr>\n",
              "  </tbody>\n",
              "</table>\n",
              "</div>"
            ],
            "text/plain": [
              "       prob_0                                          ... y_pred                    \n",
              "        count      mean       std       min       25%  ...    min  25%  50%  75%  max\n",
              "filter                                                 ...                           \n",
              "0       797.0  0.705724  0.079331  0.502927  0.645846  ...    0.0  0.0  0.0  0.0  0.0\n",
              "2       344.0  0.665098  0.081174  0.500172  0.616724  ...    0.0  0.0  0.0  0.0  0.0\n",
              "4       127.0  0.280281  0.126774  0.024104  0.185627  ...    1.0  1.0  1.0  1.0  1.0\n",
              "6       588.0  0.174559  0.115889  0.019598  0.064232  ...    1.0  1.0  1.0  1.0  1.0\n",
              "\n",
              "[4 rows x 32 columns]"
            ]
          },
          "metadata": {
            "tags": []
          },
          "execution_count": 89
        }
      ]
    },
    {
      "cell_type": "markdown",
      "metadata": {
        "id": "JJAllTqrqTOP"
      },
      "source": [
        "## Calculate scoring_matrix untuk dataset tanpa imbalance data"
      ]
    },
    {
      "cell_type": "code",
      "metadata": {
        "id": "aWFlmXP-TP4Y"
      },
      "source": [
        "def scoring_matrix(y_test_, y_test_predict_):\n",
        "    print( \"accuracy: \", accuracy_score(y_test_, y_test_predict_))\n",
        "    print( \"precision: \", precision_score(y_test_, y_test_predict_))\n",
        "    print( \"recall: \", recall_score(y_test_, y_test_predict_))\n",
        "    print( \"f1: \", f1_score(y_test_, y_test_predict_))\n",
        "    print(\" \")"
      ],
      "execution_count": null,
      "outputs": []
    },
    {
      "cell_type": "code",
      "metadata": {
        "id": "AZExb1LdpjSj"
      },
      "source": [
        "df_new_pred_list = prob_xg_new.copy()"
      ],
      "execution_count": null,
      "outputs": []
    },
    {
      "cell_type": "code",
      "metadata": {
        "id": "0G4J2V6_To08"
      },
      "source": [
        "kondisi_1=df_new_pred_list[(df_new_pred_list['prob_0']>=0.7)].index\n",
        "\n",
        "\n",
        "#0.7 didapat dari median prob_0, alasan mengapa kita memilih median 0 = 0.7 adalah:\n",
        "# 1. Kita memilih median karena median lebih robust terhadap outlier\n",
        "# 2. Data awal lebih banyak nasabah yang tidak membuka deposito sehingga data lebih menggambarkan ciri customer yang tidak akan membuka deposito\n",
        "# 3. Setelah model xgboost dibuat nilai predict = 0 dan actual = 0 lebih banyak dibanding yang predict =1 dan actual = 1\n",
        "# 4, Karena point 3 data predict 0 nya lebih banyak, jadi kita pilih untuk mengambil threeshold valuenya dari probabilty yang 0 ( 0.7 + itu artinya tidak membuka, 0.7 kebawah itu artinya peluang dia membuka akan semakin besar)\n"
      ],
      "execution_count": null,
      "outputs": []
    },
    {
      "cell_type": "code",
      "metadata": {
        "id": "r9AwqXmVTyNv"
      },
      "source": [
        "new_pred_list =[]\n",
        "for i in range(len(df_new_pred_list)):\n",
        "  if i in kondisi_1:\n",
        "    new_pred_list.append(0)\n",
        "  else:\n",
        "    new_pred_list.append(1)\n"
      ],
      "execution_count": null,
      "outputs": []
    },
    {
      "cell_type": "code",
      "metadata": {
        "id": "eeVjfXs8T1di"
      },
      "source": [
        "df_new_pred_list['new_pred_list'] = new_pred_list"
      ],
      "execution_count": null,
      "outputs": []
    },
    {
      "cell_type": "code",
      "metadata": {
        "id": "KukpI1DUT4sO",
        "colab": {
          "base_uri": "https://localhost:8080/",
          "height": 419
        },
        "outputId": "84383d6b-f8ba-42fd-f9c6-842a6f97354d"
      },
      "source": [
        "df_new_pred_list"
      ],
      "execution_count": null,
      "outputs": [
        {
          "output_type": "execute_result",
          "data": {
            "text/html": [
              "<div>\n",
              "<style scoped>\n",
              "    .dataframe tbody tr th:only-of-type {\n",
              "        vertical-align: middle;\n",
              "    }\n",
              "\n",
              "    .dataframe tbody tr th {\n",
              "        vertical-align: top;\n",
              "    }\n",
              "\n",
              "    .dataframe thead th {\n",
              "        text-align: right;\n",
              "    }\n",
              "</style>\n",
              "<table border=\"1\" class=\"dataframe\">\n",
              "  <thead>\n",
              "    <tr style=\"text-align: right;\">\n",
              "      <th></th>\n",
              "      <th>prob_0</th>\n",
              "      <th>prob_1</th>\n",
              "      <th>y_test</th>\n",
              "      <th>y_pred</th>\n",
              "      <th>filter</th>\n",
              "      <th>new_pred_list</th>\n",
              "    </tr>\n",
              "  </thead>\n",
              "  <tbody>\n",
              "    <tr>\n",
              "      <th>0</th>\n",
              "      <td>0.794457</td>\n",
              "      <td>0.205543</td>\n",
              "      <td>1</td>\n",
              "      <td>0</td>\n",
              "      <td>2</td>\n",
              "      <td>0</td>\n",
              "    </tr>\n",
              "    <tr>\n",
              "      <th>1</th>\n",
              "      <td>0.778346</td>\n",
              "      <td>0.221654</td>\n",
              "      <td>0</td>\n",
              "      <td>0</td>\n",
              "      <td>0</td>\n",
              "      <td>0</td>\n",
              "    </tr>\n",
              "    <tr>\n",
              "      <th>2</th>\n",
              "      <td>0.776048</td>\n",
              "      <td>0.223952</td>\n",
              "      <td>0</td>\n",
              "      <td>0</td>\n",
              "      <td>0</td>\n",
              "      <td>0</td>\n",
              "    </tr>\n",
              "    <tr>\n",
              "      <th>3</th>\n",
              "      <td>0.808120</td>\n",
              "      <td>0.191880</td>\n",
              "      <td>1</td>\n",
              "      <td>0</td>\n",
              "      <td>2</td>\n",
              "      <td>0</td>\n",
              "    </tr>\n",
              "    <tr>\n",
              "      <th>4</th>\n",
              "      <td>0.184721</td>\n",
              "      <td>0.815279</td>\n",
              "      <td>0</td>\n",
              "      <td>1</td>\n",
              "      <td>4</td>\n",
              "      <td>1</td>\n",
              "    </tr>\n",
              "    <tr>\n",
              "      <th>...</th>\n",
              "      <td>...</td>\n",
              "      <td>...</td>\n",
              "      <td>...</td>\n",
              "      <td>...</td>\n",
              "      <td>...</td>\n",
              "      <td>...</td>\n",
              "    </tr>\n",
              "    <tr>\n",
              "      <th>1851</th>\n",
              "      <td>0.774699</td>\n",
              "      <td>0.225301</td>\n",
              "      <td>0</td>\n",
              "      <td>0</td>\n",
              "      <td>0</td>\n",
              "      <td>0</td>\n",
              "    </tr>\n",
              "    <tr>\n",
              "      <th>1852</th>\n",
              "      <td>0.596222</td>\n",
              "      <td>0.403778</td>\n",
              "      <td>0</td>\n",
              "      <td>0</td>\n",
              "      <td>0</td>\n",
              "      <td>1</td>\n",
              "    </tr>\n",
              "    <tr>\n",
              "      <th>1853</th>\n",
              "      <td>0.658994</td>\n",
              "      <td>0.341006</td>\n",
              "      <td>0</td>\n",
              "      <td>0</td>\n",
              "      <td>0</td>\n",
              "      <td>1</td>\n",
              "    </tr>\n",
              "    <tr>\n",
              "      <th>1854</th>\n",
              "      <td>0.024289</td>\n",
              "      <td>0.975711</td>\n",
              "      <td>1</td>\n",
              "      <td>1</td>\n",
              "      <td>6</td>\n",
              "      <td>1</td>\n",
              "    </tr>\n",
              "    <tr>\n",
              "      <th>1855</th>\n",
              "      <td>0.798479</td>\n",
              "      <td>0.201520</td>\n",
              "      <td>0</td>\n",
              "      <td>0</td>\n",
              "      <td>0</td>\n",
              "      <td>0</td>\n",
              "    </tr>\n",
              "  </tbody>\n",
              "</table>\n",
              "<p>1856 rows × 6 columns</p>\n",
              "</div>"
            ],
            "text/plain": [
              "        prob_0    prob_1  y_test  y_pred  filter  new_pred_list\n",
              "0     0.794457  0.205543       1       0       2              0\n",
              "1     0.778346  0.221654       0       0       0              0\n",
              "2     0.776048  0.223952       0       0       0              0\n",
              "3     0.808120  0.191880       1       0       2              0\n",
              "4     0.184721  0.815279       0       1       4              1\n",
              "...        ...       ...     ...     ...     ...            ...\n",
              "1851  0.774699  0.225301       0       0       0              0\n",
              "1852  0.596222  0.403778       0       0       0              1\n",
              "1853  0.658994  0.341006       0       0       0              1\n",
              "1854  0.024289  0.975711       1       1       6              1\n",
              "1855  0.798479  0.201520       0       0       0              0\n",
              "\n",
              "[1856 rows x 6 columns]"
            ]
          },
          "metadata": {
            "tags": []
          },
          "execution_count": 95
        }
      ]
    },
    {
      "cell_type": "code",
      "metadata": {
        "colab": {
          "base_uri": "https://localhost:8080/"
        },
        "id": "L90dr54h_tOC",
        "outputId": "7b5ba086-f236-4806-8d22-9b28a52ad3f5"
      },
      "source": [
        "scoring_matrix(y_test,df_new_pred_list['new_pred_list'])"
      ],
      "execution_count": null,
      "outputs": [
        {
          "output_type": "stream",
          "text": [
            "accuracy:  0.6821120689655172\n",
            "precision:  0.6352848101265823\n",
            "recall:  0.8615879828326181\n",
            "f1:  0.7313296903460839\n",
            " \n"
          ],
          "name": "stdout"
        }
      ]
    },
    {
      "cell_type": "markdown",
      "metadata": {
        "id": "oFI7a7z0UHlG"
      },
      "source": [
        "Disini terlihat terdapat trade off Recall dan Precision, dimana nilai recall naik dan nilai precision menurut akibat tuning manual menggunakan filtering\n",
        "\n",
        "* Nilai Recall dari 0.63 (standar params) naik menjadi 0,8615\n",
        "* Nilai Accuracy dari 0.74 (standar params) turun menjadi 0.63\t"
      ]
    },
    {
      "cell_type": "markdown",
      "metadata": {
        "id": "48OEmVKZDK-y"
      },
      "source": [
        "# Predict Proba dataset Raw dengan imbalance data"
      ]
    },
    {
      "cell_type": "markdown",
      "metadata": {
        "id": "bfXw0uCsAis0"
      },
      "source": [
        "##Predict Probability"
      ]
    },
    {
      "cell_type": "code",
      "metadata": {
        "id": "y2g3GVYGAis2"
      },
      "source": [
        "prob_xg_old = pd.DataFrame(data = xg_std.predict_proba(X_test_old))"
      ],
      "execution_count": null,
      "outputs": []
    },
    {
      "cell_type": "code",
      "metadata": {
        "colab": {
          "base_uri": "https://localhost:8080/",
          "height": 419
        },
        "id": "YSazcJlLAis3",
        "outputId": "987e040c-2596-45eb-cb81-2d96b7d2cd9b"
      },
      "source": [
        "prob_xg_old"
      ],
      "execution_count": null,
      "outputs": [
        {
          "output_type": "execute_result",
          "data": {
            "text/html": [
              "<div>\n",
              "<style scoped>\n",
              "    .dataframe tbody tr th:only-of-type {\n",
              "        vertical-align: middle;\n",
              "    }\n",
              "\n",
              "    .dataframe tbody tr th {\n",
              "        vertical-align: top;\n",
              "    }\n",
              "\n",
              "    .dataframe thead th {\n",
              "        text-align: right;\n",
              "    }\n",
              "</style>\n",
              "<table border=\"1\" class=\"dataframe\">\n",
              "  <thead>\n",
              "    <tr style=\"text-align: right;\">\n",
              "      <th></th>\n",
              "      <th>0</th>\n",
              "      <th>1</th>\n",
              "    </tr>\n",
              "  </thead>\n",
              "  <tbody>\n",
              "    <tr>\n",
              "      <th>0</th>\n",
              "      <td>0.636637</td>\n",
              "      <td>0.363363</td>\n",
              "    </tr>\n",
              "    <tr>\n",
              "      <th>1</th>\n",
              "      <td>0.836790</td>\n",
              "      <td>0.163210</td>\n",
              "    </tr>\n",
              "    <tr>\n",
              "      <th>2</th>\n",
              "      <td>0.798479</td>\n",
              "      <td>0.201520</td>\n",
              "    </tr>\n",
              "    <tr>\n",
              "      <th>3</th>\n",
              "      <td>0.724177</td>\n",
              "      <td>0.275823</td>\n",
              "    </tr>\n",
              "    <tr>\n",
              "      <th>4</th>\n",
              "      <td>0.634626</td>\n",
              "      <td>0.365374</td>\n",
              "    </tr>\n",
              "    <tr>\n",
              "      <th>...</th>\n",
              "      <td>...</td>\n",
              "      <td>...</td>\n",
              "    </tr>\n",
              "    <tr>\n",
              "      <th>8233</th>\n",
              "      <td>0.639672</td>\n",
              "      <td>0.360328</td>\n",
              "    </tr>\n",
              "    <tr>\n",
              "      <th>8234</th>\n",
              "      <td>0.797590</td>\n",
              "      <td>0.202410</td>\n",
              "    </tr>\n",
              "    <tr>\n",
              "      <th>8235</th>\n",
              "      <td>0.505650</td>\n",
              "      <td>0.494350</td>\n",
              "    </tr>\n",
              "    <tr>\n",
              "      <th>8236</th>\n",
              "      <td>0.677038</td>\n",
              "      <td>0.322962</td>\n",
              "    </tr>\n",
              "    <tr>\n",
              "      <th>8237</th>\n",
              "      <td>0.711651</td>\n",
              "      <td>0.288349</td>\n",
              "    </tr>\n",
              "  </tbody>\n",
              "</table>\n",
              "<p>8238 rows × 2 columns</p>\n",
              "</div>"
            ],
            "text/plain": [
              "             0         1\n",
              "0     0.636637  0.363363\n",
              "1     0.836790  0.163210\n",
              "2     0.798479  0.201520\n",
              "3     0.724177  0.275823\n",
              "4     0.634626  0.365374\n",
              "...        ...       ...\n",
              "8233  0.639672  0.360328\n",
              "8234  0.797590  0.202410\n",
              "8235  0.505650  0.494350\n",
              "8236  0.677038  0.322962\n",
              "8237  0.711651  0.288349\n",
              "\n",
              "[8238 rows x 2 columns]"
            ]
          },
          "metadata": {
            "tags": []
          },
          "execution_count": 116
        }
      ]
    },
    {
      "cell_type": "code",
      "metadata": {
        "colab": {
          "base_uri": "https://localhost:8080/",
          "height": 419
        },
        "id": "FsZ3toUuAis6",
        "outputId": "a8de95e7-3894-4172-dccd-55421154135a"
      },
      "source": [
        "prob_xg_old=prob_xg_old.rename(columns={0:'prob_0',1:'prob_1'})\n",
        "prob_xg_old"
      ],
      "execution_count": null,
      "outputs": [
        {
          "output_type": "execute_result",
          "data": {
            "text/html": [
              "<div>\n",
              "<style scoped>\n",
              "    .dataframe tbody tr th:only-of-type {\n",
              "        vertical-align: middle;\n",
              "    }\n",
              "\n",
              "    .dataframe tbody tr th {\n",
              "        vertical-align: top;\n",
              "    }\n",
              "\n",
              "    .dataframe thead th {\n",
              "        text-align: right;\n",
              "    }\n",
              "</style>\n",
              "<table border=\"1\" class=\"dataframe\">\n",
              "  <thead>\n",
              "    <tr style=\"text-align: right;\">\n",
              "      <th></th>\n",
              "      <th>prob_0</th>\n",
              "      <th>prob_1</th>\n",
              "    </tr>\n",
              "  </thead>\n",
              "  <tbody>\n",
              "    <tr>\n",
              "      <th>0</th>\n",
              "      <td>0.636637</td>\n",
              "      <td>0.363363</td>\n",
              "    </tr>\n",
              "    <tr>\n",
              "      <th>1</th>\n",
              "      <td>0.836790</td>\n",
              "      <td>0.163210</td>\n",
              "    </tr>\n",
              "    <tr>\n",
              "      <th>2</th>\n",
              "      <td>0.798479</td>\n",
              "      <td>0.201520</td>\n",
              "    </tr>\n",
              "    <tr>\n",
              "      <th>3</th>\n",
              "      <td>0.724177</td>\n",
              "      <td>0.275823</td>\n",
              "    </tr>\n",
              "    <tr>\n",
              "      <th>4</th>\n",
              "      <td>0.634626</td>\n",
              "      <td>0.365374</td>\n",
              "    </tr>\n",
              "    <tr>\n",
              "      <th>...</th>\n",
              "      <td>...</td>\n",
              "      <td>...</td>\n",
              "    </tr>\n",
              "    <tr>\n",
              "      <th>8233</th>\n",
              "      <td>0.639672</td>\n",
              "      <td>0.360328</td>\n",
              "    </tr>\n",
              "    <tr>\n",
              "      <th>8234</th>\n",
              "      <td>0.797590</td>\n",
              "      <td>0.202410</td>\n",
              "    </tr>\n",
              "    <tr>\n",
              "      <th>8235</th>\n",
              "      <td>0.505650</td>\n",
              "      <td>0.494350</td>\n",
              "    </tr>\n",
              "    <tr>\n",
              "      <th>8236</th>\n",
              "      <td>0.677038</td>\n",
              "      <td>0.322962</td>\n",
              "    </tr>\n",
              "    <tr>\n",
              "      <th>8237</th>\n",
              "      <td>0.711651</td>\n",
              "      <td>0.288349</td>\n",
              "    </tr>\n",
              "  </tbody>\n",
              "</table>\n",
              "<p>8238 rows × 2 columns</p>\n",
              "</div>"
            ],
            "text/plain": [
              "        prob_0    prob_1\n",
              "0     0.636637  0.363363\n",
              "1     0.836790  0.163210\n",
              "2     0.798479  0.201520\n",
              "3     0.724177  0.275823\n",
              "4     0.634626  0.365374\n",
              "...        ...       ...\n",
              "8233  0.639672  0.360328\n",
              "8234  0.797590  0.202410\n",
              "8235  0.505650  0.494350\n",
              "8236  0.677038  0.322962\n",
              "8237  0.711651  0.288349\n",
              "\n",
              "[8238 rows x 2 columns]"
            ]
          },
          "metadata": {
            "tags": []
          },
          "execution_count": 117
        }
      ]
    },
    {
      "cell_type": "code",
      "metadata": {
        "colab": {
          "base_uri": "https://localhost:8080/",
          "height": 419
        },
        "id": "PjUvQI8HAis8",
        "outputId": "d5e69557-4cc9-494b-a7b7-78047274ba53"
      },
      "source": [
        "yc_old = pd.DataFrame({'y_test_old':y_test_old})\n",
        "yc_old=yc_old.reset_index()\n",
        "yc_old"
      ],
      "execution_count": null,
      "outputs": [
        {
          "output_type": "execute_result",
          "data": {
            "text/html": [
              "<div>\n",
              "<style scoped>\n",
              "    .dataframe tbody tr th:only-of-type {\n",
              "        vertical-align: middle;\n",
              "    }\n",
              "\n",
              "    .dataframe tbody tr th {\n",
              "        vertical-align: top;\n",
              "    }\n",
              "\n",
              "    .dataframe thead th {\n",
              "        text-align: right;\n",
              "    }\n",
              "</style>\n",
              "<table border=\"1\" class=\"dataframe\">\n",
              "  <thead>\n",
              "    <tr style=\"text-align: right;\">\n",
              "      <th></th>\n",
              "      <th>index</th>\n",
              "      <th>y_test_old</th>\n",
              "    </tr>\n",
              "  </thead>\n",
              "  <tbody>\n",
              "    <tr>\n",
              "      <th>0</th>\n",
              "      <td>33349</td>\n",
              "      <td>0</td>\n",
              "    </tr>\n",
              "    <tr>\n",
              "      <th>1</th>\n",
              "      <td>11872</td>\n",
              "      <td>0</td>\n",
              "    </tr>\n",
              "    <tr>\n",
              "      <th>2</th>\n",
              "      <td>1184</td>\n",
              "      <td>0</td>\n",
              "    </tr>\n",
              "    <tr>\n",
              "      <th>3</th>\n",
              "      <td>27340</td>\n",
              "      <td>0</td>\n",
              "    </tr>\n",
              "    <tr>\n",
              "      <th>4</th>\n",
              "      <td>13675</td>\n",
              "      <td>0</td>\n",
              "    </tr>\n",
              "    <tr>\n",
              "      <th>...</th>\n",
              "      <td>...</td>\n",
              "      <td>...</td>\n",
              "    </tr>\n",
              "    <tr>\n",
              "      <th>8233</th>\n",
              "      <td>15780</td>\n",
              "      <td>0</td>\n",
              "    </tr>\n",
              "    <tr>\n",
              "      <th>8234</th>\n",
              "      <td>5168</td>\n",
              "      <td>0</td>\n",
              "    </tr>\n",
              "    <tr>\n",
              "      <th>8235</th>\n",
              "      <td>28069</td>\n",
              "      <td>0</td>\n",
              "    </tr>\n",
              "    <tr>\n",
              "      <th>8236</th>\n",
              "      <td>14128</td>\n",
              "      <td>0</td>\n",
              "    </tr>\n",
              "    <tr>\n",
              "      <th>8237</th>\n",
              "      <td>23110</td>\n",
              "      <td>0</td>\n",
              "    </tr>\n",
              "  </tbody>\n",
              "</table>\n",
              "<p>8238 rows × 2 columns</p>\n",
              "</div>"
            ],
            "text/plain": [
              "      index  y_test_old\n",
              "0     33349           0\n",
              "1     11872           0\n",
              "2      1184           0\n",
              "3     27340           0\n",
              "4     13675           0\n",
              "...     ...         ...\n",
              "8233  15780           0\n",
              "8234   5168           0\n",
              "8235  28069           0\n",
              "8236  14128           0\n",
              "8237  23110           0\n",
              "\n",
              "[8238 rows x 2 columns]"
            ]
          },
          "metadata": {
            "tags": []
          },
          "execution_count": 118
        }
      ]
    },
    {
      "cell_type": "code",
      "metadata": {
        "colab": {
          "base_uri": "https://localhost:8080/",
          "height": 419
        },
        "id": "PQPOAKUMAis9",
        "outputId": "2ae4af3f-95e3-4c0a-bf2e-823ffc8dee88"
      },
      "source": [
        "yc_old=yc_old.drop(columns=(['index']))\n",
        "yc_old"
      ],
      "execution_count": null,
      "outputs": [
        {
          "output_type": "execute_result",
          "data": {
            "text/html": [
              "<div>\n",
              "<style scoped>\n",
              "    .dataframe tbody tr th:only-of-type {\n",
              "        vertical-align: middle;\n",
              "    }\n",
              "\n",
              "    .dataframe tbody tr th {\n",
              "        vertical-align: top;\n",
              "    }\n",
              "\n",
              "    .dataframe thead th {\n",
              "        text-align: right;\n",
              "    }\n",
              "</style>\n",
              "<table border=\"1\" class=\"dataframe\">\n",
              "  <thead>\n",
              "    <tr style=\"text-align: right;\">\n",
              "      <th></th>\n",
              "      <th>y_test_old</th>\n",
              "    </tr>\n",
              "  </thead>\n",
              "  <tbody>\n",
              "    <tr>\n",
              "      <th>0</th>\n",
              "      <td>0</td>\n",
              "    </tr>\n",
              "    <tr>\n",
              "      <th>1</th>\n",
              "      <td>0</td>\n",
              "    </tr>\n",
              "    <tr>\n",
              "      <th>2</th>\n",
              "      <td>0</td>\n",
              "    </tr>\n",
              "    <tr>\n",
              "      <th>3</th>\n",
              "      <td>0</td>\n",
              "    </tr>\n",
              "    <tr>\n",
              "      <th>4</th>\n",
              "      <td>0</td>\n",
              "    </tr>\n",
              "    <tr>\n",
              "      <th>...</th>\n",
              "      <td>...</td>\n",
              "    </tr>\n",
              "    <tr>\n",
              "      <th>8233</th>\n",
              "      <td>0</td>\n",
              "    </tr>\n",
              "    <tr>\n",
              "      <th>8234</th>\n",
              "      <td>0</td>\n",
              "    </tr>\n",
              "    <tr>\n",
              "      <th>8235</th>\n",
              "      <td>0</td>\n",
              "    </tr>\n",
              "    <tr>\n",
              "      <th>8236</th>\n",
              "      <td>0</td>\n",
              "    </tr>\n",
              "    <tr>\n",
              "      <th>8237</th>\n",
              "      <td>0</td>\n",
              "    </tr>\n",
              "  </tbody>\n",
              "</table>\n",
              "<p>8238 rows × 1 columns</p>\n",
              "</div>"
            ],
            "text/plain": [
              "      y_test_old\n",
              "0              0\n",
              "1              0\n",
              "2              0\n",
              "3              0\n",
              "4              0\n",
              "...          ...\n",
              "8233           0\n",
              "8234           0\n",
              "8235           0\n",
              "8236           0\n",
              "8237           0\n",
              "\n",
              "[8238 rows x 1 columns]"
            ]
          },
          "metadata": {
            "tags": []
          },
          "execution_count": 119
        }
      ]
    },
    {
      "cell_type": "code",
      "metadata": {
        "colab": {
          "base_uri": "https://localhost:8080/",
          "height": 419
        },
        "id": "G6a9n6QLAis-",
        "outputId": "9a817178-2dbf-4777-dc45-359f1ef5f13c"
      },
      "source": [
        "prob_xg_old = pd.concat([prob_xg_old,yc_old['y_test_old']],axis=1)\n",
        "prob_xg_old"
      ],
      "execution_count": null,
      "outputs": [
        {
          "output_type": "execute_result",
          "data": {
            "text/html": [
              "<div>\n",
              "<style scoped>\n",
              "    .dataframe tbody tr th:only-of-type {\n",
              "        vertical-align: middle;\n",
              "    }\n",
              "\n",
              "    .dataframe tbody tr th {\n",
              "        vertical-align: top;\n",
              "    }\n",
              "\n",
              "    .dataframe thead th {\n",
              "        text-align: right;\n",
              "    }\n",
              "</style>\n",
              "<table border=\"1\" class=\"dataframe\">\n",
              "  <thead>\n",
              "    <tr style=\"text-align: right;\">\n",
              "      <th></th>\n",
              "      <th>prob_0</th>\n",
              "      <th>prob_1</th>\n",
              "      <th>y_test_old</th>\n",
              "    </tr>\n",
              "  </thead>\n",
              "  <tbody>\n",
              "    <tr>\n",
              "      <th>0</th>\n",
              "      <td>0.636637</td>\n",
              "      <td>0.363363</td>\n",
              "      <td>0</td>\n",
              "    </tr>\n",
              "    <tr>\n",
              "      <th>1</th>\n",
              "      <td>0.836790</td>\n",
              "      <td>0.163210</td>\n",
              "      <td>0</td>\n",
              "    </tr>\n",
              "    <tr>\n",
              "      <th>2</th>\n",
              "      <td>0.798479</td>\n",
              "      <td>0.201520</td>\n",
              "      <td>0</td>\n",
              "    </tr>\n",
              "    <tr>\n",
              "      <th>3</th>\n",
              "      <td>0.724177</td>\n",
              "      <td>0.275823</td>\n",
              "      <td>0</td>\n",
              "    </tr>\n",
              "    <tr>\n",
              "      <th>4</th>\n",
              "      <td>0.634626</td>\n",
              "      <td>0.365374</td>\n",
              "      <td>0</td>\n",
              "    </tr>\n",
              "    <tr>\n",
              "      <th>...</th>\n",
              "      <td>...</td>\n",
              "      <td>...</td>\n",
              "      <td>...</td>\n",
              "    </tr>\n",
              "    <tr>\n",
              "      <th>8233</th>\n",
              "      <td>0.639672</td>\n",
              "      <td>0.360328</td>\n",
              "      <td>0</td>\n",
              "    </tr>\n",
              "    <tr>\n",
              "      <th>8234</th>\n",
              "      <td>0.797590</td>\n",
              "      <td>0.202410</td>\n",
              "      <td>0</td>\n",
              "    </tr>\n",
              "    <tr>\n",
              "      <th>8235</th>\n",
              "      <td>0.505650</td>\n",
              "      <td>0.494350</td>\n",
              "      <td>0</td>\n",
              "    </tr>\n",
              "    <tr>\n",
              "      <th>8236</th>\n",
              "      <td>0.677038</td>\n",
              "      <td>0.322962</td>\n",
              "      <td>0</td>\n",
              "    </tr>\n",
              "    <tr>\n",
              "      <th>8237</th>\n",
              "      <td>0.711651</td>\n",
              "      <td>0.288349</td>\n",
              "      <td>0</td>\n",
              "    </tr>\n",
              "  </tbody>\n",
              "</table>\n",
              "<p>8238 rows × 3 columns</p>\n",
              "</div>"
            ],
            "text/plain": [
              "        prob_0    prob_1  y_test_old\n",
              "0     0.636637  0.363363           0\n",
              "1     0.836790  0.163210           0\n",
              "2     0.798479  0.201520           0\n",
              "3     0.724177  0.275823           0\n",
              "4     0.634626  0.365374           0\n",
              "...        ...       ...         ...\n",
              "8233  0.639672  0.360328           0\n",
              "8234  0.797590  0.202410           0\n",
              "8235  0.505650  0.494350           0\n",
              "8236  0.677038  0.322962           0\n",
              "8237  0.711651  0.288349           0\n",
              "\n",
              "[8238 rows x 3 columns]"
            ]
          },
          "metadata": {
            "tags": []
          },
          "execution_count": 120
        }
      ]
    },
    {
      "cell_type": "code",
      "metadata": {
        "colab": {
          "base_uri": "https://localhost:8080/",
          "height": 419
        },
        "id": "iUFLFJZPAis_",
        "outputId": "df2c76cb-8b3c-43bd-c34c-ff00be5a926d"
      },
      "source": [
        "prob_xg_old['y_pred']=y_pred_xg_std_old\n",
        "prob_xg_old"
      ],
      "execution_count": null,
      "outputs": [
        {
          "output_type": "execute_result",
          "data": {
            "text/html": [
              "<div>\n",
              "<style scoped>\n",
              "    .dataframe tbody tr th:only-of-type {\n",
              "        vertical-align: middle;\n",
              "    }\n",
              "\n",
              "    .dataframe tbody tr th {\n",
              "        vertical-align: top;\n",
              "    }\n",
              "\n",
              "    .dataframe thead th {\n",
              "        text-align: right;\n",
              "    }\n",
              "</style>\n",
              "<table border=\"1\" class=\"dataframe\">\n",
              "  <thead>\n",
              "    <tr style=\"text-align: right;\">\n",
              "      <th></th>\n",
              "      <th>prob_0</th>\n",
              "      <th>prob_1</th>\n",
              "      <th>y_test_old</th>\n",
              "      <th>y_pred</th>\n",
              "    </tr>\n",
              "  </thead>\n",
              "  <tbody>\n",
              "    <tr>\n",
              "      <th>0</th>\n",
              "      <td>0.636637</td>\n",
              "      <td>0.363363</td>\n",
              "      <td>0</td>\n",
              "      <td>0</td>\n",
              "    </tr>\n",
              "    <tr>\n",
              "      <th>1</th>\n",
              "      <td>0.836790</td>\n",
              "      <td>0.163210</td>\n",
              "      <td>0</td>\n",
              "      <td>0</td>\n",
              "    </tr>\n",
              "    <tr>\n",
              "      <th>2</th>\n",
              "      <td>0.798479</td>\n",
              "      <td>0.201520</td>\n",
              "      <td>0</td>\n",
              "      <td>0</td>\n",
              "    </tr>\n",
              "    <tr>\n",
              "      <th>3</th>\n",
              "      <td>0.724177</td>\n",
              "      <td>0.275823</td>\n",
              "      <td>0</td>\n",
              "      <td>0</td>\n",
              "    </tr>\n",
              "    <tr>\n",
              "      <th>4</th>\n",
              "      <td>0.634626</td>\n",
              "      <td>0.365374</td>\n",
              "      <td>0</td>\n",
              "      <td>0</td>\n",
              "    </tr>\n",
              "    <tr>\n",
              "      <th>...</th>\n",
              "      <td>...</td>\n",
              "      <td>...</td>\n",
              "      <td>...</td>\n",
              "      <td>...</td>\n",
              "    </tr>\n",
              "    <tr>\n",
              "      <th>8233</th>\n",
              "      <td>0.639672</td>\n",
              "      <td>0.360328</td>\n",
              "      <td>0</td>\n",
              "      <td>0</td>\n",
              "    </tr>\n",
              "    <tr>\n",
              "      <th>8234</th>\n",
              "      <td>0.797590</td>\n",
              "      <td>0.202410</td>\n",
              "      <td>0</td>\n",
              "      <td>0</td>\n",
              "    </tr>\n",
              "    <tr>\n",
              "      <th>8235</th>\n",
              "      <td>0.505650</td>\n",
              "      <td>0.494350</td>\n",
              "      <td>0</td>\n",
              "      <td>0</td>\n",
              "    </tr>\n",
              "    <tr>\n",
              "      <th>8236</th>\n",
              "      <td>0.677038</td>\n",
              "      <td>0.322962</td>\n",
              "      <td>0</td>\n",
              "      <td>0</td>\n",
              "    </tr>\n",
              "    <tr>\n",
              "      <th>8237</th>\n",
              "      <td>0.711651</td>\n",
              "      <td>0.288349</td>\n",
              "      <td>0</td>\n",
              "      <td>0</td>\n",
              "    </tr>\n",
              "  </tbody>\n",
              "</table>\n",
              "<p>8238 rows × 4 columns</p>\n",
              "</div>"
            ],
            "text/plain": [
              "        prob_0    prob_1  y_test_old  y_pred\n",
              "0     0.636637  0.363363           0       0\n",
              "1     0.836790  0.163210           0       0\n",
              "2     0.798479  0.201520           0       0\n",
              "3     0.724177  0.275823           0       0\n",
              "4     0.634626  0.365374           0       0\n",
              "...        ...       ...         ...     ...\n",
              "8233  0.639672  0.360328           0       0\n",
              "8234  0.797590  0.202410           0       0\n",
              "8235  0.505650  0.494350           0       0\n",
              "8236  0.677038  0.322962           0       0\n",
              "8237  0.711651  0.288349           0       0\n",
              "\n",
              "[8238 rows x 4 columns]"
            ]
          },
          "metadata": {
            "tags": []
          },
          "execution_count": 121
        }
      ]
    },
    {
      "cell_type": "code",
      "metadata": {
        "colab": {
          "base_uri": "https://localhost:8080/",
          "height": 419
        },
        "id": "kA_r1IJgAis_",
        "outputId": "dfca2b81-ccec-4035-ab21-5304a8d67ff7"
      },
      "source": [
        "prob_xg_old['max']= np.maximum(prob_xg_old['y_test_old'],prob_xg_old['y_pred'])\n",
        "prob_xg_old"
      ],
      "execution_count": null,
      "outputs": [
        {
          "output_type": "execute_result",
          "data": {
            "text/html": [
              "<div>\n",
              "<style scoped>\n",
              "    .dataframe tbody tr th:only-of-type {\n",
              "        vertical-align: middle;\n",
              "    }\n",
              "\n",
              "    .dataframe tbody tr th {\n",
              "        vertical-align: top;\n",
              "    }\n",
              "\n",
              "    .dataframe thead th {\n",
              "        text-align: right;\n",
              "    }\n",
              "</style>\n",
              "<table border=\"1\" class=\"dataframe\">\n",
              "  <thead>\n",
              "    <tr style=\"text-align: right;\">\n",
              "      <th></th>\n",
              "      <th>prob_0</th>\n",
              "      <th>prob_1</th>\n",
              "      <th>y_test_old</th>\n",
              "      <th>y_pred</th>\n",
              "      <th>max</th>\n",
              "    </tr>\n",
              "  </thead>\n",
              "  <tbody>\n",
              "    <tr>\n",
              "      <th>0</th>\n",
              "      <td>0.636637</td>\n",
              "      <td>0.363363</td>\n",
              "      <td>0</td>\n",
              "      <td>0</td>\n",
              "      <td>0</td>\n",
              "    </tr>\n",
              "    <tr>\n",
              "      <th>1</th>\n",
              "      <td>0.836790</td>\n",
              "      <td>0.163210</td>\n",
              "      <td>0</td>\n",
              "      <td>0</td>\n",
              "      <td>0</td>\n",
              "    </tr>\n",
              "    <tr>\n",
              "      <th>2</th>\n",
              "      <td>0.798479</td>\n",
              "      <td>0.201520</td>\n",
              "      <td>0</td>\n",
              "      <td>0</td>\n",
              "      <td>0</td>\n",
              "    </tr>\n",
              "    <tr>\n",
              "      <th>3</th>\n",
              "      <td>0.724177</td>\n",
              "      <td>0.275823</td>\n",
              "      <td>0</td>\n",
              "      <td>0</td>\n",
              "      <td>0</td>\n",
              "    </tr>\n",
              "    <tr>\n",
              "      <th>4</th>\n",
              "      <td>0.634626</td>\n",
              "      <td>0.365374</td>\n",
              "      <td>0</td>\n",
              "      <td>0</td>\n",
              "      <td>0</td>\n",
              "    </tr>\n",
              "    <tr>\n",
              "      <th>...</th>\n",
              "      <td>...</td>\n",
              "      <td>...</td>\n",
              "      <td>...</td>\n",
              "      <td>...</td>\n",
              "      <td>...</td>\n",
              "    </tr>\n",
              "    <tr>\n",
              "      <th>8233</th>\n",
              "      <td>0.639672</td>\n",
              "      <td>0.360328</td>\n",
              "      <td>0</td>\n",
              "      <td>0</td>\n",
              "      <td>0</td>\n",
              "    </tr>\n",
              "    <tr>\n",
              "      <th>8234</th>\n",
              "      <td>0.797590</td>\n",
              "      <td>0.202410</td>\n",
              "      <td>0</td>\n",
              "      <td>0</td>\n",
              "      <td>0</td>\n",
              "    </tr>\n",
              "    <tr>\n",
              "      <th>8235</th>\n",
              "      <td>0.505650</td>\n",
              "      <td>0.494350</td>\n",
              "      <td>0</td>\n",
              "      <td>0</td>\n",
              "      <td>0</td>\n",
              "    </tr>\n",
              "    <tr>\n",
              "      <th>8236</th>\n",
              "      <td>0.677038</td>\n",
              "      <td>0.322962</td>\n",
              "      <td>0</td>\n",
              "      <td>0</td>\n",
              "      <td>0</td>\n",
              "    </tr>\n",
              "    <tr>\n",
              "      <th>8237</th>\n",
              "      <td>0.711651</td>\n",
              "      <td>0.288349</td>\n",
              "      <td>0</td>\n",
              "      <td>0</td>\n",
              "      <td>0</td>\n",
              "    </tr>\n",
              "  </tbody>\n",
              "</table>\n",
              "<p>8238 rows × 5 columns</p>\n",
              "</div>"
            ],
            "text/plain": [
              "        prob_0    prob_1  y_test_old  y_pred  max\n",
              "0     0.636637  0.363363           0       0    0\n",
              "1     0.836790  0.163210           0       0    0\n",
              "2     0.798479  0.201520           0       0    0\n",
              "3     0.724177  0.275823           0       0    0\n",
              "4     0.634626  0.365374           0       0    0\n",
              "...        ...       ...         ...     ...  ...\n",
              "8233  0.639672  0.360328           0       0    0\n",
              "8234  0.797590  0.202410           0       0    0\n",
              "8235  0.505650  0.494350           0       0    0\n",
              "8236  0.677038  0.322962           0       0    0\n",
              "8237  0.711651  0.288349           0       0    0\n",
              "\n",
              "[8238 rows x 5 columns]"
            ]
          },
          "metadata": {
            "tags": []
          },
          "execution_count": 122
        }
      ]
    },
    {
      "cell_type": "code",
      "metadata": {
        "colab": {
          "base_uri": "https://localhost:8080/",
          "height": 419
        },
        "id": "8dlVt9A7AitA",
        "outputId": "cdad1f3b-a41c-45bd-ebd7-e42154cdaf97"
      },
      "source": [
        "prob_xg_old['filter']=(prob_xg_old['y_test_old']*2)+(prob_xg_old['y_pred']*4)\n",
        "prob_xg_old"
      ],
      "execution_count": null,
      "outputs": [
        {
          "output_type": "execute_result",
          "data": {
            "text/html": [
              "<div>\n",
              "<style scoped>\n",
              "    .dataframe tbody tr th:only-of-type {\n",
              "        vertical-align: middle;\n",
              "    }\n",
              "\n",
              "    .dataframe tbody tr th {\n",
              "        vertical-align: top;\n",
              "    }\n",
              "\n",
              "    .dataframe thead th {\n",
              "        text-align: right;\n",
              "    }\n",
              "</style>\n",
              "<table border=\"1\" class=\"dataframe\">\n",
              "  <thead>\n",
              "    <tr style=\"text-align: right;\">\n",
              "      <th></th>\n",
              "      <th>prob_0</th>\n",
              "      <th>prob_1</th>\n",
              "      <th>y_test_old</th>\n",
              "      <th>y_pred</th>\n",
              "      <th>max</th>\n",
              "      <th>filter</th>\n",
              "    </tr>\n",
              "  </thead>\n",
              "  <tbody>\n",
              "    <tr>\n",
              "      <th>0</th>\n",
              "      <td>0.636637</td>\n",
              "      <td>0.363363</td>\n",
              "      <td>0</td>\n",
              "      <td>0</td>\n",
              "      <td>0</td>\n",
              "      <td>0</td>\n",
              "    </tr>\n",
              "    <tr>\n",
              "      <th>1</th>\n",
              "      <td>0.836790</td>\n",
              "      <td>0.163210</td>\n",
              "      <td>0</td>\n",
              "      <td>0</td>\n",
              "      <td>0</td>\n",
              "      <td>0</td>\n",
              "    </tr>\n",
              "    <tr>\n",
              "      <th>2</th>\n",
              "      <td>0.798479</td>\n",
              "      <td>0.201520</td>\n",
              "      <td>0</td>\n",
              "      <td>0</td>\n",
              "      <td>0</td>\n",
              "      <td>0</td>\n",
              "    </tr>\n",
              "    <tr>\n",
              "      <th>3</th>\n",
              "      <td>0.724177</td>\n",
              "      <td>0.275823</td>\n",
              "      <td>0</td>\n",
              "      <td>0</td>\n",
              "      <td>0</td>\n",
              "      <td>0</td>\n",
              "    </tr>\n",
              "    <tr>\n",
              "      <th>4</th>\n",
              "      <td>0.634626</td>\n",
              "      <td>0.365374</td>\n",
              "      <td>0</td>\n",
              "      <td>0</td>\n",
              "      <td>0</td>\n",
              "      <td>0</td>\n",
              "    </tr>\n",
              "    <tr>\n",
              "      <th>...</th>\n",
              "      <td>...</td>\n",
              "      <td>...</td>\n",
              "      <td>...</td>\n",
              "      <td>...</td>\n",
              "      <td>...</td>\n",
              "      <td>...</td>\n",
              "    </tr>\n",
              "    <tr>\n",
              "      <th>8233</th>\n",
              "      <td>0.639672</td>\n",
              "      <td>0.360328</td>\n",
              "      <td>0</td>\n",
              "      <td>0</td>\n",
              "      <td>0</td>\n",
              "      <td>0</td>\n",
              "    </tr>\n",
              "    <tr>\n",
              "      <th>8234</th>\n",
              "      <td>0.797590</td>\n",
              "      <td>0.202410</td>\n",
              "      <td>0</td>\n",
              "      <td>0</td>\n",
              "      <td>0</td>\n",
              "      <td>0</td>\n",
              "    </tr>\n",
              "    <tr>\n",
              "      <th>8235</th>\n",
              "      <td>0.505650</td>\n",
              "      <td>0.494350</td>\n",
              "      <td>0</td>\n",
              "      <td>0</td>\n",
              "      <td>0</td>\n",
              "      <td>0</td>\n",
              "    </tr>\n",
              "    <tr>\n",
              "      <th>8236</th>\n",
              "      <td>0.677038</td>\n",
              "      <td>0.322962</td>\n",
              "      <td>0</td>\n",
              "      <td>0</td>\n",
              "      <td>0</td>\n",
              "      <td>0</td>\n",
              "    </tr>\n",
              "    <tr>\n",
              "      <th>8237</th>\n",
              "      <td>0.711651</td>\n",
              "      <td>0.288349</td>\n",
              "      <td>0</td>\n",
              "      <td>0</td>\n",
              "      <td>0</td>\n",
              "      <td>0</td>\n",
              "    </tr>\n",
              "  </tbody>\n",
              "</table>\n",
              "<p>8238 rows × 6 columns</p>\n",
              "</div>"
            ],
            "text/plain": [
              "        prob_0    prob_1  y_test_old  y_pred  max  filter\n",
              "0     0.636637  0.363363           0       0    0       0\n",
              "1     0.836790  0.163210           0       0    0       0\n",
              "2     0.798479  0.201520           0       0    0       0\n",
              "3     0.724177  0.275823           0       0    0       0\n",
              "4     0.634626  0.365374           0       0    0       0\n",
              "...        ...       ...         ...     ...  ...     ...\n",
              "8233  0.639672  0.360328           0       0    0       0\n",
              "8234  0.797590  0.202410           0       0    0       0\n",
              "8235  0.505650  0.494350           0       0    0       0\n",
              "8236  0.677038  0.322962           0       0    0       0\n",
              "8237  0.711651  0.288349           0       0    0       0\n",
              "\n",
              "[8238 rows x 6 columns]"
            ]
          },
          "metadata": {
            "tags": []
          },
          "execution_count": 123
        }
      ]
    },
    {
      "cell_type": "markdown",
      "metadata": {
        "id": "lWAM3XdjAT66"
      },
      "source": [
        "## Calculate scoring_matrix untuk dataset raw dengan imbalance data"
      ]
    },
    {
      "cell_type": "code",
      "metadata": {
        "id": "smlzVuOYAT7J"
      },
      "source": [
        "def scoring_matrix(y_test_, y_test_predict_):\n",
        "    print( \"accuracy: \", accuracy_score(y_test_, y_test_predict_))\n",
        "    print( \"precision: \", precision_score(y_test_, y_test_predict_))\n",
        "    print( \"recall: \", recall_score(y_test_, y_test_predict_))\n",
        "    print( \"f1: \", f1_score(y_test_, y_test_predict_))\n",
        "    print(\" \")"
      ],
      "execution_count": null,
      "outputs": []
    },
    {
      "cell_type": "code",
      "metadata": {
        "id": "gwX0V-qkAT7K"
      },
      "source": [
        "df_old_pred_list = prob_xg_old.copy()"
      ],
      "execution_count": null,
      "outputs": []
    },
    {
      "cell_type": "code",
      "metadata": {
        "id": "xP43eKvQAT7K"
      },
      "source": [
        "kondisi_1=df_old_pred_list[(df_old_pred_list['prob_0']>=0.7)].index\n"
      ],
      "execution_count": null,
      "outputs": []
    },
    {
      "cell_type": "code",
      "metadata": {
        "colab": {
          "base_uri": "https://localhost:8080/"
        },
        "id": "U228RxApD9id",
        "outputId": "5b7002aa-87f5-4b6d-9f48-89d37915b9c6"
      },
      "source": [
        "len(df_old_pred_list)"
      ],
      "execution_count": null,
      "outputs": [
        {
          "output_type": "execute_result",
          "data": {
            "text/plain": [
              "8238"
            ]
          },
          "metadata": {
            "tags": []
          },
          "execution_count": 110
        }
      ]
    },
    {
      "cell_type": "code",
      "metadata": {
        "id": "dnDA5bqxAT7L"
      },
      "source": [
        "new_pred_list_old =[]\n",
        "for i in range(len(df_old_pred_list)):\n",
        "  if i in kondisi_1:\n",
        "    new_pred_list_old.append(0)\n",
        "  else:\n",
        "    new_pred_list_old.append(1)\n"
      ],
      "execution_count": null,
      "outputs": []
    },
    {
      "cell_type": "code",
      "metadata": {
        "id": "KmDGqYrvAT7L"
      },
      "source": [
        "df_old_pred_list['new_pred_list_old'] = new_pred_list_old"
      ],
      "execution_count": null,
      "outputs": []
    },
    {
      "cell_type": "code",
      "metadata": {
        "colab": {
          "base_uri": "https://localhost:8080/",
          "height": 419
        },
        "id": "aA93hO0JAT7L",
        "outputId": "6094d25a-2e81-42fd-8c82-55b097b29720"
      },
      "source": [
        "df_old_pred_list"
      ],
      "execution_count": null,
      "outputs": [
        {
          "output_type": "execute_result",
          "data": {
            "text/html": [
              "<div>\n",
              "<style scoped>\n",
              "    .dataframe tbody tr th:only-of-type {\n",
              "        vertical-align: middle;\n",
              "    }\n",
              "\n",
              "    .dataframe tbody tr th {\n",
              "        vertical-align: top;\n",
              "    }\n",
              "\n",
              "    .dataframe thead th {\n",
              "        text-align: right;\n",
              "    }\n",
              "</style>\n",
              "<table border=\"1\" class=\"dataframe\">\n",
              "  <thead>\n",
              "    <tr style=\"text-align: right;\">\n",
              "      <th></th>\n",
              "      <th>prob_0</th>\n",
              "      <th>prob_1</th>\n",
              "      <th>y_test_old</th>\n",
              "      <th>y_pred</th>\n",
              "      <th>max</th>\n",
              "      <th>filter</th>\n",
              "      <th>new_pred_list_old</th>\n",
              "    </tr>\n",
              "  </thead>\n",
              "  <tbody>\n",
              "    <tr>\n",
              "      <th>0</th>\n",
              "      <td>0.636637</td>\n",
              "      <td>0.363363</td>\n",
              "      <td>0</td>\n",
              "      <td>0</td>\n",
              "      <td>0</td>\n",
              "      <td>0</td>\n",
              "      <td>1</td>\n",
              "    </tr>\n",
              "    <tr>\n",
              "      <th>1</th>\n",
              "      <td>0.836790</td>\n",
              "      <td>0.163210</td>\n",
              "      <td>0</td>\n",
              "      <td>0</td>\n",
              "      <td>0</td>\n",
              "      <td>0</td>\n",
              "      <td>0</td>\n",
              "    </tr>\n",
              "    <tr>\n",
              "      <th>2</th>\n",
              "      <td>0.798479</td>\n",
              "      <td>0.201520</td>\n",
              "      <td>0</td>\n",
              "      <td>0</td>\n",
              "      <td>0</td>\n",
              "      <td>0</td>\n",
              "      <td>0</td>\n",
              "    </tr>\n",
              "    <tr>\n",
              "      <th>3</th>\n",
              "      <td>0.724177</td>\n",
              "      <td>0.275823</td>\n",
              "      <td>0</td>\n",
              "      <td>0</td>\n",
              "      <td>0</td>\n",
              "      <td>0</td>\n",
              "      <td>0</td>\n",
              "    </tr>\n",
              "    <tr>\n",
              "      <th>4</th>\n",
              "      <td>0.634626</td>\n",
              "      <td>0.365374</td>\n",
              "      <td>0</td>\n",
              "      <td>0</td>\n",
              "      <td>0</td>\n",
              "      <td>0</td>\n",
              "      <td>1</td>\n",
              "    </tr>\n",
              "    <tr>\n",
              "      <th>...</th>\n",
              "      <td>...</td>\n",
              "      <td>...</td>\n",
              "      <td>...</td>\n",
              "      <td>...</td>\n",
              "      <td>...</td>\n",
              "      <td>...</td>\n",
              "      <td>...</td>\n",
              "    </tr>\n",
              "    <tr>\n",
              "      <th>8233</th>\n",
              "      <td>0.639672</td>\n",
              "      <td>0.360328</td>\n",
              "      <td>0</td>\n",
              "      <td>0</td>\n",
              "      <td>0</td>\n",
              "      <td>0</td>\n",
              "      <td>1</td>\n",
              "    </tr>\n",
              "    <tr>\n",
              "      <th>8234</th>\n",
              "      <td>0.797590</td>\n",
              "      <td>0.202410</td>\n",
              "      <td>0</td>\n",
              "      <td>0</td>\n",
              "      <td>0</td>\n",
              "      <td>0</td>\n",
              "      <td>0</td>\n",
              "    </tr>\n",
              "    <tr>\n",
              "      <th>8235</th>\n",
              "      <td>0.505650</td>\n",
              "      <td>0.494350</td>\n",
              "      <td>0</td>\n",
              "      <td>0</td>\n",
              "      <td>0</td>\n",
              "      <td>0</td>\n",
              "      <td>1</td>\n",
              "    </tr>\n",
              "    <tr>\n",
              "      <th>8236</th>\n",
              "      <td>0.677038</td>\n",
              "      <td>0.322962</td>\n",
              "      <td>0</td>\n",
              "      <td>0</td>\n",
              "      <td>0</td>\n",
              "      <td>0</td>\n",
              "      <td>1</td>\n",
              "    </tr>\n",
              "    <tr>\n",
              "      <th>8237</th>\n",
              "      <td>0.711651</td>\n",
              "      <td>0.288349</td>\n",
              "      <td>0</td>\n",
              "      <td>0</td>\n",
              "      <td>0</td>\n",
              "      <td>0</td>\n",
              "      <td>0</td>\n",
              "    </tr>\n",
              "  </tbody>\n",
              "</table>\n",
              "<p>8238 rows × 7 columns</p>\n",
              "</div>"
            ],
            "text/plain": [
              "        prob_0    prob_1  y_test_old  y_pred  max  filter  new_pred_list_old\n",
              "0     0.636637  0.363363           0       0    0       0                  1\n",
              "1     0.836790  0.163210           0       0    0       0                  0\n",
              "2     0.798479  0.201520           0       0    0       0                  0\n",
              "3     0.724177  0.275823           0       0    0       0                  0\n",
              "4     0.634626  0.365374           0       0    0       0                  1\n",
              "...        ...       ...         ...     ...  ...     ...                ...\n",
              "8233  0.639672  0.360328           0       0    0       0                  1\n",
              "8234  0.797590  0.202410           0       0    0       0                  0\n",
              "8235  0.505650  0.494350           0       0    0       0                  1\n",
              "8236  0.677038  0.322962           0       0    0       0                  1\n",
              "8237  0.711651  0.288349           0       0    0       0                  0\n",
              "\n",
              "[8238 rows x 7 columns]"
            ]
          },
          "metadata": {
            "tags": []
          },
          "execution_count": 113
        }
      ]
    },
    {
      "cell_type": "code",
      "metadata": {
        "colab": {
          "base_uri": "https://localhost:8080/"
        },
        "id": "oHCQdhUpAT7N",
        "outputId": "620f2798-bbac-4b75-ca4c-ef03b808b897"
      },
      "source": [
        "scoring_matrix(y_test_old,df_old_pred_list['new_pred_list_old'])"
      ],
      "execution_count": null,
      "outputs": [
        {
          "output_type": "stream",
          "text": [
            "accuracy:  0.5186938577324594\n",
            "precision:  0.17351107288755108\n",
            "recall:  0.8696120689655172\n",
            "f1:  0.28929915755511737\n",
            " \n"
          ],
          "name": "stdout"
        }
      ]
    },
    {
      "cell_type": "markdown",
      "metadata": {
        "id": "zTg53GQcdPX0"
      },
      "source": [
        "# Kesimpulan"
      ]
    },
    {
      "cell_type": "markdown",
      "metadata": {
        "id": "14yAbFbEuJUd"
      },
      "source": [
        "##Grafik Balance dataset without proba and Balance dataset with proba "
      ]
    },
    {
      "cell_type": "code",
      "metadata": {
        "colab": {
          "base_uri": "https://localhost:8080/",
          "height": 173
        },
        "id": "sDI6srWZuqlz",
        "outputId": "516cd2f6-f01c-4821-b49f-9ac7854bb4fe"
      },
      "source": [
        "new_df"
      ],
      "execution_count": null,
      "outputs": [
        {
          "output_type": "execute_result",
          "data": {
            "text/html": [
              "<div>\n",
              "<style scoped>\n",
              "    .dataframe tbody tr th:only-of-type {\n",
              "        vertical-align: middle;\n",
              "    }\n",
              "\n",
              "    .dataframe tbody tr th {\n",
              "        vertical-align: top;\n",
              "    }\n",
              "\n",
              "    .dataframe thead th {\n",
              "        text-align: right;\n",
              "    }\n",
              "</style>\n",
              "<table border=\"1\" class=\"dataframe\">\n",
              "  <thead>\n",
              "    <tr style=\"text-align: right;\">\n",
              "      <th></th>\n",
              "      <th>Scoring</th>\n",
              "      <th>Log</th>\n",
              "      <th>KNN</th>\n",
              "      <th>DT</th>\n",
              "      <th>RF</th>\n",
              "      <th>XG</th>\n",
              "    </tr>\n",
              "  </thead>\n",
              "  <tbody>\n",
              "    <tr>\n",
              "      <th>0</th>\n",
              "      <td>Accuracy</td>\n",
              "      <td>0.738685</td>\n",
              "      <td>0.708513</td>\n",
              "      <td>0.681573</td>\n",
              "      <td>0.726832</td>\n",
              "      <td>0.746228</td>\n",
              "    </tr>\n",
              "    <tr>\n",
              "      <th>1</th>\n",
              "      <td>Precision</td>\n",
              "      <td>0.804911</td>\n",
              "      <td>0.724971</td>\n",
              "      <td>0.700353</td>\n",
              "      <td>0.747381</td>\n",
              "      <td>0.822378</td>\n",
              "    </tr>\n",
              "    <tr>\n",
              "      <th>2</th>\n",
              "      <td>Recall</td>\n",
              "      <td>0.633047</td>\n",
              "      <td>0.675966</td>\n",
              "      <td>0.639485</td>\n",
              "      <td>0.688841</td>\n",
              "      <td>0.630901</td>\n",
              "    </tr>\n",
              "    <tr>\n",
              "      <th>3</th>\n",
              "      <td>f1_score</td>\n",
              "      <td>0.708709</td>\n",
              "      <td>0.699611</td>\n",
              "      <td>0.668536</td>\n",
              "      <td>0.716918</td>\n",
              "      <td>0.714026</td>\n",
              "    </tr>\n",
              "  </tbody>\n",
              "</table>\n",
              "</div>"
            ],
            "text/plain": [
              "     Scoring       Log       KNN        DT        RF        XG\n",
              "0   Accuracy  0.738685  0.708513  0.681573  0.726832  0.746228\n",
              "1  Precision  0.804911  0.724971  0.700353  0.747381  0.822378\n",
              "2     Recall  0.633047  0.675966  0.639485  0.688841  0.630901\n",
              "3   f1_score  0.708709  0.699611  0.668536  0.716918  0.714026"
            ]
          },
          "metadata": {
            "tags": []
          },
          "execution_count": 125
        }
      ]
    },
    {
      "cell_type": "code",
      "metadata": {
        "id": "sNFQC6kDuwTX",
        "colab": {
          "base_uri": "https://localhost:8080/"
        },
        "outputId": "3d5f8a45-5dd3-42e6-e453-0c6123ea6dfe"
      },
      "source": [
        "new_df_list = list(new_df['XG']) #without_proba_balance_data \n",
        "new_df_list"
      ],
      "execution_count": null,
      "outputs": [
        {
          "output_type": "execute_result",
          "data": {
            "text/plain": [
              "[0.7462284482758621, 0.8223776223776224, 0.630901287553648, 0.7140255009107468]"
            ]
          },
          "metadata": {
            "tags": []
          },
          "execution_count": 126
        }
      ]
    },
    {
      "cell_type": "code",
      "metadata": {
        "id": "fU_25hAFyuiN"
      },
      "source": [
        "def scoring_matrix_list(y_test_, y_test_predict_):\n",
        "    scoring_matrix_in_list = []\n",
        "\n",
        "    scoring_matrix_in_list.append(accuracy_score(y_test_, y_test_predict_))\n",
        "    scoring_matrix_in_list.append(precision_score(y_test_, y_test_predict_))\n",
        "    scoring_matrix_in_list.append(recall_score(y_test_, y_test_predict_))\n",
        "    scoring_matrix_in_list.append(f1_score(y_test_, y_test_predict_))\n",
        "    return scoring_matrix_in_list\n",
        "    #Menghitung score dengan menggunakan beberapa metode kemudian memasukkannya ke list"
      ],
      "execution_count": null,
      "outputs": []
    },
    {
      "cell_type": "code",
      "metadata": {
        "colab": {
          "base_uri": "https://localhost:8080/"
        },
        "id": "k4T5MrV2uceh",
        "outputId": "32390231-48b0-437a-8f5a-2f4d9256d796"
      },
      "source": [
        "scoring_list_without_imbalance_data= scoring_matrix_list(y_test,df_new_pred_list['new_pred_list'])\n",
        "scoring_list_without_imbalance_data"
      ],
      "execution_count": null,
      "outputs": [
        {
          "output_type": "execute_result",
          "data": {
            "text/plain": [
              "[0.6821120689655172,\n",
              " 0.6352848101265823,\n",
              " 0.8615879828326181,\n",
              " 0.7313296903460839]"
            ]
          },
          "metadata": {
            "tags": []
          },
          "execution_count": 128
        }
      ]
    },
    {
      "cell_type": "code",
      "metadata": {
        "colab": {
          "base_uri": "https://localhost:8080/",
          "height": 173
        },
        "id": "08ZZQKeovAWV",
        "outputId": "d3ad14d8-b7d4-41f0-fe10-8a4b929bdd79"
      },
      "source": [
        "df_1 = pd.DataFrame({'new_df_without_proba_balance_data':new_df_list,'scoring_list_with_proba_balance_data':scoring_list_without_imbalance_data})\n",
        "df_1"
      ],
      "execution_count": null,
      "outputs": [
        {
          "output_type": "execute_result",
          "data": {
            "text/html": [
              "<div>\n",
              "<style scoped>\n",
              "    .dataframe tbody tr th:only-of-type {\n",
              "        vertical-align: middle;\n",
              "    }\n",
              "\n",
              "    .dataframe tbody tr th {\n",
              "        vertical-align: top;\n",
              "    }\n",
              "\n",
              "    .dataframe thead th {\n",
              "        text-align: right;\n",
              "    }\n",
              "</style>\n",
              "<table border=\"1\" class=\"dataframe\">\n",
              "  <thead>\n",
              "    <tr style=\"text-align: right;\">\n",
              "      <th></th>\n",
              "      <th>new_df_without_proba_balance_data</th>\n",
              "      <th>scoring_list_with_proba_balance_data</th>\n",
              "    </tr>\n",
              "  </thead>\n",
              "  <tbody>\n",
              "    <tr>\n",
              "      <th>0</th>\n",
              "      <td>0.746228</td>\n",
              "      <td>0.682112</td>\n",
              "    </tr>\n",
              "    <tr>\n",
              "      <th>1</th>\n",
              "      <td>0.822378</td>\n",
              "      <td>0.635285</td>\n",
              "    </tr>\n",
              "    <tr>\n",
              "      <th>2</th>\n",
              "      <td>0.630901</td>\n",
              "      <td>0.861588</td>\n",
              "    </tr>\n",
              "    <tr>\n",
              "      <th>3</th>\n",
              "      <td>0.714026</td>\n",
              "      <td>0.731330</td>\n",
              "    </tr>\n",
              "  </tbody>\n",
              "</table>\n",
              "</div>"
            ],
            "text/plain": [
              "   new_df_without_proba_balance_data  scoring_list_with_proba_balance_data\n",
              "0                           0.746228                              0.682112\n",
              "1                           0.822378                              0.635285\n",
              "2                           0.630901                              0.861588\n",
              "3                           0.714026                              0.731330"
            ]
          },
          "metadata": {
            "tags": []
          },
          "execution_count": 129
        }
      ]
    },
    {
      "cell_type": "code",
      "metadata": {
        "id": "fdEZj_06vaBe"
      },
      "source": [
        "df_1['Acc_Score'] = ['Accuracy','Precision','Recall_Score','F1']"
      ],
      "execution_count": null,
      "outputs": []
    },
    {
      "cell_type": "code",
      "metadata": {
        "colab": {
          "base_uri": "https://localhost:8080/",
          "height": 173
        },
        "id": "uGoKONM7vjuA",
        "outputId": "f0372fa5-054f-426d-8c4d-1f8b7df03261"
      },
      "source": [
        "df_1"
      ],
      "execution_count": null,
      "outputs": [
        {
          "output_type": "execute_result",
          "data": {
            "text/html": [
              "<div>\n",
              "<style scoped>\n",
              "    .dataframe tbody tr th:only-of-type {\n",
              "        vertical-align: middle;\n",
              "    }\n",
              "\n",
              "    .dataframe tbody tr th {\n",
              "        vertical-align: top;\n",
              "    }\n",
              "\n",
              "    .dataframe thead th {\n",
              "        text-align: right;\n",
              "    }\n",
              "</style>\n",
              "<table border=\"1\" class=\"dataframe\">\n",
              "  <thead>\n",
              "    <tr style=\"text-align: right;\">\n",
              "      <th></th>\n",
              "      <th>new_df_without_proba_balance_data</th>\n",
              "      <th>scoring_list_with_proba_balance_data</th>\n",
              "      <th>Acc_Score</th>\n",
              "    </tr>\n",
              "  </thead>\n",
              "  <tbody>\n",
              "    <tr>\n",
              "      <th>0</th>\n",
              "      <td>0.746228</td>\n",
              "      <td>0.682112</td>\n",
              "      <td>Accuracy</td>\n",
              "    </tr>\n",
              "    <tr>\n",
              "      <th>1</th>\n",
              "      <td>0.822378</td>\n",
              "      <td>0.635285</td>\n",
              "      <td>Precision</td>\n",
              "    </tr>\n",
              "    <tr>\n",
              "      <th>2</th>\n",
              "      <td>0.630901</td>\n",
              "      <td>0.861588</td>\n",
              "      <td>Recall_Score</td>\n",
              "    </tr>\n",
              "    <tr>\n",
              "      <th>3</th>\n",
              "      <td>0.714026</td>\n",
              "      <td>0.731330</td>\n",
              "      <td>F1</td>\n",
              "    </tr>\n",
              "  </tbody>\n",
              "</table>\n",
              "</div>"
            ],
            "text/plain": [
              "   new_df_without_proba_balance_data  ...     Acc_Score\n",
              "0                           0.746228  ...      Accuracy\n",
              "1                           0.822378  ...     Precision\n",
              "2                           0.630901  ...  Recall_Score\n",
              "3                           0.714026  ...            F1\n",
              "\n",
              "[4 rows x 3 columns]"
            ]
          },
          "metadata": {
            "tags": []
          },
          "execution_count": 131
        }
      ]
    },
    {
      "cell_type": "code",
      "metadata": {
        "colab": {
          "base_uri": "https://localhost:8080/",
          "height": 416
        },
        "id": "qGU4eBCNvlnC",
        "outputId": "d766da80-fa0e-4794-a319-e5e15056995c"
      },
      "source": [
        "plt.figure(figsize=(35, 20))\n",
        "plt.subplot(3,3,1)\n",
        "sns.lineplot(data=df_1,x='Acc_Score',y='new_df_without_proba_balance_data')\n",
        "sns.lineplot(data=df_1,x='Acc_Score',y='scoring_list_with_proba_balance_data')\n",
        "plt.xlabel('Method')\n",
        "plt.ylabel('Score')\n",
        "plt.legend(['without_proba_balanced_data','with_proba_balanced_data'])\n",
        "plt.title('Scoring')"
      ],
      "execution_count": null,
      "outputs": [
        {
          "output_type": "execute_result",
          "data": {
            "text/plain": [
              "Text(0.5, 1.0, 'Scoring')"
            ]
          },
          "metadata": {
            "tags": []
          },
          "execution_count": 132
        },
        {
          "output_type": "display_data",
          "data": {
            "image/png": "[encoded data removed]",
            "text/plain": [
              "<Figure size 2520x1440 with 1 Axes>"
            ]
          },
          "metadata": {
            "tags": [],
            "needs_background": "light"
          }
        }
      ]
    },
    {
      "cell_type": "markdown",
      "metadata": {
        "id": "mnXN5DhjYDkv"
      },
      "source": [
        "Grafik berikut menggambarkan perbandingan nilai score per method evaluationn terhadap balance data dengan menggunakan tuning manual (with proba) dan tanpa tuning manual (without proba) disini terlihat bahwa setelah tuning manual terdapat trade of antara nilai precision dengan recall score "
      ]
    },
    {
      "cell_type": "markdown",
      "metadata": {
        "id": "GbG4zNiLtrx-"
      },
      "source": [
        "##Grafik Raw Dataset without proba and Imbalance Dataset with proba"
      ]
    },
    {
      "cell_type": "code",
      "metadata": {
        "id": "UY3sfuhDyrYB"
      },
      "source": [
        "def scoring_matrix_list(y_test_, y_test_predict_):\n",
        "    scoring_matrix_in_list = []\n",
        "\n",
        "    scoring_matrix_in_list.append(accuracy_score(y_test_, y_test_predict_))\n",
        "    scoring_matrix_in_list.append(precision_score(y_test_, y_test_predict_))\n",
        "    scoring_matrix_in_list.append(recall_score(y_test_, y_test_predict_))\n",
        "    scoring_matrix_in_list.append(f1_score(y_test_, y_test_predict_))\n",
        "    return scoring_matrix_in_list"
      ],
      "execution_count": null,
      "outputs": []
    },
    {
      "cell_type": "code",
      "metadata": {
        "colab": {
          "base_uri": "https://localhost:8080/",
          "height": 173
        },
        "id": "bo4OZLBCugqn",
        "outputId": "c938a669-16e1-43bf-f0ac-ebb0b0272480"
      },
      "source": [
        "old_df"
      ],
      "execution_count": null,
      "outputs": [
        {
          "output_type": "execute_result",
          "data": {
            "text/html": [
              "<div>\n",
              "<style scoped>\n",
              "    .dataframe tbody tr th:only-of-type {\n",
              "        vertical-align: middle;\n",
              "    }\n",
              "\n",
              "    .dataframe tbody tr th {\n",
              "        vertical-align: top;\n",
              "    }\n",
              "\n",
              "    .dataframe thead th {\n",
              "        text-align: right;\n",
              "    }\n",
              "</style>\n",
              "<table border=\"1\" class=\"dataframe\">\n",
              "  <thead>\n",
              "    <tr style=\"text-align: right;\">\n",
              "      <th></th>\n",
              "      <th>Scoring</th>\n",
              "      <th>Log</th>\n",
              "      <th>KNN</th>\n",
              "      <th>DT</th>\n",
              "      <th>RF</th>\n",
              "      <th>XG</th>\n",
              "    </tr>\n",
              "  </thead>\n",
              "  <tbody>\n",
              "    <tr>\n",
              "      <th>0</th>\n",
              "      <td>Accuracy</td>\n",
              "      <td>0.820588</td>\n",
              "      <td>0.742656</td>\n",
              "      <td>0.743991</td>\n",
              "      <td>0.771304</td>\n",
              "      <td>0.841831</td>\n",
              "    </tr>\n",
              "    <tr>\n",
              "      <th>1</th>\n",
              "      <td>Precision</td>\n",
              "      <td>0.338615</td>\n",
              "      <td>0.267732</td>\n",
              "      <td>0.284568</td>\n",
              "      <td>0.314152</td>\n",
              "      <td>0.376888</td>\n",
              "    </tr>\n",
              "    <tr>\n",
              "      <th>2</th>\n",
              "      <td>Recall</td>\n",
              "      <td>0.621767</td>\n",
              "      <td>0.740302</td>\n",
              "      <td>0.840517</td>\n",
              "      <td>0.870690</td>\n",
              "      <td>0.618534</td>\n",
              "    </tr>\n",
              "    <tr>\n",
              "      <th>3</th>\n",
              "      <td>f1_score</td>\n",
              "      <td>0.438450</td>\n",
              "      <td>0.393246</td>\n",
              "      <td>0.425184</td>\n",
              "      <td>0.461714</td>\n",
              "      <td>0.468380</td>\n",
              "    </tr>\n",
              "  </tbody>\n",
              "</table>\n",
              "</div>"
            ],
            "text/plain": [
              "     Scoring       Log       KNN        DT        RF        XG\n",
              "0   Accuracy  0.820588  0.742656  0.743991  0.771304  0.841831\n",
              "1  Precision  0.338615  0.267732  0.284568  0.314152  0.376888\n",
              "2     Recall  0.621767  0.740302  0.840517  0.870690  0.618534\n",
              "3   f1_score  0.438450  0.393246  0.425184  0.461714  0.468380"
            ]
          },
          "metadata": {
            "tags": []
          },
          "execution_count": 134
        }
      ]
    },
    {
      "cell_type": "code",
      "metadata": {
        "colab": {
          "base_uri": "https://localhost:8080/"
        },
        "id": "ilMRze8kw1NJ",
        "outputId": "cb508025-344b-4f6e-da7a-a8f2a2adc684"
      },
      "source": [
        "old_df_list = list(old_df['XG']) #without_proba_imbalance_data\n",
        "old_df_list"
      ],
      "execution_count": null,
      "outputs": [
        {
          "output_type": "execute_result",
          "data": {
            "text/plain": [
              "[0.8418305413935421,\n",
              " 0.3768877216021011,\n",
              " 0.6185344827586207,\n",
              " 0.46838025295797636]"
            ]
          },
          "metadata": {
            "tags": []
          },
          "execution_count": 135
        }
      ]
    },
    {
      "cell_type": "code",
      "metadata": {
        "colab": {
          "base_uri": "https://localhost:8080/"
        },
        "id": "bcNdIZO0uIUB",
        "outputId": "6366f798-0452-4297-d021-3a25997daa33"
      },
      "source": [
        "with_proba_imbalance_data = scoring_matrix_list(y_test_old,df_old_pred_list['new_pred_list_old'])\n",
        "with_proba_imbalance_data"
      ],
      "execution_count": null,
      "outputs": [
        {
          "output_type": "execute_result",
          "data": {
            "text/plain": [
              "[0.5186938577324594,\n",
              " 0.17351107288755108,\n",
              " 0.8696120689655172,\n",
              " 0.28929915755511737]"
            ]
          },
          "metadata": {
            "tags": []
          },
          "execution_count": 136
        }
      ]
    },
    {
      "cell_type": "code",
      "metadata": {
        "colab": {
          "base_uri": "https://localhost:8080/",
          "height": 173
        },
        "id": "MunQEIq2xLI8",
        "outputId": "d498a1c7-acf8-4c13-f252-40cd27517346"
      },
      "source": [
        "df_2 = pd.DataFrame({'new_df_without_proba_imbalance_data':old_df_list,'scoring_list_with_proba_imbalance_data':with_proba_imbalance_data})\n",
        "df_2"
      ],
      "execution_count": null,
      "outputs": [
        {
          "output_type": "execute_result",
          "data": {
            "text/html": [
              "<div>\n",
              "<style scoped>\n",
              "    .dataframe tbody tr th:only-of-type {\n",
              "        vertical-align: middle;\n",
              "    }\n",
              "\n",
              "    .dataframe tbody tr th {\n",
              "        vertical-align: top;\n",
              "    }\n",
              "\n",
              "    .dataframe thead th {\n",
              "        text-align: right;\n",
              "    }\n",
              "</style>\n",
              "<table border=\"1\" class=\"dataframe\">\n",
              "  <thead>\n",
              "    <tr style=\"text-align: right;\">\n",
              "      <th></th>\n",
              "      <th>new_df_without_proba_imbalance_data</th>\n",
              "      <th>scoring_list_with_proba_imbalance_data</th>\n",
              "    </tr>\n",
              "  </thead>\n",
              "  <tbody>\n",
              "    <tr>\n",
              "      <th>0</th>\n",
              "      <td>0.841831</td>\n",
              "      <td>0.518694</td>\n",
              "    </tr>\n",
              "    <tr>\n",
              "      <th>1</th>\n",
              "      <td>0.376888</td>\n",
              "      <td>0.173511</td>\n",
              "    </tr>\n",
              "    <tr>\n",
              "      <th>2</th>\n",
              "      <td>0.618534</td>\n",
              "      <td>0.869612</td>\n",
              "    </tr>\n",
              "    <tr>\n",
              "      <th>3</th>\n",
              "      <td>0.468380</td>\n",
              "      <td>0.289299</td>\n",
              "    </tr>\n",
              "  </tbody>\n",
              "</table>\n",
              "</div>"
            ],
            "text/plain": [
              "   new_df_without_proba_imbalance_data  scoring_list_with_proba_imbalance_data\n",
              "0                             0.841831                                0.518694\n",
              "1                             0.376888                                0.173511\n",
              "2                             0.618534                                0.869612\n",
              "3                             0.468380                                0.289299"
            ]
          },
          "metadata": {
            "tags": []
          },
          "execution_count": 137
        }
      ]
    },
    {
      "cell_type": "code",
      "metadata": {
        "colab": {
          "base_uri": "https://localhost:8080/",
          "height": 173
        },
        "id": "V_82U6Qlx6FH",
        "outputId": "10ab845a-fa01-4a48-aff0-8ce7e8321344"
      },
      "source": [
        "df_2['Acc_Score'] = ['Accuracy','Precision','Recall_Score','F1']\n",
        "df_2"
      ],
      "execution_count": null,
      "outputs": [
        {
          "output_type": "execute_result",
          "data": {
            "text/html": [
              "<div>\n",
              "<style scoped>\n",
              "    .dataframe tbody tr th:only-of-type {\n",
              "        vertical-align: middle;\n",
              "    }\n",
              "\n",
              "    .dataframe tbody tr th {\n",
              "        vertical-align: top;\n",
              "    }\n",
              "\n",
              "    .dataframe thead th {\n",
              "        text-align: right;\n",
              "    }\n",
              "</style>\n",
              "<table border=\"1\" class=\"dataframe\">\n",
              "  <thead>\n",
              "    <tr style=\"text-align: right;\">\n",
              "      <th></th>\n",
              "      <th>new_df_without_proba_imbalance_data</th>\n",
              "      <th>scoring_list_with_proba_imbalance_data</th>\n",
              "      <th>Acc_Score</th>\n",
              "    </tr>\n",
              "  </thead>\n",
              "  <tbody>\n",
              "    <tr>\n",
              "      <th>0</th>\n",
              "      <td>0.841831</td>\n",
              "      <td>0.518694</td>\n",
              "      <td>Accuracy</td>\n",
              "    </tr>\n",
              "    <tr>\n",
              "      <th>1</th>\n",
              "      <td>0.376888</td>\n",
              "      <td>0.173511</td>\n",
              "      <td>Precision</td>\n",
              "    </tr>\n",
              "    <tr>\n",
              "      <th>2</th>\n",
              "      <td>0.618534</td>\n",
              "      <td>0.869612</td>\n",
              "      <td>Recall_Score</td>\n",
              "    </tr>\n",
              "    <tr>\n",
              "      <th>3</th>\n",
              "      <td>0.468380</td>\n",
              "      <td>0.289299</td>\n",
              "      <td>F1</td>\n",
              "    </tr>\n",
              "  </tbody>\n",
              "</table>\n",
              "</div>"
            ],
            "text/plain": [
              "   new_df_without_proba_imbalance_data  ...     Acc_Score\n",
              "0                             0.841831  ...      Accuracy\n",
              "1                             0.376888  ...     Precision\n",
              "2                             0.618534  ...  Recall_Score\n",
              "3                             0.468380  ...            F1\n",
              "\n",
              "[4 rows x 3 columns]"
            ]
          },
          "metadata": {
            "tags": []
          },
          "execution_count": 138
        }
      ]
    },
    {
      "cell_type": "code",
      "metadata": {
        "colab": {
          "base_uri": "https://localhost:8080/",
          "height": 416
        },
        "id": "lfSTRWAnwzgM",
        "outputId": "0fe02935-af22-4fe8-dc4f-29fbbc433510"
      },
      "source": [
        "plt.figure(figsize=(35, 20))\n",
        "plt.subplot(3,3,1)\n",
        "sns.lineplot(data=df_2,x='Acc_Score',y='new_df_without_proba_imbalance_data')\n",
        "sns.lineplot(data=df_2,x='Acc_Score',y='scoring_list_with_proba_imbalance_data')\n",
        "plt.xlabel('Method')\n",
        "plt.ylabel('Score')\n",
        "plt.legend(['without_proba_imbalanced_data','with_proba_imbalanced_data'])\n",
        "plt.title('Scoring')"
      ],
      "execution_count": null,
      "outputs": [
        {
          "output_type": "execute_result",
          "data": {
            "text/plain": [
              "Text(0.5, 1.0, 'Scoring')"
            ]
          },
          "metadata": {
            "tags": []
          },
          "execution_count": 139
        },
        {
          "output_type": "display_data",
          "data": {
            "image/png": "[encoded data removed]",
            "text/plain": [
              "<Figure size 2520x1440 with 1 Axes>"
            ]
          },
          "metadata": {
            "tags": [],
            "needs_background": "light"
          }
        }
      ]
    },
    {
      "cell_type": "markdown",
      "metadata": {
        "id": "vsUQaKT6XhDh"
      },
      "source": [
        "Grafik berikut menggambarkan perbandingan scoring method dari data imbalance yang menggunakan tuning manual (with proba) dan yang tidak (without proba) selain terlihat bahwa  trade of antara nilai precision dengan recall score setelah tuning data, grafik ini juga menunjukkan beberapa metode mempunyai score yang lebih kontras dibandingkan grafik balance data dikarenakan dataset yang digunakan pada grafik ini bersifat imbalanced"
      ]
    },
    {
      "cell_type": "markdown",
      "metadata": {
        "id": "7IjcigM2nzsV"
      },
      "source": [
        "##Grafik Score Data Imbalance with proba dan Raw Data with proba"
      ]
    },
    {
      "cell_type": "code",
      "metadata": {
        "id": "gzIzOXNxpjLB"
      },
      "source": [
        "def scoring_matrix_list(y_test_, y_test_predict_):\n",
        "    scoring_matrix_in_list = []\n",
        "\n",
        "    scoring_matrix_in_list.append(accuracy_score(y_test_, y_test_predict_))\n",
        "    scoring_matrix_in_list.append(precision_score(y_test_, y_test_predict_))\n",
        "    scoring_matrix_in_list.append(recall_score(y_test_, y_test_predict_))\n",
        "    scoring_matrix_in_list.append(f1_score(y_test_, y_test_predict_))\n",
        "    return scoring_matrix_in_list"
      ],
      "execution_count": null,
      "outputs": []
    },
    {
      "cell_type": "code",
      "metadata": {
        "colab": {
          "base_uri": "https://localhost:8080/"
        },
        "id": "PZb0rSh3oeNz",
        "outputId": "96ac6e2c-e4a3-4692-d81c-29972eca005d"
      },
      "source": [
        "scoring_list_with_imbalance_data= scoring_matrix_list(y_test,df_new_pred_list['new_pred_list'])\n",
        "scoring_list_with_imbalance_data"
      ],
      "execution_count": null,
      "outputs": [
        {
          "output_type": "execute_result",
          "data": {
            "text/plain": [
              "[0.6821120689655172,\n",
              " 0.6352848101265823,\n",
              " 0.8615879828326181,\n",
              " 0.7313296903460839]"
            ]
          },
          "metadata": {
            "tags": []
          },
          "execution_count": 141
        }
      ]
    },
    {
      "cell_type": "code",
      "metadata": {
        "colab": {
          "base_uri": "https://localhost:8080/"
        },
        "id": "BAQDOHVsoYpj",
        "outputId": "56ffe8ab-ca0f-4e91-c07a-e4f392f3e173"
      },
      "source": [
        "scoring_list_without_imbalance_data= scoring_matrix_list(y_test_old,df_old_pred_list['new_pred_list_old'])\n",
        "scoring_list_without_imbalance_data"
      ],
      "execution_count": null,
      "outputs": [
        {
          "output_type": "execute_result",
          "data": {
            "text/plain": [
              "[0.5186938577324594,\n",
              " 0.17351107288755108,\n",
              " 0.8696120689655172,\n",
              " 0.28929915755511737]"
            ]
          },
          "metadata": {
            "tags": []
          },
          "execution_count": 142
        }
      ]
    },
    {
      "cell_type": "code",
      "metadata": {
        "id": "eCjsNDKEpBXn"
      },
      "source": [
        "dataframe_before_after_scoring = pd.DataFrame({'scoring_list_with_imbalance_data': scoring_list_with_imbalance_data,'scoring_list_without_imbalance_data':scoring_list_without_imbalance_data})"
      ],
      "execution_count": null,
      "outputs": []
    },
    {
      "cell_type": "code",
      "metadata": {
        "id": "I-prgsP0pB1T"
      },
      "source": [
        "dataframe_before_after_scoring['Acc_Score'] = ['Accuracy','Precision','Recall_Score','F1']"
      ],
      "execution_count": null,
      "outputs": []
    },
    {
      "cell_type": "code",
      "metadata": {
        "colab": {
          "base_uri": "https://localhost:8080/",
          "height": 173
        },
        "id": "4bKvJbfArkuI",
        "outputId": "ad8df364-b7c2-4b3b-9100-7a9715d49c8b"
      },
      "source": [
        "dataframe_before_after_scoring"
      ],
      "execution_count": null,
      "outputs": [
        {
          "output_type": "execute_result",
          "data": {
            "text/html": [
              "<div>\n",
              "<style scoped>\n",
              "    .dataframe tbody tr th:only-of-type {\n",
              "        vertical-align: middle;\n",
              "    }\n",
              "\n",
              "    .dataframe tbody tr th {\n",
              "        vertical-align: top;\n",
              "    }\n",
              "\n",
              "    .dataframe thead th {\n",
              "        text-align: right;\n",
              "    }\n",
              "</style>\n",
              "<table border=\"1\" class=\"dataframe\">\n",
              "  <thead>\n",
              "    <tr style=\"text-align: right;\">\n",
              "      <th></th>\n",
              "      <th>scoring_list_with_imbalance_data</th>\n",
              "      <th>scoring_list_without_imbalance_data</th>\n",
              "      <th>Acc_Score</th>\n",
              "    </tr>\n",
              "  </thead>\n",
              "  <tbody>\n",
              "    <tr>\n",
              "      <th>0</th>\n",
              "      <td>0.682112</td>\n",
              "      <td>0.518694</td>\n",
              "      <td>Accuracy</td>\n",
              "    </tr>\n",
              "    <tr>\n",
              "      <th>1</th>\n",
              "      <td>0.635285</td>\n",
              "      <td>0.173511</td>\n",
              "      <td>Precision</td>\n",
              "    </tr>\n",
              "    <tr>\n",
              "      <th>2</th>\n",
              "      <td>0.861588</td>\n",
              "      <td>0.869612</td>\n",
              "      <td>Recall_Score</td>\n",
              "    </tr>\n",
              "    <tr>\n",
              "      <th>3</th>\n",
              "      <td>0.731330</td>\n",
              "      <td>0.289299</td>\n",
              "      <td>F1</td>\n",
              "    </tr>\n",
              "  </tbody>\n",
              "</table>\n",
              "</div>"
            ],
            "text/plain": [
              "   scoring_list_with_imbalance_data  ...     Acc_Score\n",
              "0                          0.682112  ...      Accuracy\n",
              "1                          0.635285  ...     Precision\n",
              "2                          0.861588  ...  Recall_Score\n",
              "3                          0.731330  ...            F1\n",
              "\n",
              "[4 rows x 3 columns]"
            ]
          },
          "metadata": {
            "tags": []
          },
          "execution_count": 145
        }
      ]
    },
    {
      "cell_type": "code",
      "metadata": {
        "colab": {
          "base_uri": "https://localhost:8080/",
          "height": 416
        },
        "id": "yc_B_MbMoubI",
        "outputId": "b8316197-d668-495c-d924-6354ba0abfb9"
      },
      "source": [
        "plt.figure(figsize=(35, 20))\n",
        "plt.subplot(3,3,1)\n",
        "sns.lineplot(data=dataframe_before_after_scoring,x='Acc_Score',y='scoring_list_with_imbalance_data')\n",
        "sns.lineplot(data=dataframe_before_after_scoring,x='Acc_Score',y='scoring_list_without_imbalance_data')\n",
        "plt.xlabel('Method')\n",
        "plt.ylabel('Score')\n",
        "plt.legend(['scoring_with_imbalance_data','scoring_without_imbalance_data'])\n",
        "plt.title('Scoring')"
      ],
      "execution_count": null,
      "outputs": [
        {
          "output_type": "execute_result",
          "data": {
            "text/plain": [
              "Text(0.5, 1.0, 'Scoring')"
            ]
          },
          "metadata": {
            "tags": []
          },
          "execution_count": 146
        },
        {
          "output_type": "display_data",
          "data": {
            "image/png": "[encoded data removed]",
            "text/plain": [
              "<Figure size 2520x1440 with 1 Axes>"
            ]
          },
          "metadata": {
            "tags": [],
            "needs_background": "light"
          }
        }
      ]
    },
    {
      "cell_type": "markdown",
      "metadata": {
        "id": "EozbGlAsWcj2"
      },
      "source": [
        "Grafik berikut menggambarkan score yang didapat menggunakan model yang telah di tuning manual dan di jalankan pada data imbalance dan balance dataset, disini terlihat bahwa recall score menjadi metode evaluation tertingggi akibat tuning manual yang telah dilakukan."
      ]
    }
  ]
}